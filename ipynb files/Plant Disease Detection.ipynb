{
 "cells": [
  {
   "cell_type": "code",
   "execution_count": 1,
   "metadata": {
    "colab": {
     "base_uri": "https://localhost:8080/"
    },
    "executionInfo": {
     "elapsed": 897,
     "status": "ok",
     "timestamp": 1605991378292,
     "user": {
      "displayName": "waqas bilal",
      "photoUrl": "",
      "userId": "09992051305956338150"
     },
     "user_tz": -300
    },
    "id": "nJWXXJD4wRYN",
    "outputId": "79b253fd-d0e1-469a-b5fe-54cbc38b39c5"
   },
   "outputs": [
    {
     "name": "stdout",
     "output_type": "stream",
     "text": [
      "Sat Nov 21 20:42:58 2020       \n",
      "+-----------------------------------------------------------------------------+\n",
      "| NVIDIA-SMI 455.38       Driver Version: 418.67       CUDA Version: 10.1     |\n",
      "|-------------------------------+----------------------+----------------------+\n",
      "| GPU  Name        Persistence-M| Bus-Id        Disp.A | Volatile Uncorr. ECC |\n",
      "| Fan  Temp  Perf  Pwr:Usage/Cap|         Memory-Usage | GPU-Util  Compute M. |\n",
      "|                               |                      |               MIG M. |\n",
      "|===============================+======================+======================|\n",
      "|   0  Tesla T4            Off  | 00000000:00:04.0 Off |                    0 |\n",
      "| N/A   47C    P8     9W /  70W |      0MiB / 15079MiB |      0%      Default |\n",
      "|                               |                      |                 ERR! |\n",
      "+-------------------------------+----------------------+----------------------+\n",
      "                                                                               \n",
      "+-----------------------------------------------------------------------------+\n",
      "| Processes:                                                                  |\n",
      "|  GPU   GI   CI        PID   Type   Process name                  GPU Memory |\n",
      "|        ID   ID                                                   Usage      |\n",
      "|=============================================================================|\n",
      "|  No running processes found                                                 |\n",
      "+-----------------------------------------------------------------------------+\n"
     ]
    }
   ],
   "source": [
    "!nvidia-smi"
   ]
  },
  {
   "cell_type": "code",
   "execution_count": 2,
   "metadata": {
    "executionInfo": {
     "elapsed": 2809,
     "status": "ok",
     "timestamp": 1605991380209,
     "user": {
      "displayName": "waqas bilal",
      "photoUrl": "",
      "userId": "09992051305956338150"
     },
     "user_tz": -300
    },
    "id": "aYEERXbswtDM"
   },
   "outputs": [],
   "source": [
    "import keras\n",
    "from keras.preprocessing.image import ImageDataGenerator\n",
    "from keras.optimizers import Adam\n",
    "import matplotlib.pyplot as plt \n",
    "from keras.callbacks import ModelCheckpoint\n",
    "from keras.layers import Conv2D"
   ]
  },
  {
   "cell_type": "code",
   "execution_count": 3,
   "metadata": {
    "executionInfo": {
     "elapsed": 2817,
     "status": "ok",
     "timestamp": 1605991380221,
     "user": {
      "displayName": "waqas bilal",
      "photoUrl": "",
      "userId": "09992051305956338150"
     },
     "user_tz": -300
    },
    "id": "7r6Vw9vDwxpC"
   },
   "outputs": [],
   "source": [
    "test_data_path=\"/content/drive/MyDrive/Various Plant Disesse Detection Prediction Limited Data/test\"\n",
    "train_data_path=\"/content/drive/MyDrive/Various Plant Disesse Detection Prediction Limited Data/train\"\n",
    "val_data_path=\"/content/drive/MyDrive/Various Plant Disesse Detection Prediction Limited Data/val\""
   ]
  },
  {
   "cell_type": "code",
   "execution_count": 4,
   "metadata": {
    "executionInfo": {
     "elapsed": 2818,
     "status": "ok",
     "timestamp": 1605991380225,
     "user": {
      "displayName": "waqas bilal",
      "photoUrl": "",
      "userId": "09992051305956338150"
     },
     "user_tz": -300
    },
    "id": "4y54wM6dw1NH"
   },
   "outputs": [],
   "source": [
    "training_datagen = ImageDataGenerator(rescale=1./255,\n",
    "                                      rotation_range=40,\n",
    "                                      width_shift_range=0.2,\n",
    "                                      height_shift_range=0.2,\n",
    "                                      shear_range=0.2,\n",
    "                                      zoom_range=0.2,\n",
    "                                      horizontal_flip=True,\n",
    "                                      fill_mode='nearest',\n",
    "                                      )"
   ]
  },
  {
   "cell_type": "code",
   "execution_count": 5,
   "metadata": {
    "colab": {
     "base_uri": "https://localhost:8080/"
    },
    "executionInfo": {
     "elapsed": 6143,
     "status": "ok",
     "timestamp": 1605991383602,
     "user": {
      "displayName": "waqas bilal",
      "photoUrl": "",
      "userId": "09992051305956338150"
     },
     "user_tz": -300
    },
    "id": "sAcUB5L1w4eb",
    "outputId": "9bf42cc5-6c36-47ab-f20c-e3a161be34da"
   },
   "outputs": [
    {
     "name": "stdout",
     "output_type": "stream",
     "text": [
      "Found 5537 images belonging to 19 classes.\n"
     ]
    }
   ],
   "source": [
    "train_data=training_datagen.flow_from_directory(train_data_path,target_size=(150,150),class_mode='binary',batch_size=32)"
   ]
  },
  {
   "cell_type": "code",
   "execution_count": 6,
   "metadata": {
    "colab": {
     "base_uri": "https://localhost:8080/"
    },
    "executionInfo": {
     "elapsed": 6132,
     "status": "ok",
     "timestamp": 1605991383604,
     "user": {
      "displayName": "waqas bilal",
      "photoUrl": "",
      "userId": "09992051305956338150"
     },
     "user_tz": -300
    },
    "id": "zW3LDXuew7oh",
    "outputId": "6efe7f4a-dd5b-4920-82b0-da3c93d7782a"
   },
   "outputs": [
    {
     "data": {
      "text/plain": [
       "{'Pepper__bell___Bacterial_spot': 0,\n",
       " 'Pepper__bell___healthy': 1,\n",
       " 'Potato___Early_blight': 2,\n",
       " 'Potato___Late_blight': 3,\n",
       " 'Potato___healthy': 4,\n",
       " 'Tomato_Bacterial_spot': 5,\n",
       " 'Tomato_Early_blight': 6,\n",
       " 'Tomato_Late_blight': 7,\n",
       " 'Tomato_Leaf_Mold': 8,\n",
       " 'Tomato_Septoria_leaf_spot': 9,\n",
       " 'Tomato_Spider_mites_Two_spotted_spider_mite': 10,\n",
       " 'Tomato__Target_Spot': 11,\n",
       " 'Tomato__Tomato_YellowLeaf__Curl_Virus': 12,\n",
       " 'Tomato__Tomato_mosaic_virus': 13,\n",
       " 'Tomato_healthy': 14,\n",
       " 'diseased cotton leaf': 15,\n",
       " 'diseased cotton plant': 16,\n",
       " 'fresh cotton leaf': 17,\n",
       " 'fresh cotton plant': 18}"
      ]
     },
     "execution_count": 6,
     "metadata": {
      "tags": []
     },
     "output_type": "execute_result"
    }
   ],
   "source": [
    "train_data.class_indices"
   ]
  },
  {
   "cell_type": "code",
   "execution_count": 7,
   "metadata": {
    "executionInfo": {
     "elapsed": 6132,
     "status": "ok",
     "timestamp": 1605991383606,
     "user": {
      "displayName": "waqas bilal",
      "photoUrl": "",
      "userId": "09992051305956338150"
     },
     "user_tz": -300
    },
    "id": "irxfbL-fw-5i"
   },
   "outputs": [],
   "source": [
    "val_datagen=ImageDataGenerator(rescale=1/255)"
   ]
  },
  {
   "cell_type": "code",
   "execution_count": 8,
   "metadata": {
    "colab": {
     "base_uri": "https://localhost:8080/"
    },
    "executionInfo": {
     "elapsed": 7606,
     "status": "ok",
     "timestamp": 1605991385093,
     "user": {
      "displayName": "waqas bilal",
      "photoUrl": "",
      "userId": "09992051305956338150"
     },
     "user_tz": -300
    },
    "id": "NvbyK3WixBj6",
    "outputId": "32c20ee7-3d21-4773-be2f-675453d122c8"
   },
   "outputs": [
    {
     "name": "stdout",
     "output_type": "stream",
     "text": [
      "Found 1446 images belonging to 19 classes.\n"
     ]
    }
   ],
   "source": [
    "val_data=val_datagen.flow_from_directory(val_data_path,target_size=(150,150),class_mode='binary',batch_size=32)"
   ]
  },
  {
   "cell_type": "code",
   "execution_count": 9,
   "metadata": {
    "executionInfo": {
     "elapsed": 7607,
     "status": "ok",
     "timestamp": 1605991385097,
     "user": {
      "displayName": "waqas bilal",
      "photoUrl": "",
      "userId": "09992051305956338150"
     },
     "user_tz": -300
    },
    "id": "osVi9voOxEEi"
   },
   "outputs": [],
   "source": [
    "def plot_images(images):\n",
    "  fig,axes=plt.subplots(1,5,figsize=(20,20))\n",
    "  axes=axes.flatten()\n",
    "  for ax,img in zip(axes,images):\n",
    "    ax.imshow(img)"
   ]
  },
  {
   "cell_type": "code",
   "execution_count": 10,
   "metadata": {
    "executionInfo": {
     "elapsed": 23176,
     "status": "ok",
     "timestamp": 1605991400670,
     "user": {
      "displayName": "waqas bilal",
      "photoUrl": "",
      "userId": "09992051305956338150"
     },
     "user_tz": -300
    },
    "id": "pidJMfeFxG8q"
   },
   "outputs": [],
   "source": [
    "images=[train_data[0][0][0] for i in range(5)]"
   ]
  },
  {
   "cell_type": "code",
   "execution_count": 11,
   "metadata": {
    "colab": {
     "base_uri": "https://localhost:8080/",
     "height": 182
    },
    "executionInfo": {
     "elapsed": 24472,
     "status": "ok",
     "timestamp": 1605991401981,
     "user": {
      "displayName": "waqas bilal",
      "photoUrl": "",
      "userId": "09992051305956338150"
     },
     "user_tz": -300
    },
    "id": "rSs9kI2jxJUZ",
    "outputId": "37c978c1-acd4-4a3b-9ff2-f5d920e64af6"
   },
   "outputs": [
    {
     "data": {
      "image/png": "[encoded data removed]",
      "text/plain": [
       "<Figure size 1440x1440 with 5 Axes>"
      ]
     },
     "metadata": {
      "needs_background": "light",
      "tags": []
     },
     "output_type": "display_data"
    }
   ],
   "source": [
    "plot_images(images)"
   ]
  },
  {
   "cell_type": "code",
   "execution_count": 12,
   "metadata": {
    "executionInfo": {
     "elapsed": 24470,
     "status": "ok",
     "timestamp": 1605991401983,
     "user": {
      "displayName": "waqas bilal",
      "photoUrl": "",
      "userId": "09992051305956338150"
     },
     "user_tz": -300
    },
    "id": "0EXWjVCyxLad"
   },
   "outputs": [],
   "source": [
    "model_path=\"/content/drive/MyDrive/PLANT DISEASE DETECTION H5 MODEL/Various Plant Disease Detection Model1.h5\"\n",
    "checkpoint=ModelCheckpoint(model_path,monitor='val_accuracy',save_best_only=True)"
   ]
  },
  {
   "cell_type": "code",
   "execution_count": 13,
   "metadata": {
    "executionInfo": {
     "elapsed": 24469,
     "status": "ok",
     "timestamp": 1605991401985,
     "user": {
      "displayName": "waqas bilal",
      "photoUrl": "",
      "userId": "09992051305956338150"
     },
     "user_tz": -300
    },
    "id": "Z4yJyyVGxR2Y"
   },
   "outputs": [],
   "source": [
    "callbacks_list=[checkpoint]"
   ]
  },
  {
   "cell_type": "code",
   "execution_count": 14,
   "metadata": {
    "executionInfo": {
     "elapsed": 29030,
     "status": "ok",
     "timestamp": 1605991406548,
     "user": {
      "displayName": "waqas bilal",
      "photoUrl": "",
      "userId": "09992051305956338150"
     },
     "user_tz": -300
    },
    "id": "TpgEKBBdxWcH"
   },
   "outputs": [],
   "source": [
    "cnn_model = keras.models.Sequential([\n",
    "                                    keras.layers.Conv2D(filters=32, kernel_size=3, input_shape=[150, 150, 3]),\n",
    "                                    keras.layers.MaxPooling2D(pool_size=(2,2)),\n",
    "                                    keras.layers.Conv2D(filters=64, kernel_size=3),\n",
    "                                    keras.layers.MaxPooling2D(pool_size=(2,2)),\n",
    "                                    keras.layers.Conv2D(filters=128, kernel_size=3),\n",
    "                                    keras.layers.MaxPooling2D(pool_size=(2,2)),                                    \n",
    "                                    keras.layers.Conv2D(filters=256, kernel_size=3),\n",
    "                                    keras.layers.MaxPooling2D(pool_size=(2,2)),\n",
    " \n",
    "                                    keras.layers.Dropout(0.5),                                                                        \n",
    "                                    keras.layers.Flatten(), # neural network beulding\n",
    "                                    keras.layers.Dense(units=128, activation='relu'), # input layers\n",
    "                                    keras.layers.Dropout(0.1),                                    \n",
    "                                    keras.layers.Dense(units=256, activation='relu'),                                    \n",
    "                                    keras.layers.Dropout(0.25),                                    \n",
    "                                    keras.layers.Dense(units=19, activation='softmax') # output layer\n",
    "])"
   ]
  },
  {
   "cell_type": "code",
   "execution_count": 15,
   "metadata": {
    "colab": {
     "base_uri": "https://localhost:8080/"
    },
    "executionInfo": {
     "elapsed": 27296506,
     "status": "ok",
     "timestamp": 1606018674035,
     "user": {
      "displayName": "waqas bilal",
      "photoUrl": "",
      "userId": "09992051305956338150"
     },
     "user_tz": -300
    },
    "id": "dXga83P6xaDb",
    "outputId": "ac33c3a6-20a8-4ad9-92a9-b7c8ec997e65"
   },
   "outputs": [
    {
     "name": "stdout",
     "output_type": "stream",
     "text": [
      "Epoch 1/500\n",
      "174/174 [==============================] - 3269s 19s/step - loss: 2.6612 - accuracy: 0.1391 - val_loss: 2.2448 - val_accuracy: 0.2752\n",
      "Epoch 2/500\n",
      "174/174 [==============================] - 50s 285ms/step - loss: 2.2456 - accuracy: 0.2646 - val_loss: 2.0659 - val_accuracy: 0.3119\n",
      "Epoch 3/500\n",
      "174/174 [==============================] - 49s 284ms/step - loss: 2.0184 - accuracy: 0.3431 - val_loss: 2.0139 - val_accuracy: 0.3631\n",
      "Epoch 4/500\n",
      "174/174 [==============================] - 49s 284ms/step - loss: 1.8409 - accuracy: 0.4089 - val_loss: 1.8077 - val_accuracy: 0.4329\n",
      "Epoch 5/500\n",
      "174/174 [==============================] - 49s 283ms/step - loss: 1.6858 - accuracy: 0.4499 - val_loss: 1.8542 - val_accuracy: 0.4336\n",
      "Epoch 6/500\n",
      "174/174 [==============================] - 49s 283ms/step - loss: 1.5473 - accuracy: 0.4965 - val_loss: 1.6759 - val_accuracy: 0.4613\n",
      "Epoch 7/500\n",
      "174/174 [==============================] - 50s 287ms/step - loss: 1.4641 - accuracy: 0.5218 - val_loss: 1.6559 - val_accuracy: 0.4876\n",
      "Epoch 8/500\n",
      "174/174 [==============================] - 50s 286ms/step - loss: 1.4094 - accuracy: 0.5349 - val_loss: 1.6597 - val_accuracy: 0.4903\n",
      "Epoch 9/500\n",
      "174/174 [==============================] - 47s 273ms/step - loss: 1.3584 - accuracy: 0.5452 - val_loss: 1.8859 - val_accuracy: 0.4689\n",
      "Epoch 10/500\n",
      "174/174 [==============================] - 50s 286ms/step - loss: 1.3154 - accuracy: 0.5586 - val_loss: 1.5019 - val_accuracy: 0.5339\n",
      "Epoch 11/500\n",
      "174/174 [==============================] - 49s 280ms/step - loss: 1.2499 - accuracy: 0.5750 - val_loss: 1.2903 - val_accuracy: 0.5775\n",
      "Epoch 12/500\n",
      "174/174 [==============================] - 47s 271ms/step - loss: 1.2517 - accuracy: 0.5714 - val_loss: 1.4423 - val_accuracy: 0.5588\n",
      "Epoch 13/500\n",
      "174/174 [==============================] - 47s 273ms/step - loss: 1.1949 - accuracy: 0.6000 - val_loss: 1.6377 - val_accuracy: 0.5207\n",
      "Epoch 14/500\n",
      "174/174 [==============================] - 48s 274ms/step - loss: 1.1685 - accuracy: 0.6043 - val_loss: 1.5074 - val_accuracy: 0.5526\n",
      "Epoch 15/500\n",
      "174/174 [==============================] - 47s 272ms/step - loss: 1.1566 - accuracy: 0.6110 - val_loss: 1.6597 - val_accuracy: 0.5173\n",
      "Epoch 16/500\n",
      "174/174 [==============================] - 47s 273ms/step - loss: 1.1396 - accuracy: 0.6124 - val_loss: 1.8314 - val_accuracy: 0.5380\n",
      "Epoch 17/500\n",
      "174/174 [==============================] - 49s 281ms/step - loss: 1.1372 - accuracy: 0.6159 - val_loss: 1.1899 - val_accuracy: 0.6086\n",
      "Epoch 18/500\n",
      "174/174 [==============================] - 47s 272ms/step - loss: 1.0931 - accuracy: 0.6294 - val_loss: 1.5925 - val_accuracy: 0.5477\n",
      "Epoch 19/500\n",
      "174/174 [==============================] - 47s 270ms/step - loss: 1.0552 - accuracy: 0.6442 - val_loss: 1.4316 - val_accuracy: 0.5698\n",
      "Epoch 20/500\n",
      "174/174 [==============================] - 48s 274ms/step - loss: 1.0239 - accuracy: 0.6494 - val_loss: 1.3530 - val_accuracy: 0.6030\n",
      "Epoch 21/500\n",
      "174/174 [==============================] - 49s 282ms/step - loss: 1.0345 - accuracy: 0.6541 - val_loss: 1.2419 - val_accuracy: 0.6238\n",
      "Epoch 22/500\n",
      "174/174 [==============================] - 47s 272ms/step - loss: 1.0002 - accuracy: 0.6608 - val_loss: 1.3278 - val_accuracy: 0.6107\n",
      "Epoch 23/500\n",
      "174/174 [==============================] - 47s 273ms/step - loss: 1.0165 - accuracy: 0.6621 - val_loss: 1.3905 - val_accuracy: 0.5816\n",
      "Epoch 24/500\n",
      "174/174 [==============================] - 47s 271ms/step - loss: 0.9525 - accuracy: 0.6825 - val_loss: 1.3583 - val_accuracy: 0.6072\n",
      "Epoch 25/500\n",
      "174/174 [==============================] - 47s 272ms/step - loss: 0.9892 - accuracy: 0.6637 - val_loss: 1.4356 - val_accuracy: 0.5761\n",
      "Epoch 26/500\n",
      "174/174 [==============================] - 47s 272ms/step - loss: 0.9527 - accuracy: 0.6715 - val_loss: 1.3800 - val_accuracy: 0.5961\n",
      "Epoch 27/500\n",
      "174/174 [==============================] - 48s 276ms/step - loss: 0.9254 - accuracy: 0.6798 - val_loss: 1.5077 - val_accuracy: 0.5878\n",
      "Epoch 28/500\n",
      "174/174 [==============================] - 47s 272ms/step - loss: 0.9220 - accuracy: 0.6894 - val_loss: 1.5227 - val_accuracy: 0.5754\n",
      "Epoch 29/500\n",
      "174/174 [==============================] - 49s 281ms/step - loss: 0.8901 - accuracy: 0.7004 - val_loss: 1.2919 - val_accuracy: 0.6259\n",
      "Epoch 30/500\n",
      "174/174 [==============================] - 49s 284ms/step - loss: 0.8669 - accuracy: 0.7094 - val_loss: 1.2223 - val_accuracy: 0.6328\n",
      "Epoch 31/500\n",
      "174/174 [==============================] - 49s 281ms/step - loss: 0.8995 - accuracy: 0.6877 - val_loss: 1.1321 - val_accuracy: 0.6632\n",
      "Epoch 32/500\n",
      "174/174 [==============================] - 47s 273ms/step - loss: 0.8511 - accuracy: 0.7071 - val_loss: 1.2498 - val_accuracy: 0.6266\n",
      "Epoch 33/500\n",
      "174/174 [==============================] - 48s 276ms/step - loss: 0.8330 - accuracy: 0.7163 - val_loss: 1.1728 - val_accuracy: 0.6611\n",
      "Epoch 34/500\n",
      "174/174 [==============================] - 47s 271ms/step - loss: 0.7906 - accuracy: 0.7258 - val_loss: 1.2464 - val_accuracy: 0.6459\n",
      "Epoch 35/500\n",
      "174/174 [==============================] - 49s 282ms/step - loss: 0.7782 - accuracy: 0.7365 - val_loss: 1.0260 - val_accuracy: 0.6923\n",
      "Epoch 36/500\n",
      "174/174 [==============================] - 47s 272ms/step - loss: 0.7859 - accuracy: 0.7284 - val_loss: 1.1564 - val_accuracy: 0.6639\n",
      "Epoch 37/500\n",
      "174/174 [==============================] - 47s 272ms/step - loss: 0.7743 - accuracy: 0.7314 - val_loss: 1.2619 - val_accuracy: 0.6425\n",
      "Epoch 38/500\n",
      "174/174 [==============================] - 48s 274ms/step - loss: 0.7711 - accuracy: 0.7356 - val_loss: 1.2087 - val_accuracy: 0.6722\n",
      "Epoch 39/500\n",
      "174/174 [==============================] - 47s 272ms/step - loss: 0.7398 - accuracy: 0.7466 - val_loss: 1.0133 - val_accuracy: 0.6895\n",
      "Epoch 40/500\n",
      "174/174 [==============================] - 48s 275ms/step - loss: 0.7572 - accuracy: 0.7379 - val_loss: 1.4026 - val_accuracy: 0.6452\n",
      "Epoch 41/500\n",
      "174/174 [==============================] - 49s 283ms/step - loss: 0.7426 - accuracy: 0.7441 - val_loss: 1.0115 - val_accuracy: 0.7061\n",
      "Epoch 42/500\n",
      "174/174 [==============================] - 48s 273ms/step - loss: 0.7078 - accuracy: 0.7573 - val_loss: 1.1178 - val_accuracy: 0.6646\n",
      "Epoch 43/500\n",
      "174/174 [==============================] - 47s 272ms/step - loss: 0.6955 - accuracy: 0.7565 - val_loss: 1.0438 - val_accuracy: 0.6840\n",
      "Epoch 44/500\n",
      "174/174 [==============================] - 47s 272ms/step - loss: 0.7086 - accuracy: 0.7602 - val_loss: 1.2834 - val_accuracy: 0.6674\n",
      "Epoch 45/500\n",
      "174/174 [==============================] - 49s 283ms/step - loss: 0.6821 - accuracy: 0.7589 - val_loss: 0.8911 - val_accuracy: 0.7372\n",
      "Epoch 46/500\n",
      "174/174 [==============================] - 48s 276ms/step - loss: 0.7122 - accuracy: 0.7555 - val_loss: 1.0740 - val_accuracy: 0.6957\n",
      "Epoch 47/500\n",
      "174/174 [==============================] - 47s 273ms/step - loss: 0.6782 - accuracy: 0.7692 - val_loss: 1.0539 - val_accuracy: 0.6964\n",
      "Epoch 48/500\n",
      "174/174 [==============================] - 49s 282ms/step - loss: 0.6888 - accuracy: 0.7623 - val_loss: 0.7430 - val_accuracy: 0.7752\n",
      "Epoch 49/500\n",
      "174/174 [==============================] - 47s 272ms/step - loss: 0.6609 - accuracy: 0.7726 - val_loss: 0.9375 - val_accuracy: 0.7358\n",
      "Epoch 50/500\n",
      "174/174 [==============================] - 47s 273ms/step - loss: 0.6774 - accuracy: 0.7672 - val_loss: 1.4345 - val_accuracy: 0.6680\n",
      "Epoch 51/500\n",
      "174/174 [==============================] - 47s 271ms/step - loss: 0.6948 - accuracy: 0.7658 - val_loss: 1.1278 - val_accuracy: 0.6846\n",
      "Epoch 52/500\n",
      "174/174 [==============================] - 48s 276ms/step - loss: 0.6391 - accuracy: 0.7788 - val_loss: 1.0268 - val_accuracy: 0.6992\n",
      "Epoch 53/500\n",
      "174/174 [==============================] - 48s 273ms/step - loss: 0.6459 - accuracy: 0.7755 - val_loss: 0.7523 - val_accuracy: 0.7593\n",
      "Epoch 54/500\n",
      "174/174 [==============================] - 49s 279ms/step - loss: 0.6277 - accuracy: 0.7867 - val_loss: 0.6975 - val_accuracy: 0.7780\n",
      "Epoch 55/500\n",
      "174/174 [==============================] - 48s 273ms/step - loss: 0.6083 - accuracy: 0.7862 - val_loss: 0.8775 - val_accuracy: 0.7497\n",
      "Epoch 56/500\n",
      "174/174 [==============================] - 47s 272ms/step - loss: 0.6016 - accuracy: 0.7975 - val_loss: 0.9791 - val_accuracy: 0.7241\n",
      "Epoch 57/500\n",
      "174/174 [==============================] - 47s 272ms/step - loss: 0.6147 - accuracy: 0.7927 - val_loss: 1.1313 - val_accuracy: 0.7006\n",
      "Epoch 58/500\n",
      "174/174 [==============================] - 47s 272ms/step - loss: 0.5963 - accuracy: 0.7903 - val_loss: 1.0557 - val_accuracy: 0.6992\n",
      "Epoch 59/500\n",
      "174/174 [==============================] - 48s 275ms/step - loss: 0.5956 - accuracy: 0.7970 - val_loss: 0.7615 - val_accuracy: 0.7580\n",
      "Epoch 60/500\n",
      "174/174 [==============================] - 48s 274ms/step - loss: 0.5811 - accuracy: 0.8004 - val_loss: 1.0682 - val_accuracy: 0.7185\n",
      "Epoch 61/500\n",
      "174/174 [==============================] - 47s 273ms/step - loss: 0.6004 - accuracy: 0.7945 - val_loss: 1.0682 - val_accuracy: 0.6950\n",
      "Epoch 62/500\n",
      "174/174 [==============================] - 47s 271ms/step - loss: 0.5476 - accuracy: 0.8062 - val_loss: 1.2279 - val_accuracy: 0.6936\n",
      "Epoch 63/500\n",
      "174/174 [==============================] - 47s 272ms/step - loss: 0.5596 - accuracy: 0.8078 - val_loss: 0.9244 - val_accuracy: 0.7310\n",
      "Epoch 64/500\n",
      "174/174 [==============================] - 47s 270ms/step - loss: 0.5646 - accuracy: 0.7997 - val_loss: 0.8546 - val_accuracy: 0.7407\n",
      "Epoch 65/500\n",
      "174/174 [==============================] - 48s 275ms/step - loss: 0.5484 - accuracy: 0.8066 - val_loss: 0.8596 - val_accuracy: 0.7469\n",
      "Epoch 66/500\n",
      "174/174 [==============================] - 48s 273ms/step - loss: 0.5536 - accuracy: 0.8089 - val_loss: 0.7817 - val_accuracy: 0.7656\n",
      "Epoch 67/500\n",
      "174/174 [==============================] - 47s 273ms/step - loss: 0.5509 - accuracy: 0.8037 - val_loss: 1.4950 - val_accuracy: 0.6535\n",
      "Epoch 68/500\n",
      "174/174 [==============================] - 47s 272ms/step - loss: 0.5455 - accuracy: 0.8115 - val_loss: 1.1301 - val_accuracy: 0.7116\n",
      "Epoch 69/500\n",
      "174/174 [==============================] - 47s 272ms/step - loss: 0.5316 - accuracy: 0.8158 - val_loss: 1.0324 - val_accuracy: 0.7095\n",
      "Epoch 70/500\n",
      "174/174 [==============================] - 47s 272ms/step - loss: 0.5241 - accuracy: 0.8192 - val_loss: 0.8696 - val_accuracy: 0.7524\n",
      "Epoch 71/500\n",
      "174/174 [==============================] - 47s 271ms/step - loss: 0.5254 - accuracy: 0.8176 - val_loss: 0.9417 - val_accuracy: 0.7455\n",
      "Epoch 72/500\n",
      "174/174 [==============================] - 48s 276ms/step - loss: 0.5186 - accuracy: 0.8181 - val_loss: 0.8831 - val_accuracy: 0.7462\n",
      "Epoch 73/500\n",
      "174/174 [==============================] - 48s 274ms/step - loss: 0.5111 - accuracy: 0.8239 - val_loss: 0.7975 - val_accuracy: 0.7752\n",
      "Epoch 74/500\n",
      "174/174 [==============================] - 47s 273ms/step - loss: 0.5333 - accuracy: 0.8176 - val_loss: 0.9112 - val_accuracy: 0.7358\n",
      "Epoch 75/500\n",
      "174/174 [==============================] - 47s 273ms/step - loss: 0.5086 - accuracy: 0.8252 - val_loss: 0.7079 - val_accuracy: 0.7780\n",
      "Epoch 76/500\n",
      "174/174 [==============================] - 47s 273ms/step - loss: 0.5329 - accuracy: 0.8154 - val_loss: 0.8304 - val_accuracy: 0.7559\n",
      "Epoch 77/500\n",
      "174/174 [==============================] - 48s 273ms/step - loss: 0.5220 - accuracy: 0.8203 - val_loss: 1.1421 - val_accuracy: 0.7213\n",
      "Epoch 78/500\n",
      "174/174 [==============================] - 48s 275ms/step - loss: 0.4869 - accuracy: 0.8295 - val_loss: 0.7704 - val_accuracy: 0.7759\n",
      "Epoch 79/500\n",
      "174/174 [==============================] - 48s 274ms/step - loss: 0.4853 - accuracy: 0.8338 - val_loss: 1.1364 - val_accuracy: 0.7089\n",
      "Epoch 80/500\n",
      "174/174 [==============================] - 48s 274ms/step - loss: 0.4857 - accuracy: 0.8331 - val_loss: 0.8766 - val_accuracy: 0.7420\n",
      "Epoch 81/500\n",
      "174/174 [==============================] - 47s 273ms/step - loss: 0.4762 - accuracy: 0.8378 - val_loss: 0.9101 - val_accuracy: 0.7227\n",
      "Epoch 82/500\n",
      "174/174 [==============================] - 47s 272ms/step - loss: 0.4901 - accuracy: 0.8295 - val_loss: 1.0248 - val_accuracy: 0.7331\n",
      "Epoch 83/500\n",
      "174/174 [==============================] - 47s 272ms/step - loss: 0.4640 - accuracy: 0.8402 - val_loss: 0.9234 - val_accuracy: 0.7559\n",
      "Epoch 84/500\n",
      "174/174 [==============================] - 47s 272ms/step - loss: 0.4534 - accuracy: 0.8411 - val_loss: 1.0395 - val_accuracy: 0.7165\n",
      "Epoch 85/500\n",
      "174/174 [==============================] - 48s 277ms/step - loss: 0.4668 - accuracy: 0.8347 - val_loss: 1.1070 - val_accuracy: 0.7178\n",
      "Epoch 86/500\n",
      "174/174 [==============================] - 48s 273ms/step - loss: 0.4641 - accuracy: 0.8380 - val_loss: 0.9774 - val_accuracy: 0.7254\n",
      "Epoch 87/500\n",
      "174/174 [==============================] - 47s 272ms/step - loss: 0.4432 - accuracy: 0.8450 - val_loss: 1.0648 - val_accuracy: 0.7241\n",
      "Epoch 88/500\n",
      "174/174 [==============================] - 47s 272ms/step - loss: 0.4567 - accuracy: 0.8422 - val_loss: 1.1809 - val_accuracy: 0.7144\n",
      "Epoch 89/500\n",
      "174/174 [==============================] - 47s 273ms/step - loss: 0.4491 - accuracy: 0.8432 - val_loss: 1.2191 - val_accuracy: 0.7109\n",
      "Epoch 90/500\n",
      "174/174 [==============================] - 49s 284ms/step - loss: 0.4536 - accuracy: 0.8427 - val_loss: 0.6603 - val_accuracy: 0.7918\n",
      "Epoch 91/500\n",
      "174/174 [==============================] - 48s 276ms/step - loss: 0.4311 - accuracy: 0.8505 - val_loss: 0.9562 - val_accuracy: 0.7441\n",
      "Epoch 92/500\n",
      "174/174 [==============================] - 48s 273ms/step - loss: 0.4299 - accuracy: 0.8528 - val_loss: 0.8803 - val_accuracy: 0.7614\n",
      "Epoch 93/500\n",
      "174/174 [==============================] - 48s 274ms/step - loss: 0.4841 - accuracy: 0.8320 - val_loss: 0.9832 - val_accuracy: 0.7414\n",
      "Epoch 94/500\n",
      "174/174 [==============================] - 47s 272ms/step - loss: 0.4476 - accuracy: 0.8487 - val_loss: 0.8245 - val_accuracy: 0.7739\n",
      "Epoch 95/500\n",
      "174/174 [==============================] - 47s 273ms/step - loss: 0.4160 - accuracy: 0.8539 - val_loss: 0.8567 - val_accuracy: 0.7683\n",
      "Epoch 96/500\n",
      "174/174 [==============================] - 47s 272ms/step - loss: 0.4298 - accuracy: 0.8506 - val_loss: 1.0763 - val_accuracy: 0.7324\n",
      "Epoch 97/500\n",
      "174/174 [==============================] - 48s 274ms/step - loss: 0.4140 - accuracy: 0.8532 - val_loss: 0.8547 - val_accuracy: 0.7725\n",
      "Epoch 98/500\n",
      "174/174 [==============================] - 48s 277ms/step - loss: 0.5439 - accuracy: 0.8214 - val_loss: 0.6751 - val_accuracy: 0.7794\n",
      "Epoch 99/500\n",
      "174/174 [==============================] - 48s 273ms/step - loss: 0.4633 - accuracy: 0.8416 - val_loss: 0.8131 - val_accuracy: 0.7642\n",
      "Epoch 100/500\n",
      "174/174 [==============================] - 48s 273ms/step - loss: 0.4230 - accuracy: 0.8535 - val_loss: 1.0770 - val_accuracy: 0.7275\n",
      "Epoch 101/500\n",
      "174/174 [==============================] - 48s 273ms/step - loss: 0.4064 - accuracy: 0.8573 - val_loss: 0.9501 - val_accuracy: 0.7538\n",
      "Epoch 102/500\n",
      "174/174 [==============================] - 48s 273ms/step - loss: 0.4201 - accuracy: 0.8559 - val_loss: 1.2039 - val_accuracy: 0.7199\n",
      "Epoch 103/500\n",
      "174/174 [==============================] - 47s 272ms/step - loss: 0.4152 - accuracy: 0.8553 - val_loss: 0.8921 - val_accuracy: 0.7503\n",
      "Epoch 104/500\n",
      "174/174 [==============================] - 50s 288ms/step - loss: 0.3934 - accuracy: 0.8608 - val_loss: 0.7391 - val_accuracy: 0.7932\n",
      "Epoch 105/500\n",
      "174/174 [==============================] - 48s 275ms/step - loss: 0.4218 - accuracy: 0.8579 - val_loss: 0.9635 - val_accuracy: 0.7331\n",
      "Epoch 106/500\n",
      "174/174 [==============================] - 47s 272ms/step - loss: 0.4001 - accuracy: 0.8604 - val_loss: 1.0056 - val_accuracy: 0.7310\n",
      "Epoch 107/500\n",
      "174/174 [==============================] - 47s 272ms/step - loss: 0.4115 - accuracy: 0.8541 - val_loss: 0.9730 - val_accuracy: 0.7497\n",
      "Epoch 108/500\n",
      "174/174 [==============================] - 47s 272ms/step - loss: 0.3889 - accuracy: 0.8683 - val_loss: 0.8735 - val_accuracy: 0.7593\n",
      "Epoch 109/500\n",
      "174/174 [==============================] - 48s 273ms/step - loss: 0.3931 - accuracy: 0.8667 - val_loss: 0.9892 - val_accuracy: 0.7414\n",
      "Epoch 110/500\n",
      "174/174 [==============================] - 47s 273ms/step - loss: 0.4060 - accuracy: 0.8613 - val_loss: 1.1204 - val_accuracy: 0.7310\n",
      "Epoch 111/500\n",
      "174/174 [==============================] - 48s 277ms/step - loss: 0.3895 - accuracy: 0.8624 - val_loss: 1.3142 - val_accuracy: 0.7234\n",
      "Epoch 112/500\n",
      "174/174 [==============================] - 48s 275ms/step - loss: 0.3798 - accuracy: 0.8701 - val_loss: 0.7710 - val_accuracy: 0.7863\n",
      "Epoch 113/500\n",
      "174/174 [==============================] - 47s 272ms/step - loss: 0.3889 - accuracy: 0.8645 - val_loss: 1.3343 - val_accuracy: 0.7144\n",
      "Epoch 114/500\n",
      "174/174 [==============================] - 48s 273ms/step - loss: 0.4044 - accuracy: 0.8615 - val_loss: 0.9528 - val_accuracy: 0.7607\n",
      "Epoch 115/500\n",
      "174/174 [==============================] - 49s 281ms/step - loss: 0.3842 - accuracy: 0.8689 - val_loss: 0.6719 - val_accuracy: 0.8050\n",
      "Epoch 116/500\n",
      "174/174 [==============================] - 48s 274ms/step - loss: 0.3949 - accuracy: 0.8624 - val_loss: 0.8536 - val_accuracy: 0.7725\n",
      "Epoch 117/500\n",
      "174/174 [==============================] - 48s 276ms/step - loss: 0.3827 - accuracy: 0.8678 - val_loss: 0.7575 - val_accuracy: 0.7849\n",
      "Epoch 118/500\n",
      "174/174 [==============================] - 48s 273ms/step - loss: 0.4012 - accuracy: 0.8629 - val_loss: 0.8002 - val_accuracy: 0.7808\n",
      "Epoch 119/500\n",
      "174/174 [==============================] - 47s 272ms/step - loss: 0.3591 - accuracy: 0.8729 - val_loss: 0.7650 - val_accuracy: 0.7877\n",
      "Epoch 120/500\n",
      "174/174 [==============================] - 47s 272ms/step - loss: 0.3650 - accuracy: 0.8754 - val_loss: 0.8509 - val_accuracy: 0.7718\n",
      "Epoch 121/500\n",
      "174/174 [==============================] - 47s 273ms/step - loss: 0.3741 - accuracy: 0.8700 - val_loss: 0.8610 - val_accuracy: 0.7725\n",
      "Epoch 122/500\n",
      "174/174 [==============================] - 47s 273ms/step - loss: 0.3480 - accuracy: 0.8765 - val_loss: 1.2652 - val_accuracy: 0.7337\n",
      "Epoch 123/500\n",
      "174/174 [==============================] - 47s 272ms/step - loss: 0.3665 - accuracy: 0.8689 - val_loss: 0.8872 - val_accuracy: 0.7773\n",
      "Epoch 124/500\n",
      "174/174 [==============================] - 48s 277ms/step - loss: 0.3395 - accuracy: 0.8792 - val_loss: 0.7721 - val_accuracy: 0.7801\n",
      "Epoch 125/500\n",
      "174/174 [==============================] - 47s 271ms/step - loss: 0.3531 - accuracy: 0.8709 - val_loss: 0.7599 - val_accuracy: 0.7822\n",
      "Epoch 126/500\n",
      "174/174 [==============================] - 47s 273ms/step - loss: 0.3517 - accuracy: 0.8790 - val_loss: 0.8520 - val_accuracy: 0.7766\n",
      "Epoch 127/500\n",
      "174/174 [==============================] - 48s 274ms/step - loss: 0.3914 - accuracy: 0.8624 - val_loss: 0.9458 - val_accuracy: 0.7683\n",
      "Epoch 128/500\n",
      "174/174 [==============================] - 48s 273ms/step - loss: 0.3435 - accuracy: 0.8786 - val_loss: 0.8457 - val_accuracy: 0.7794\n",
      "Epoch 129/500\n",
      "174/174 [==============================] - 48s 275ms/step - loss: 0.3572 - accuracy: 0.8756 - val_loss: 1.1557 - val_accuracy: 0.7420\n",
      "Epoch 130/500\n",
      "174/174 [==============================] - 48s 276ms/step - loss: 0.3626 - accuracy: 0.8743 - val_loss: 0.8202 - val_accuracy: 0.7828\n",
      "Epoch 131/500\n",
      "174/174 [==============================] - 48s 275ms/step - loss: 0.3437 - accuracy: 0.8774 - val_loss: 0.7942 - val_accuracy: 0.7884\n",
      "Epoch 132/500\n",
      "174/174 [==============================] - 50s 285ms/step - loss: 0.3668 - accuracy: 0.8703 - val_loss: 0.6855 - val_accuracy: 0.8174\n",
      "Epoch 133/500\n",
      "174/174 [==============================] - 48s 274ms/step - loss: 0.3480 - accuracy: 0.8804 - val_loss: 0.8824 - val_accuracy: 0.7752\n",
      "Epoch 134/500\n",
      "174/174 [==============================] - 48s 274ms/step - loss: 0.3297 - accuracy: 0.8873 - val_loss: 1.0507 - val_accuracy: 0.7497\n",
      "Epoch 135/500\n",
      "174/174 [==============================] - 47s 273ms/step - loss: 0.3459 - accuracy: 0.8828 - val_loss: 0.9598 - val_accuracy: 0.7759\n",
      "Epoch 136/500\n",
      "174/174 [==============================] - 48s 274ms/step - loss: 0.4014 - accuracy: 0.8645 - val_loss: 0.9003 - val_accuracy: 0.7780\n",
      "Epoch 137/500\n",
      "174/174 [==============================] - 48s 278ms/step - loss: 0.3375 - accuracy: 0.8788 - val_loss: 1.0732 - val_accuracy: 0.7407\n",
      "Epoch 138/500\n",
      "174/174 [==============================] - 47s 272ms/step - loss: 0.3150 - accuracy: 0.8920 - val_loss: 0.8740 - val_accuracy: 0.7822\n",
      "Epoch 139/500\n",
      "174/174 [==============================] - 48s 274ms/step - loss: 0.3339 - accuracy: 0.8821 - val_loss: 0.7334 - val_accuracy: 0.7974\n",
      "Epoch 140/500\n",
      "174/174 [==============================] - 49s 281ms/step - loss: 0.3093 - accuracy: 0.8924 - val_loss: 0.5623 - val_accuracy: 0.8306\n",
      "Epoch 141/500\n",
      "174/174 [==============================] - 48s 274ms/step - loss: 0.3283 - accuracy: 0.8887 - val_loss: 0.8826 - val_accuracy: 0.7815\n",
      "Epoch 142/500\n",
      "174/174 [==============================] - 47s 272ms/step - loss: 0.3072 - accuracy: 0.8900 - val_loss: 0.8152 - val_accuracy: 0.7898\n",
      "Epoch 143/500\n",
      "174/174 [==============================] - 48s 277ms/step - loss: 0.3219 - accuracy: 0.8898 - val_loss: 0.8733 - val_accuracy: 0.7739\n",
      "Epoch 144/500\n",
      "174/174 [==============================] - 49s 284ms/step - loss: 0.4133 - accuracy: 0.8561 - val_loss: 0.5702 - val_accuracy: 0.8340\n",
      "Epoch 145/500\n",
      "174/174 [==============================] - 48s 275ms/step - loss: 0.3218 - accuracy: 0.8886 - val_loss: 0.7842 - val_accuracy: 0.7960\n",
      "Epoch 146/500\n",
      "174/174 [==============================] - 48s 276ms/step - loss: 0.3159 - accuracy: 0.8877 - val_loss: 1.0382 - val_accuracy: 0.7586\n",
      "Epoch 147/500\n",
      "174/174 [==============================] - 48s 274ms/step - loss: 0.3244 - accuracy: 0.8906 - val_loss: 0.9917 - val_accuracy: 0.7600\n",
      "Epoch 148/500\n",
      "174/174 [==============================] - 48s 275ms/step - loss: 0.3144 - accuracy: 0.8927 - val_loss: 0.9509 - val_accuracy: 0.7649\n",
      "Epoch 149/500\n",
      "174/174 [==============================] - 48s 275ms/step - loss: 0.2988 - accuracy: 0.8949 - val_loss: 0.7981 - val_accuracy: 0.8050\n",
      "Epoch 150/500\n",
      "174/174 [==============================] - 48s 277ms/step - loss: 0.3163 - accuracy: 0.8913 - val_loss: 0.8845 - val_accuracy: 0.7801\n",
      "Epoch 151/500\n",
      "174/174 [==============================] - 48s 274ms/step - loss: 0.3171 - accuracy: 0.8853 - val_loss: 0.7875 - val_accuracy: 0.7939\n",
      "Epoch 152/500\n",
      "174/174 [==============================] - 47s 273ms/step - loss: 0.3128 - accuracy: 0.8897 - val_loss: 0.8221 - val_accuracy: 0.7918\n",
      "Epoch 153/500\n",
      "174/174 [==============================] - 47s 271ms/step - loss: 0.2910 - accuracy: 0.8989 - val_loss: 0.8286 - val_accuracy: 0.7822\n",
      "Epoch 154/500\n",
      "174/174 [==============================] - 48s 273ms/step - loss: 0.3124 - accuracy: 0.8904 - val_loss: 1.0287 - val_accuracy: 0.7621\n",
      "Epoch 155/500\n",
      "174/174 [==============================] - 47s 271ms/step - loss: 0.2845 - accuracy: 0.8994 - val_loss: 0.9277 - val_accuracy: 0.7801\n",
      "Epoch 156/500\n",
      "174/174 [==============================] - 48s 277ms/step - loss: 0.2859 - accuracy: 0.9030 - val_loss: 0.6633 - val_accuracy: 0.8202\n",
      "Epoch 157/500\n",
      "174/174 [==============================] - 47s 271ms/step - loss: 0.2833 - accuracy: 0.9019 - val_loss: 0.8133 - val_accuracy: 0.8022\n",
      "Epoch 158/500\n",
      "174/174 [==============================] - 47s 273ms/step - loss: 0.2946 - accuracy: 0.8958 - val_loss: 0.6169 - val_accuracy: 0.8333\n",
      "Epoch 159/500\n",
      "174/174 [==============================] - 48s 273ms/step - loss: 0.2873 - accuracy: 0.8992 - val_loss: 0.8100 - val_accuracy: 0.7974\n",
      "Epoch 160/500\n",
      "174/174 [==============================] - 47s 271ms/step - loss: 0.3245 - accuracy: 0.8887 - val_loss: 0.8578 - val_accuracy: 0.7905\n",
      "Epoch 161/500\n",
      "174/174 [==============================] - 48s 275ms/step - loss: 0.2867 - accuracy: 0.9010 - val_loss: 1.1622 - val_accuracy: 0.7559\n",
      "Epoch 162/500\n",
      "174/174 [==============================] - 48s 274ms/step - loss: 0.3117 - accuracy: 0.8945 - val_loss: 0.7334 - val_accuracy: 0.8126\n",
      "Epoch 163/500\n",
      "174/174 [==============================] - 48s 278ms/step - loss: 0.3500 - accuracy: 0.8813 - val_loss: 0.7978 - val_accuracy: 0.7994\n",
      "Epoch 164/500\n",
      "174/174 [==============================] - 48s 275ms/step - loss: 0.2724 - accuracy: 0.9028 - val_loss: 0.8987 - val_accuracy: 0.7780\n",
      "Epoch 165/500\n",
      "174/174 [==============================] - 48s 274ms/step - loss: 0.3142 - accuracy: 0.8915 - val_loss: 0.9819 - val_accuracy: 0.7607\n",
      "Epoch 166/500\n",
      "174/174 [==============================] - 48s 274ms/step - loss: 0.2974 - accuracy: 0.8994 - val_loss: 0.9800 - val_accuracy: 0.7690\n",
      "Epoch 167/500\n",
      "174/174 [==============================] - 48s 275ms/step - loss: 0.2853 - accuracy: 0.8978 - val_loss: 1.0282 - val_accuracy: 0.7801\n",
      "Epoch 168/500\n",
      "174/174 [==============================] - 48s 274ms/step - loss: 0.2761 - accuracy: 0.9046 - val_loss: 0.6111 - val_accuracy: 0.8292\n",
      "Epoch 169/500\n",
      "174/174 [==============================] - 50s 288ms/step - loss: 0.2958 - accuracy: 0.8963 - val_loss: 0.6008 - val_accuracy: 0.8396\n",
      "Epoch 170/500\n",
      "174/174 [==============================] - 47s 272ms/step - loss: 0.2627 - accuracy: 0.9074 - val_loss: 1.0111 - val_accuracy: 0.7780\n",
      "Epoch 171/500\n",
      "174/174 [==============================] - 47s 273ms/step - loss: 0.2759 - accuracy: 0.8987 - val_loss: 0.8276 - val_accuracy: 0.8022\n",
      "Epoch 172/500\n",
      "174/174 [==============================] - 47s 273ms/step - loss: 0.2892 - accuracy: 0.8989 - val_loss: 0.8395 - val_accuracy: 0.7974\n",
      "Epoch 173/500\n",
      "174/174 [==============================] - 48s 274ms/step - loss: 0.2709 - accuracy: 0.9007 - val_loss: 0.8038 - val_accuracy: 0.7967\n",
      "Epoch 174/500\n",
      "174/174 [==============================] - 47s 272ms/step - loss: 0.2707 - accuracy: 0.9032 - val_loss: 0.8719 - val_accuracy: 0.7946\n",
      "Epoch 175/500\n",
      "174/174 [==============================] - 47s 273ms/step - loss: 0.2827 - accuracy: 0.9045 - val_loss: 0.9236 - val_accuracy: 0.7953\n",
      "Epoch 176/500\n",
      "174/174 [==============================] - 48s 275ms/step - loss: 0.2742 - accuracy: 0.9034 - val_loss: 0.7388 - val_accuracy: 0.8119\n",
      "Epoch 177/500\n",
      "174/174 [==============================] - 47s 272ms/step - loss: 0.2653 - accuracy: 0.9066 - val_loss: 0.6755 - val_accuracy: 0.8382\n",
      "Epoch 178/500\n",
      "174/174 [==============================] - 47s 273ms/step - loss: 0.2875 - accuracy: 0.8974 - val_loss: 0.6256 - val_accuracy: 0.8389\n",
      "Epoch 179/500\n",
      "174/174 [==============================] - 47s 272ms/step - loss: 0.2700 - accuracy: 0.9055 - val_loss: 0.6610 - val_accuracy: 0.8271\n",
      "Epoch 180/500\n",
      "174/174 [==============================] - 47s 272ms/step - loss: 0.2632 - accuracy: 0.9079 - val_loss: 0.8671 - val_accuracy: 0.7905\n",
      "Epoch 181/500\n",
      "174/174 [==============================] - 48s 274ms/step - loss: 0.3071 - accuracy: 0.8956 - val_loss: 0.9556 - val_accuracy: 0.7808\n",
      "Epoch 182/500\n",
      "174/174 [==============================] - 48s 276ms/step - loss: 0.2629 - accuracy: 0.9102 - val_loss: 0.6023 - val_accuracy: 0.8326\n",
      "Epoch 183/500\n",
      "174/174 [==============================] - 47s 272ms/step - loss: 0.2762 - accuracy: 0.9045 - val_loss: 0.6930 - val_accuracy: 0.8160\n",
      "Epoch 184/500\n",
      "174/174 [==============================] - 47s 271ms/step - loss: 0.2600 - accuracy: 0.9120 - val_loss: 0.7363 - val_accuracy: 0.8126\n",
      "Epoch 185/500\n",
      "174/174 [==============================] - 47s 272ms/step - loss: 0.2536 - accuracy: 0.9120 - val_loss: 0.7061 - val_accuracy: 0.8202\n",
      "Epoch 186/500\n",
      "174/174 [==============================] - 47s 272ms/step - loss: 0.2426 - accuracy: 0.9133 - val_loss: 0.8145 - val_accuracy: 0.8077\n",
      "Epoch 187/500\n",
      "174/174 [==============================] - 47s 270ms/step - loss: 0.2540 - accuracy: 0.9117 - val_loss: 0.5914 - val_accuracy: 0.8361\n",
      "Epoch 188/500\n",
      "174/174 [==============================] - 47s 271ms/step - loss: 0.2625 - accuracy: 0.9059 - val_loss: 0.9092 - val_accuracy: 0.7967\n",
      "Epoch 189/500\n",
      "174/174 [==============================] - 48s 276ms/step - loss: 0.2660 - accuracy: 0.9088 - val_loss: 0.8696 - val_accuracy: 0.7974\n",
      "Epoch 190/500\n",
      "174/174 [==============================] - 47s 273ms/step - loss: 0.2333 - accuracy: 0.9185 - val_loss: 0.7934 - val_accuracy: 0.7953\n",
      "Epoch 191/500\n",
      "174/174 [==============================] - 48s 274ms/step - loss: 0.2542 - accuracy: 0.9093 - val_loss: 0.9484 - val_accuracy: 0.7773\n",
      "Epoch 192/500\n",
      "174/174 [==============================] - 47s 272ms/step - loss: 0.2488 - accuracy: 0.9106 - val_loss: 1.0973 - val_accuracy: 0.7711\n",
      "Epoch 193/500\n",
      "174/174 [==============================] - 50s 286ms/step - loss: 0.2568 - accuracy: 0.9090 - val_loss: 0.5176 - val_accuracy: 0.8568\n",
      "Epoch 194/500\n",
      "174/174 [==============================] - 48s 274ms/step - loss: 0.2646 - accuracy: 0.9092 - val_loss: 0.7554 - val_accuracy: 0.8140\n",
      "Epoch 195/500\n",
      "174/174 [==============================] - 48s 276ms/step - loss: 0.2552 - accuracy: 0.9092 - val_loss: 0.6252 - val_accuracy: 0.8340\n",
      "Epoch 196/500\n",
      "174/174 [==============================] - 47s 270ms/step - loss: 0.2560 - accuracy: 0.9110 - val_loss: 1.0181 - val_accuracy: 0.7614\n",
      "Epoch 197/500\n",
      "174/174 [==============================] - 47s 271ms/step - loss: 0.2588 - accuracy: 0.9088 - val_loss: 0.7044 - val_accuracy: 0.8271\n",
      "Epoch 198/500\n",
      "174/174 [==============================] - 47s 272ms/step - loss: 0.2301 - accuracy: 0.9184 - val_loss: 0.6509 - val_accuracy: 0.8430\n",
      "Epoch 199/500\n",
      "174/174 [==============================] - 47s 270ms/step - loss: 0.2425 - accuracy: 0.9142 - val_loss: 0.5054 - val_accuracy: 0.8562\n",
      "Epoch 200/500\n",
      "174/174 [==============================] - 47s 269ms/step - loss: 0.2432 - accuracy: 0.9193 - val_loss: 0.9706 - val_accuracy: 0.7953\n",
      "Epoch 201/500\n",
      "174/174 [==============================] - 47s 270ms/step - loss: 0.2332 - accuracy: 0.9204 - val_loss: 0.9424 - val_accuracy: 0.7870\n",
      "Epoch 202/500\n",
      "174/174 [==============================] - 47s 273ms/step - loss: 0.2467 - accuracy: 0.9153 - val_loss: 0.6616 - val_accuracy: 0.8154\n",
      "Epoch 203/500\n",
      "174/174 [==============================] - 47s 270ms/step - loss: 0.2515 - accuracy: 0.9124 - val_loss: 0.7908 - val_accuracy: 0.8133\n",
      "Epoch 204/500\n",
      "174/174 [==============================] - 47s 269ms/step - loss: 0.2428 - accuracy: 0.9155 - val_loss: 0.7605 - val_accuracy: 0.8209\n",
      "Epoch 205/500\n",
      "174/174 [==============================] - 47s 270ms/step - loss: 0.2329 - accuracy: 0.9216 - val_loss: 1.1234 - val_accuracy: 0.7828\n",
      "Epoch 206/500\n",
      "174/174 [==============================] - 47s 269ms/step - loss: 0.2345 - accuracy: 0.9205 - val_loss: 0.7381 - val_accuracy: 0.8077\n",
      "Epoch 207/500\n",
      "174/174 [==============================] - 47s 270ms/step - loss: 0.2311 - accuracy: 0.9167 - val_loss: 0.6289 - val_accuracy: 0.8375\n",
      "Epoch 208/500\n",
      "174/174 [==============================] - 48s 274ms/step - loss: 0.2338 - accuracy: 0.9191 - val_loss: 0.5692 - val_accuracy: 0.8451\n",
      "Epoch 209/500\n",
      "174/174 [==============================] - 47s 272ms/step - loss: 0.2392 - accuracy: 0.9189 - val_loss: 0.6266 - val_accuracy: 0.8237\n",
      "Epoch 210/500\n",
      "174/174 [==============================] - 48s 275ms/step - loss: 0.2271 - accuracy: 0.9200 - val_loss: 0.9628 - val_accuracy: 0.7911\n",
      "Epoch 211/500\n",
      "174/174 [==============================] - 47s 269ms/step - loss: 0.2503 - accuracy: 0.9106 - val_loss: 0.7656 - val_accuracy: 0.8126\n",
      "Epoch 212/500\n",
      "174/174 [==============================] - 47s 268ms/step - loss: 0.2386 - accuracy: 0.9162 - val_loss: 0.7908 - val_accuracy: 0.8071\n",
      "Epoch 213/500\n",
      "174/174 [==============================] - 47s 269ms/step - loss: 0.2323 - accuracy: 0.9200 - val_loss: 0.6740 - val_accuracy: 0.8230\n",
      "Epoch 214/500\n",
      "174/174 [==============================] - 47s 268ms/step - loss: 0.2438 - accuracy: 0.9196 - val_loss: 0.7433 - val_accuracy: 0.8223\n",
      "Epoch 215/500\n",
      "174/174 [==============================] - 48s 274ms/step - loss: 0.2390 - accuracy: 0.9187 - val_loss: 0.8337 - val_accuracy: 0.8195\n",
      "Epoch 216/500\n",
      "174/174 [==============================] - 47s 273ms/step - loss: 0.2380 - accuracy: 0.9137 - val_loss: 0.7385 - val_accuracy: 0.8188\n",
      "Epoch 217/500\n",
      "174/174 [==============================] - 47s 272ms/step - loss: 0.2299 - accuracy: 0.9162 - val_loss: 0.8013 - val_accuracy: 0.8112\n",
      "Epoch 218/500\n",
      "174/174 [==============================] - 47s 269ms/step - loss: 0.2273 - accuracy: 0.9211 - val_loss: 0.7123 - val_accuracy: 0.8133\n",
      "Epoch 219/500\n",
      "174/174 [==============================] - 47s 269ms/step - loss: 0.3023 - accuracy: 0.9003 - val_loss: 0.6632 - val_accuracy: 0.8306\n",
      "Epoch 220/500\n",
      "174/174 [==============================] - 47s 271ms/step - loss: 0.2380 - accuracy: 0.9146 - val_loss: 0.8558 - val_accuracy: 0.7877\n",
      "Epoch 221/500\n",
      "174/174 [==============================] - 47s 272ms/step - loss: 0.2291 - accuracy: 0.9220 - val_loss: 0.7206 - val_accuracy: 0.8237\n",
      "Epoch 222/500\n",
      "174/174 [==============================] - 47s 272ms/step - loss: 0.2190 - accuracy: 0.9250 - val_loss: 0.6380 - val_accuracy: 0.8458\n",
      "Epoch 223/500\n",
      "174/174 [==============================] - 47s 270ms/step - loss: 0.2131 - accuracy: 0.9238 - val_loss: 1.0579 - val_accuracy: 0.7787\n",
      "Epoch 224/500\n",
      "174/174 [==============================] - 48s 278ms/step - loss: 0.2345 - accuracy: 0.9223 - val_loss: 0.5290 - val_accuracy: 0.8631\n",
      "Epoch 225/500\n",
      "174/174 [==============================] - 47s 271ms/step - loss: 0.2250 - accuracy: 0.9227 - val_loss: 0.7255 - val_accuracy: 0.8368\n",
      "Epoch 226/500\n",
      "174/174 [==============================] - 47s 267ms/step - loss: 0.2203 - accuracy: 0.9196 - val_loss: 0.6109 - val_accuracy: 0.8430\n",
      "Epoch 227/500\n",
      "174/174 [==============================] - 47s 269ms/step - loss: 0.2274 - accuracy: 0.9238 - val_loss: 0.9127 - val_accuracy: 0.7891\n",
      "Epoch 228/500\n",
      "174/174 [==============================] - 47s 271ms/step - loss: 0.2101 - accuracy: 0.9263 - val_loss: 0.7581 - val_accuracy: 0.8216\n",
      "Epoch 229/500\n",
      "174/174 [==============================] - 49s 279ms/step - loss: 0.2694 - accuracy: 0.9095 - val_loss: 0.4871 - val_accuracy: 0.8741\n",
      "Epoch 230/500\n",
      "174/174 [==============================] - 47s 270ms/step - loss: 0.3058 - accuracy: 0.8945 - val_loss: 0.6367 - val_accuracy: 0.8375\n",
      "Epoch 231/500\n",
      "174/174 [==============================] - 47s 268ms/step - loss: 0.2232 - accuracy: 0.9176 - val_loss: 0.6299 - val_accuracy: 0.8264\n",
      "Epoch 232/500\n",
      "174/174 [==============================] - 47s 269ms/step - loss: 0.1942 - accuracy: 0.9355 - val_loss: 0.5288 - val_accuracy: 0.8596\n",
      "Epoch 233/500\n",
      "174/174 [==============================] - 47s 269ms/step - loss: 0.2115 - accuracy: 0.9245 - val_loss: 0.7524 - val_accuracy: 0.8216\n",
      "Epoch 234/500\n",
      "174/174 [==============================] - 48s 273ms/step - loss: 0.2109 - accuracy: 0.9229 - val_loss: 0.6035 - val_accuracy: 0.8458\n",
      "Epoch 235/500\n",
      "174/174 [==============================] - 47s 269ms/step - loss: 0.2080 - accuracy: 0.9310 - val_loss: 0.7032 - val_accuracy: 0.8313\n",
      "Epoch 236/500\n",
      "174/174 [==============================] - 47s 269ms/step - loss: 0.2139 - accuracy: 0.9189 - val_loss: 0.5627 - val_accuracy: 0.8541\n",
      "Epoch 237/500\n",
      "174/174 [==============================] - 47s 269ms/step - loss: 0.1970 - accuracy: 0.9306 - val_loss: 0.5648 - val_accuracy: 0.8506\n",
      "Epoch 238/500\n",
      "174/174 [==============================] - 47s 269ms/step - loss: 0.2118 - accuracy: 0.9204 - val_loss: 0.8979 - val_accuracy: 0.7994\n",
      "Epoch 239/500\n",
      "174/174 [==============================] - 47s 270ms/step - loss: 0.2154 - accuracy: 0.9225 - val_loss: 0.9246 - val_accuracy: 0.8105\n",
      "Epoch 240/500\n",
      "174/174 [==============================] - 47s 269ms/step - loss: 0.1990 - accuracy: 0.9303 - val_loss: 0.7711 - val_accuracy: 0.8188\n",
      "Epoch 241/500\n",
      "174/174 [==============================] - 47s 273ms/step - loss: 0.2187 - accuracy: 0.9267 - val_loss: 0.7279 - val_accuracy: 0.8188\n",
      "Epoch 242/500\n",
      "174/174 [==============================] - 47s 269ms/step - loss: 0.2282 - accuracy: 0.9249 - val_loss: 0.7182 - val_accuracy: 0.8188\n",
      "Epoch 243/500\n",
      "174/174 [==============================] - 47s 268ms/step - loss: 0.2001 - accuracy: 0.9292 - val_loss: 0.7266 - val_accuracy: 0.8264\n",
      "Epoch 244/500\n",
      "174/174 [==============================] - 47s 269ms/step - loss: 0.1970 - accuracy: 0.9339 - val_loss: 0.7125 - val_accuracy: 0.8333\n",
      "Epoch 245/500\n",
      "174/174 [==============================] - 47s 269ms/step - loss: 0.1996 - accuracy: 0.9314 - val_loss: 0.7681 - val_accuracy: 0.8243\n",
      "Epoch 246/500\n",
      "174/174 [==============================] - 47s 270ms/step - loss: 0.2035 - accuracy: 0.9240 - val_loss: 0.7999 - val_accuracy: 0.8126\n",
      "Epoch 247/500\n",
      "174/174 [==============================] - 47s 269ms/step - loss: 0.1905 - accuracy: 0.9334 - val_loss: 0.4930 - val_accuracy: 0.8693\n",
      "Epoch 248/500\n",
      "174/174 [==============================] - 47s 273ms/step - loss: 0.2018 - accuracy: 0.9285 - val_loss: 0.5325 - val_accuracy: 0.8672\n",
      "Epoch 249/500\n",
      "174/174 [==============================] - 47s 270ms/step - loss: 0.2232 - accuracy: 0.9180 - val_loss: 0.7459 - val_accuracy: 0.8209\n",
      "Epoch 250/500\n",
      "174/174 [==============================] - 47s 269ms/step - loss: 0.1969 - accuracy: 0.9261 - val_loss: 0.7070 - val_accuracy: 0.8257\n",
      "Epoch 251/500\n",
      "174/174 [==============================] - 47s 270ms/step - loss: 0.2137 - accuracy: 0.9269 - val_loss: 0.5797 - val_accuracy: 0.8472\n",
      "Epoch 252/500\n",
      "174/174 [==============================] - 47s 270ms/step - loss: 0.2197 - accuracy: 0.9241 - val_loss: 0.7415 - val_accuracy: 0.8216\n",
      "Epoch 253/500\n",
      "174/174 [==============================] - 47s 269ms/step - loss: 0.2176 - accuracy: 0.9283 - val_loss: 1.4689 - val_accuracy: 0.7344\n",
      "Epoch 254/500\n",
      "174/174 [==============================] - 48s 275ms/step - loss: 0.3030 - accuracy: 0.8999 - val_loss: 0.7636 - val_accuracy: 0.8216\n",
      "Epoch 255/500\n",
      "174/174 [==============================] - 47s 270ms/step - loss: 0.2132 - accuracy: 0.9256 - val_loss: 0.5388 - val_accuracy: 0.8568\n",
      "Epoch 256/500\n",
      "174/174 [==============================] - 47s 269ms/step - loss: 0.1988 - accuracy: 0.9308 - val_loss: 0.8198 - val_accuracy: 0.8237\n",
      "Epoch 257/500\n",
      "174/174 [==============================] - 47s 269ms/step - loss: 0.1934 - accuracy: 0.9299 - val_loss: 0.8342 - val_accuracy: 0.8243\n",
      "Epoch 258/500\n",
      "174/174 [==============================] - 47s 271ms/step - loss: 0.1838 - accuracy: 0.9325 - val_loss: 0.7848 - val_accuracy: 0.8230\n",
      "Epoch 259/500\n",
      "174/174 [==============================] - 47s 272ms/step - loss: 0.2087 - accuracy: 0.9270 - val_loss: 0.9413 - val_accuracy: 0.7988\n",
      "Epoch 260/500\n",
      "174/174 [==============================] - 47s 271ms/step - loss: 0.2053 - accuracy: 0.9323 - val_loss: 0.6949 - val_accuracy: 0.8285\n",
      "Epoch 261/500\n",
      "174/174 [==============================] - 48s 275ms/step - loss: 0.2232 - accuracy: 0.9220 - val_loss: 0.6813 - val_accuracy: 0.8361\n",
      "Epoch 262/500\n",
      "174/174 [==============================] - 47s 269ms/step - loss: 0.2066 - accuracy: 0.9276 - val_loss: 0.4718 - val_accuracy: 0.8658\n",
      "Epoch 263/500\n",
      "174/174 [==============================] - 47s 271ms/step - loss: 0.1834 - accuracy: 0.9323 - val_loss: 0.5370 - val_accuracy: 0.8624\n",
      "Epoch 264/500\n",
      "174/174 [==============================] - 49s 281ms/step - loss: 0.1901 - accuracy: 0.9317 - val_loss: 0.4651 - val_accuracy: 0.8776\n",
      "Epoch 265/500\n",
      "174/174 [==============================] - 49s 279ms/step - loss: 0.2185 - accuracy: 0.9263 - val_loss: 0.4504 - val_accuracy: 0.8783\n",
      "Epoch 266/500\n",
      "174/174 [==============================] - 47s 271ms/step - loss: 0.2021 - accuracy: 0.9301 - val_loss: 0.8231 - val_accuracy: 0.8098\n",
      "Epoch 267/500\n",
      "174/174 [==============================] - 48s 273ms/step - loss: 0.1803 - accuracy: 0.9368 - val_loss: 0.6508 - val_accuracy: 0.8451\n",
      "Epoch 268/500\n",
      "174/174 [==============================] - 47s 270ms/step - loss: 0.1833 - accuracy: 0.9382 - val_loss: 0.6338 - val_accuracy: 0.8347\n",
      "Epoch 269/500\n",
      "174/174 [==============================] - 47s 270ms/step - loss: 0.1712 - accuracy: 0.9406 - val_loss: 0.9012 - val_accuracy: 0.8243\n",
      "Epoch 270/500\n",
      "174/174 [==============================] - 49s 279ms/step - loss: 0.1946 - accuracy: 0.9310 - val_loss: 0.4531 - val_accuracy: 0.8907\n",
      "Epoch 271/500\n",
      "174/174 [==============================] - 47s 270ms/step - loss: 0.1912 - accuracy: 0.9334 - val_loss: 0.6184 - val_accuracy: 0.8437\n",
      "Epoch 272/500\n",
      "174/174 [==============================] - 47s 271ms/step - loss: 0.1762 - accuracy: 0.9402 - val_loss: 0.7284 - val_accuracy: 0.8223\n",
      "Epoch 273/500\n",
      "174/174 [==============================] - 47s 270ms/step - loss: 0.1909 - accuracy: 0.9325 - val_loss: 0.6620 - val_accuracy: 0.8354\n",
      "Epoch 274/500\n",
      "174/174 [==============================] - 47s 272ms/step - loss: 0.1838 - accuracy: 0.9334 - val_loss: 0.4828 - val_accuracy: 0.8748\n",
      "Epoch 275/500\n",
      "174/174 [==============================] - 47s 270ms/step - loss: 0.1940 - accuracy: 0.9328 - val_loss: 0.6651 - val_accuracy: 0.8444\n",
      "Epoch 276/500\n",
      "174/174 [==============================] - 47s 270ms/step - loss: 0.1975 - accuracy: 0.9314 - val_loss: 0.7049 - val_accuracy: 0.8340\n",
      "Epoch 277/500\n",
      "174/174 [==============================] - 47s 269ms/step - loss: 0.1961 - accuracy: 0.9326 - val_loss: 0.6802 - val_accuracy: 0.8347\n",
      "Epoch 278/500\n",
      "174/174 [==============================] - 47s 269ms/step - loss: 0.1839 - accuracy: 0.9352 - val_loss: 0.5361 - val_accuracy: 0.8513\n",
      "Epoch 279/500\n",
      "174/174 [==============================] - 47s 268ms/step - loss: 0.1864 - accuracy: 0.9350 - val_loss: 0.6315 - val_accuracy: 0.8451\n",
      "Epoch 280/500\n",
      "174/174 [==============================] - 47s 273ms/step - loss: 0.1873 - accuracy: 0.9319 - val_loss: 0.5544 - val_accuracy: 0.8617\n",
      "Epoch 281/500\n",
      "174/174 [==============================] - 47s 268ms/step - loss: 0.1822 - accuracy: 0.9366 - val_loss: 0.7091 - val_accuracy: 0.8326\n",
      "Epoch 282/500\n",
      "174/174 [==============================] - 47s 268ms/step - loss: 0.1828 - accuracy: 0.9352 - val_loss: 0.8613 - val_accuracy: 0.8174\n",
      "Epoch 283/500\n",
      "174/174 [==============================] - 47s 268ms/step - loss: 0.1807 - accuracy: 0.9384 - val_loss: 0.6464 - val_accuracy: 0.8409\n",
      "Epoch 284/500\n",
      "174/174 [==============================] - 47s 267ms/step - loss: 0.1895 - accuracy: 0.9353 - val_loss: 0.6716 - val_accuracy: 0.8361\n",
      "Epoch 285/500\n",
      "174/174 [==============================] - 47s 268ms/step - loss: 0.1885 - accuracy: 0.9328 - val_loss: 0.6302 - val_accuracy: 0.8458\n",
      "Epoch 286/500\n",
      "174/174 [==============================] - 47s 268ms/step - loss: 0.1747 - accuracy: 0.9368 - val_loss: 0.5550 - val_accuracy: 0.8624\n",
      "Epoch 287/500\n",
      "174/174 [==============================] - 47s 270ms/step - loss: 0.1791 - accuracy: 0.9373 - val_loss: 0.9636 - val_accuracy: 0.8057\n",
      "Epoch 288/500\n",
      "174/174 [==============================] - 47s 271ms/step - loss: 0.1964 - accuracy: 0.9317 - val_loss: 0.8409 - val_accuracy: 0.8167\n",
      "Epoch 289/500\n",
      "174/174 [==============================] - 47s 271ms/step - loss: 0.1939 - accuracy: 0.9297 - val_loss: 0.6117 - val_accuracy: 0.8555\n",
      "Epoch 290/500\n",
      "174/174 [==============================] - 47s 271ms/step - loss: 0.1751 - accuracy: 0.9370 - val_loss: 0.7998 - val_accuracy: 0.8160\n",
      "Epoch 291/500\n",
      "174/174 [==============================] - 47s 269ms/step - loss: 0.2573 - accuracy: 0.9126 - val_loss: 0.6753 - val_accuracy: 0.8396\n",
      "Epoch 292/500\n",
      "174/174 [==============================] - 47s 270ms/step - loss: 0.1762 - accuracy: 0.9364 - val_loss: 0.9163 - val_accuracy: 0.8133\n",
      "Epoch 293/500\n",
      "174/174 [==============================] - 47s 271ms/step - loss: 0.1688 - accuracy: 0.9438 - val_loss: 0.7538 - val_accuracy: 0.8195\n",
      "Epoch 294/500\n",
      "174/174 [==============================] - 47s 270ms/step - loss: 0.1820 - accuracy: 0.9368 - val_loss: 0.5680 - val_accuracy: 0.8485\n",
      "Epoch 295/500\n",
      "174/174 [==============================] - 47s 270ms/step - loss: 0.1789 - accuracy: 0.9368 - val_loss: 0.6153 - val_accuracy: 0.8499\n",
      "Epoch 296/500\n",
      "174/174 [==============================] - 47s 269ms/step - loss: 0.1672 - accuracy: 0.9418 - val_loss: 0.5838 - val_accuracy: 0.8520\n",
      "Epoch 297/500\n",
      "174/174 [==============================] - 47s 270ms/step - loss: 0.2274 - accuracy: 0.9252 - val_loss: 0.6622 - val_accuracy: 0.8389\n",
      "Epoch 298/500\n",
      "174/174 [==============================] - 47s 269ms/step - loss: 0.1832 - accuracy: 0.9332 - val_loss: 0.7152 - val_accuracy: 0.8299\n",
      "Epoch 299/500\n",
      "174/174 [==============================] - 47s 269ms/step - loss: 0.1851 - accuracy: 0.9334 - val_loss: 0.5692 - val_accuracy: 0.8527\n",
      "Epoch 300/500\n",
      "174/174 [==============================] - 47s 272ms/step - loss: 0.1851 - accuracy: 0.9350 - val_loss: 0.7247 - val_accuracy: 0.8333\n",
      "Epoch 301/500\n",
      "174/174 [==============================] - 47s 268ms/step - loss: 0.1761 - accuracy: 0.9388 - val_loss: 0.6233 - val_accuracy: 0.8479\n",
      "Epoch 302/500\n",
      "174/174 [==============================] - 47s 269ms/step - loss: 0.1824 - accuracy: 0.9350 - val_loss: 0.6187 - val_accuracy: 0.8472\n",
      "Epoch 303/500\n",
      "174/174 [==============================] - 47s 268ms/step - loss: 0.1675 - accuracy: 0.9427 - val_loss: 0.8847 - val_accuracy: 0.8154\n",
      "Epoch 304/500\n",
      "174/174 [==============================] - 47s 272ms/step - loss: 0.1575 - accuracy: 0.9455 - val_loss: 0.7722 - val_accuracy: 0.8340\n",
      "Epoch 305/500\n",
      "174/174 [==============================] - 47s 270ms/step - loss: 0.1736 - accuracy: 0.9375 - val_loss: 0.7399 - val_accuracy: 0.8326\n",
      "Epoch 306/500\n",
      "174/174 [==============================] - 47s 270ms/step - loss: 0.1642 - accuracy: 0.9435 - val_loss: 0.6378 - val_accuracy: 0.8479\n",
      "Epoch 307/500\n",
      "174/174 [==============================] - 47s 272ms/step - loss: 0.1731 - accuracy: 0.9388 - val_loss: 0.6829 - val_accuracy: 0.8354\n",
      "Epoch 308/500\n",
      "174/174 [==============================] - 47s 269ms/step - loss: 0.1666 - accuracy: 0.9420 - val_loss: 0.4830 - val_accuracy: 0.8693\n",
      "Epoch 309/500\n",
      "174/174 [==============================] - 47s 270ms/step - loss: 0.1547 - accuracy: 0.9460 - val_loss: 0.5363 - val_accuracy: 0.8665\n",
      "Epoch 310/500\n",
      "174/174 [==============================] - 47s 271ms/step - loss: 0.1667 - accuracy: 0.9404 - val_loss: 0.6126 - val_accuracy: 0.8534\n",
      "Epoch 311/500\n",
      "174/174 [==============================] - 47s 269ms/step - loss: 0.1762 - accuracy: 0.9357 - val_loss: 1.2098 - val_accuracy: 0.7746\n",
      "Epoch 312/500\n",
      "174/174 [==============================] - 47s 270ms/step - loss: 0.1653 - accuracy: 0.9413 - val_loss: 0.8465 - val_accuracy: 0.8036\n",
      "Epoch 313/500\n",
      "174/174 [==============================] - 47s 271ms/step - loss: 0.1612 - accuracy: 0.9426 - val_loss: 0.6855 - val_accuracy: 0.8485\n",
      "Epoch 314/500\n",
      "174/174 [==============================] - 47s 271ms/step - loss: 0.2145 - accuracy: 0.9288 - val_loss: 0.6306 - val_accuracy: 0.8472\n",
      "Epoch 315/500\n",
      "174/174 [==============================] - 47s 269ms/step - loss: 0.1616 - accuracy: 0.9449 - val_loss: 0.8233 - val_accuracy: 0.8216\n",
      "Epoch 316/500\n",
      "174/174 [==============================] - 47s 269ms/step - loss: 0.1614 - accuracy: 0.9444 - val_loss: 0.6810 - val_accuracy: 0.8444\n",
      "Epoch 317/500\n",
      "174/174 [==============================] - 47s 270ms/step - loss: 0.1742 - accuracy: 0.9368 - val_loss: 0.7583 - val_accuracy: 0.8292\n",
      "Epoch 318/500\n",
      "174/174 [==============================] - 47s 270ms/step - loss: 0.1575 - accuracy: 0.9446 - val_loss: 0.7549 - val_accuracy: 0.8347\n",
      "Epoch 319/500\n",
      "174/174 [==============================] - 47s 269ms/step - loss: 0.1574 - accuracy: 0.9453 - val_loss: 0.5563 - val_accuracy: 0.8562\n",
      "Epoch 320/500\n",
      "174/174 [==============================] - 47s 271ms/step - loss: 0.1608 - accuracy: 0.9424 - val_loss: 0.9298 - val_accuracy: 0.8195\n",
      "Epoch 321/500\n",
      "174/174 [==============================] - 47s 269ms/step - loss: 0.1576 - accuracy: 0.9446 - val_loss: 0.5454 - val_accuracy: 0.8700\n",
      "Epoch 322/500\n",
      "174/174 [==============================] - 47s 268ms/step - loss: 0.1725 - accuracy: 0.9359 - val_loss: 0.9329 - val_accuracy: 0.8126\n",
      "Epoch 323/500\n",
      "174/174 [==============================] - 47s 268ms/step - loss: 0.1617 - accuracy: 0.9420 - val_loss: 0.8639 - val_accuracy: 0.8237\n",
      "Epoch 324/500\n",
      "174/174 [==============================] - 47s 270ms/step - loss: 0.1633 - accuracy: 0.9415 - val_loss: 0.8451 - val_accuracy: 0.8299\n",
      "Epoch 325/500\n",
      "174/174 [==============================] - 47s 267ms/step - loss: 0.1703 - accuracy: 0.9397 - val_loss: 0.6379 - val_accuracy: 0.8479\n",
      "Epoch 326/500\n",
      "174/174 [==============================] - 47s 272ms/step - loss: 0.2079 - accuracy: 0.9323 - val_loss: 0.7799 - val_accuracy: 0.8257\n",
      "Epoch 327/500\n",
      "174/174 [==============================] - 47s 270ms/step - loss: 0.1754 - accuracy: 0.9399 - val_loss: 0.6702 - val_accuracy: 0.8575\n",
      "Epoch 328/500\n",
      "174/174 [==============================] - 47s 271ms/step - loss: 0.1966 - accuracy: 0.9328 - val_loss: 0.6987 - val_accuracy: 0.8320\n",
      "Epoch 329/500\n",
      "174/174 [==============================] - 47s 272ms/step - loss: 0.1676 - accuracy: 0.9391 - val_loss: 0.6914 - val_accuracy: 0.8278\n",
      "Epoch 330/500\n",
      "174/174 [==============================] - 48s 273ms/step - loss: 0.1545 - accuracy: 0.9469 - val_loss: 0.7061 - val_accuracy: 0.8326\n",
      "Epoch 331/500\n",
      "174/174 [==============================] - 49s 284ms/step - loss: 0.1640 - accuracy: 0.9465 - val_loss: 0.3772 - val_accuracy: 0.8970\n",
      "Epoch 332/500\n",
      "174/174 [==============================] - 47s 272ms/step - loss: 0.1619 - accuracy: 0.9444 - val_loss: 0.7035 - val_accuracy: 0.8396\n",
      "Epoch 333/500\n",
      "174/174 [==============================] - 48s 275ms/step - loss: 0.1533 - accuracy: 0.9444 - val_loss: 0.7026 - val_accuracy: 0.8354\n",
      "Epoch 334/500\n",
      "174/174 [==============================] - 47s 273ms/step - loss: 0.1515 - accuracy: 0.9455 - val_loss: 0.4651 - val_accuracy: 0.8852\n",
      "Epoch 335/500\n",
      "174/174 [==============================] - 47s 272ms/step - loss: 0.1648 - accuracy: 0.9433 - val_loss: 0.6255 - val_accuracy: 0.8416\n",
      "Epoch 336/500\n",
      "174/174 [==============================] - 48s 273ms/step - loss: 0.1501 - accuracy: 0.9446 - val_loss: 0.8726 - val_accuracy: 0.8098\n",
      "Epoch 337/500\n",
      "174/174 [==============================] - 47s 270ms/step - loss: 0.1923 - accuracy: 0.9306 - val_loss: 0.5704 - val_accuracy: 0.8541\n",
      "Epoch 338/500\n",
      "174/174 [==============================] - 47s 270ms/step - loss: 0.1513 - accuracy: 0.9435 - val_loss: 0.5848 - val_accuracy: 0.8575\n",
      "Epoch 339/500\n",
      "174/174 [==============================] - 47s 271ms/step - loss: 0.1629 - accuracy: 0.9449 - val_loss: 0.5784 - val_accuracy: 0.8617\n",
      "Epoch 340/500\n",
      "174/174 [==============================] - 47s 271ms/step - loss: 0.1577 - accuracy: 0.9438 - val_loss: 0.6787 - val_accuracy: 0.8402\n",
      "Epoch 341/500\n",
      "174/174 [==============================] - 47s 272ms/step - loss: 0.1647 - accuracy: 0.9446 - val_loss: 0.5011 - val_accuracy: 0.8762\n",
      "Epoch 342/500\n",
      "174/174 [==============================] - 47s 269ms/step - loss: 0.1501 - accuracy: 0.9502 - val_loss: 0.5903 - val_accuracy: 0.8596\n",
      "Epoch 343/500\n",
      "174/174 [==============================] - 47s 270ms/step - loss: 0.1623 - accuracy: 0.9453 - val_loss: 0.5059 - val_accuracy: 0.8672\n",
      "Epoch 344/500\n",
      "174/174 [==============================] - 47s 268ms/step - loss: 0.1518 - accuracy: 0.9494 - val_loss: 0.5513 - val_accuracy: 0.8651\n",
      "Epoch 345/500\n",
      "174/174 [==============================] - 47s 270ms/step - loss: 0.1610 - accuracy: 0.9427 - val_loss: 0.6916 - val_accuracy: 0.8402\n",
      "Epoch 346/500\n",
      "174/174 [==============================] - 48s 274ms/step - loss: 0.1588 - accuracy: 0.9418 - val_loss: 0.6123 - val_accuracy: 0.8534\n",
      "Epoch 347/500\n",
      "174/174 [==============================] - 47s 270ms/step - loss: 0.1493 - accuracy: 0.9446 - val_loss: 0.4629 - val_accuracy: 0.8817\n",
      "Epoch 348/500\n",
      "174/174 [==============================] - 47s 270ms/step - loss: 0.1632 - accuracy: 0.9451 - val_loss: 0.9235 - val_accuracy: 0.8050\n",
      "Epoch 349/500\n",
      "174/174 [==============================] - 47s 270ms/step - loss: 0.1732 - accuracy: 0.9344 - val_loss: 0.6271 - val_accuracy: 0.8485\n",
      "Epoch 350/500\n",
      "174/174 [==============================] - 47s 269ms/step - loss: 0.1527 - accuracy: 0.9449 - val_loss: 0.5661 - val_accuracy: 0.8672\n",
      "Epoch 351/500\n",
      "174/174 [==============================] - 47s 270ms/step - loss: 0.1477 - accuracy: 0.9480 - val_loss: 0.5342 - val_accuracy: 0.8665\n",
      "Epoch 352/500\n",
      "174/174 [==============================] - 47s 270ms/step - loss: 0.1618 - accuracy: 0.9411 - val_loss: 0.7968 - val_accuracy: 0.8230\n",
      "Epoch 353/500\n",
      "174/174 [==============================] - 47s 273ms/step - loss: 0.1564 - accuracy: 0.9431 - val_loss: 0.7388 - val_accuracy: 0.8237\n",
      "Epoch 354/500\n",
      "174/174 [==============================] - 47s 269ms/step - loss: 0.1513 - accuracy: 0.9433 - val_loss: 0.6158 - val_accuracy: 0.8492\n",
      "Epoch 355/500\n",
      "174/174 [==============================] - 47s 270ms/step - loss: 0.2375 - accuracy: 0.9178 - val_loss: 0.6162 - val_accuracy: 0.8396\n",
      "Epoch 356/500\n",
      "174/174 [==============================] - 47s 271ms/step - loss: 0.1501 - accuracy: 0.9442 - val_loss: 0.7063 - val_accuracy: 0.8306\n",
      "Epoch 357/500\n",
      "174/174 [==============================] - 47s 268ms/step - loss: 0.1567 - accuracy: 0.9462 - val_loss: 0.6161 - val_accuracy: 0.8458\n",
      "Epoch 358/500\n",
      "174/174 [==============================] - 47s 270ms/step - loss: 0.1422 - accuracy: 0.9500 - val_loss: 0.5722 - val_accuracy: 0.8582\n",
      "Epoch 359/500\n",
      "174/174 [==============================] - 47s 269ms/step - loss: 0.1561 - accuracy: 0.9456 - val_loss: 0.5597 - val_accuracy: 0.8645\n",
      "Epoch 360/500\n",
      "174/174 [==============================] - 46s 266ms/step - loss: 0.1424 - accuracy: 0.9496 - val_loss: 0.6986 - val_accuracy: 0.8416\n",
      "Epoch 361/500\n",
      "174/174 [==============================] - 46s 267ms/step - loss: 0.1523 - accuracy: 0.9483 - val_loss: 0.7126 - val_accuracy: 0.8409\n",
      "Epoch 362/500\n",
      "174/174 [==============================] - 47s 268ms/step - loss: 0.1492 - accuracy: 0.9473 - val_loss: 0.7750 - val_accuracy: 0.8278\n",
      "Epoch 363/500\n",
      "174/174 [==============================] - 47s 268ms/step - loss: 0.1394 - accuracy: 0.9511 - val_loss: 0.7364 - val_accuracy: 0.8354\n",
      "Epoch 364/500\n",
      "174/174 [==============================] - 46s 265ms/step - loss: 0.1533 - accuracy: 0.9487 - val_loss: 0.9906 - val_accuracy: 0.8001\n",
      "Epoch 365/500\n",
      "174/174 [==============================] - 46s 266ms/step - loss: 0.1474 - accuracy: 0.9514 - val_loss: 0.7436 - val_accuracy: 0.8354\n",
      "Epoch 366/500\n",
      "174/174 [==============================] - 47s 269ms/step - loss: 0.1531 - accuracy: 0.9478 - val_loss: 0.6208 - val_accuracy: 0.8568\n",
      "Epoch 367/500\n",
      "174/174 [==============================] - 46s 267ms/step - loss: 0.1442 - accuracy: 0.9482 - val_loss: 0.5517 - val_accuracy: 0.8728\n",
      "Epoch 368/500\n",
      "174/174 [==============================] - 46s 265ms/step - loss: 0.1448 - accuracy: 0.9494 - val_loss: 0.7254 - val_accuracy: 0.8485\n",
      "Epoch 369/500\n",
      "174/174 [==============================] - 47s 268ms/step - loss: 0.1502 - accuracy: 0.9505 - val_loss: 0.6161 - val_accuracy: 0.8458\n",
      "Epoch 370/500\n",
      "174/174 [==============================] - 46s 266ms/step - loss: 0.1487 - accuracy: 0.9474 - val_loss: 0.7630 - val_accuracy: 0.8340\n",
      "Epoch 371/500\n",
      "174/174 [==============================] - 46s 266ms/step - loss: 0.1472 - accuracy: 0.9456 - val_loss: 0.5907 - val_accuracy: 0.8568\n",
      "Epoch 372/500\n",
      "174/174 [==============================] - 46s 267ms/step - loss: 0.1547 - accuracy: 0.9437 - val_loss: 0.5520 - val_accuracy: 0.8624\n",
      "Epoch 373/500\n",
      "174/174 [==============================] - 46s 267ms/step - loss: 0.1424 - accuracy: 0.9511 - val_loss: 0.8266 - val_accuracy: 0.8230\n",
      "Epoch 374/500\n",
      "174/174 [==============================] - 46s 266ms/step - loss: 0.1503 - accuracy: 0.9482 - val_loss: 0.6683 - val_accuracy: 0.8409\n",
      "Epoch 375/500\n",
      "174/174 [==============================] - 46s 265ms/step - loss: 0.1405 - accuracy: 0.9496 - val_loss: 0.4963 - val_accuracy: 0.8707\n",
      "Epoch 376/500\n",
      "174/174 [==============================] - 46s 266ms/step - loss: 0.1419 - accuracy: 0.9465 - val_loss: 0.6133 - val_accuracy: 0.8548\n",
      "Epoch 377/500\n",
      "174/174 [==============================] - 46s 266ms/step - loss: 0.1453 - accuracy: 0.9518 - val_loss: 0.6863 - val_accuracy: 0.8472\n",
      "Epoch 378/500\n",
      "174/174 [==============================] - 46s 265ms/step - loss: 0.1553 - accuracy: 0.9491 - val_loss: 0.9518 - val_accuracy: 0.8029\n",
      "Epoch 379/500\n",
      "174/174 [==============================] - 47s 269ms/step - loss: 0.1469 - accuracy: 0.9471 - val_loss: 0.5173 - val_accuracy: 0.8741\n",
      "Epoch 380/500\n",
      "174/174 [==============================] - 46s 266ms/step - loss: 0.1392 - accuracy: 0.9493 - val_loss: 0.7728 - val_accuracy: 0.8409\n",
      "Epoch 381/500\n",
      "174/174 [==============================] - 46s 266ms/step - loss: 0.1355 - accuracy: 0.9498 - val_loss: 0.7050 - val_accuracy: 0.8389\n",
      "Epoch 382/500\n",
      "174/174 [==============================] - 47s 268ms/step - loss: 0.1379 - accuracy: 0.9502 - val_loss: 0.8692 - val_accuracy: 0.8112\n",
      "Epoch 383/500\n",
      "174/174 [==============================] - 46s 266ms/step - loss: 0.1423 - accuracy: 0.9502 - val_loss: 0.5385 - val_accuracy: 0.8665\n",
      "Epoch 384/500\n",
      "174/174 [==============================] - 47s 268ms/step - loss: 0.1463 - accuracy: 0.9493 - val_loss: 0.5526 - val_accuracy: 0.8707\n",
      "Epoch 385/500\n",
      "174/174 [==============================] - 46s 267ms/step - loss: 0.1589 - accuracy: 0.9431 - val_loss: 0.5956 - val_accuracy: 0.8506\n",
      "Epoch 386/500\n",
      "174/174 [==============================] - 47s 269ms/step - loss: 0.1574 - accuracy: 0.9435 - val_loss: 0.7506 - val_accuracy: 0.8347\n",
      "Epoch 387/500\n",
      "174/174 [==============================] - 46s 266ms/step - loss: 0.1511 - accuracy: 0.9449 - val_loss: 0.6308 - val_accuracy: 0.8568\n",
      "Epoch 388/500\n",
      "174/174 [==============================] - 47s 268ms/step - loss: 0.1337 - accuracy: 0.9543 - val_loss: 0.5511 - val_accuracy: 0.8589\n",
      "Epoch 389/500\n",
      "174/174 [==============================] - 46s 267ms/step - loss: 0.1392 - accuracy: 0.9464 - val_loss: 0.4541 - val_accuracy: 0.8824\n",
      "Epoch 390/500\n",
      "174/174 [==============================] - 46s 266ms/step - loss: 0.1385 - accuracy: 0.9500 - val_loss: 0.4920 - val_accuracy: 0.8797\n",
      "Epoch 391/500\n",
      "174/174 [==============================] - 47s 267ms/step - loss: 0.1461 - accuracy: 0.9469 - val_loss: 0.5047 - val_accuracy: 0.8721\n",
      "Epoch 392/500\n",
      "174/174 [==============================] - 47s 269ms/step - loss: 0.1330 - accuracy: 0.9561 - val_loss: 0.7309 - val_accuracy: 0.8278\n",
      "Epoch 393/500\n",
      "174/174 [==============================] - 47s 270ms/step - loss: 0.1274 - accuracy: 0.9538 - val_loss: 0.7626 - val_accuracy: 0.8354\n",
      "Epoch 394/500\n",
      "174/174 [==============================] - 46s 267ms/step - loss: 0.1295 - accuracy: 0.9530 - val_loss: 0.7692 - val_accuracy: 0.8195\n",
      "Epoch 395/500\n",
      "174/174 [==============================] - 47s 268ms/step - loss: 0.1374 - accuracy: 0.9512 - val_loss: 0.9193 - val_accuracy: 0.8126\n",
      "Epoch 396/500\n",
      "174/174 [==============================] - 46s 266ms/step - loss: 0.1452 - accuracy: 0.9498 - val_loss: 0.6799 - val_accuracy: 0.8306\n",
      "Epoch 397/500\n",
      "174/174 [==============================] - 46s 267ms/step - loss: 0.1463 - accuracy: 0.9460 - val_loss: 0.4738 - val_accuracy: 0.8859\n",
      "Epoch 398/500\n",
      "174/174 [==============================] - 46s 267ms/step - loss: 0.1287 - accuracy: 0.9558 - val_loss: 0.6831 - val_accuracy: 0.8402\n",
      "Epoch 399/500\n",
      "174/174 [==============================] - 47s 269ms/step - loss: 0.1798 - accuracy: 0.9408 - val_loss: 0.8067 - val_accuracy: 0.8188\n",
      "Epoch 400/500\n",
      "174/174 [==============================] - 47s 269ms/step - loss: 0.1515 - accuracy: 0.9500 - val_loss: 1.1167 - val_accuracy: 0.7967\n",
      "Epoch 401/500\n",
      "174/174 [==============================] - 47s 268ms/step - loss: 0.1570 - accuracy: 0.9433 - val_loss: 0.5280 - val_accuracy: 0.8679\n",
      "Epoch 402/500\n",
      "174/174 [==============================] - 47s 268ms/step - loss: 0.1559 - accuracy: 0.9438 - val_loss: 0.3763 - val_accuracy: 0.8970\n",
      "Epoch 403/500\n",
      "174/174 [==============================] - 47s 268ms/step - loss: 0.1308 - accuracy: 0.9530 - val_loss: 0.7494 - val_accuracy: 0.8340\n",
      "Epoch 404/500\n",
      "174/174 [==============================] - 47s 268ms/step - loss: 0.1378 - accuracy: 0.9489 - val_loss: 0.8884 - val_accuracy: 0.8112\n",
      "Epoch 405/500\n",
      "174/174 [==============================] - 46s 267ms/step - loss: 0.1343 - accuracy: 0.9507 - val_loss: 0.9025 - val_accuracy: 0.8036\n",
      "Epoch 406/500\n",
      "174/174 [==============================] - 47s 271ms/step - loss: 0.1463 - accuracy: 0.9491 - val_loss: 0.9934 - val_accuracy: 0.8008\n",
      "Epoch 407/500\n",
      "174/174 [==============================] - 46s 266ms/step - loss: 0.1264 - accuracy: 0.9556 - val_loss: 0.9146 - val_accuracy: 0.8112\n",
      "Epoch 408/500\n",
      "174/174 [==============================] - 47s 269ms/step - loss: 0.1395 - accuracy: 0.9516 - val_loss: 0.6426 - val_accuracy: 0.8568\n",
      "Epoch 409/500\n",
      "174/174 [==============================] - 45s 261ms/step - loss: 0.1400 - accuracy: 0.9523 - val_loss: 0.5407 - val_accuracy: 0.8596\n",
      "Epoch 410/500\n",
      "174/174 [==============================] - 46s 264ms/step - loss: 0.1264 - accuracy: 0.9545 - val_loss: 0.4785 - val_accuracy: 0.8714\n",
      "Epoch 411/500\n",
      "174/174 [==============================] - 46s 263ms/step - loss: 0.1351 - accuracy: 0.9541 - val_loss: 0.5862 - val_accuracy: 0.8520\n",
      "Epoch 412/500\n",
      "174/174 [==============================] - 47s 270ms/step - loss: 0.1372 - accuracy: 0.9529 - val_loss: 0.4511 - val_accuracy: 0.8880\n",
      "Epoch 413/500\n",
      "174/174 [==============================] - 47s 270ms/step - loss: 0.1313 - accuracy: 0.9530 - val_loss: 0.6073 - val_accuracy: 0.8658\n",
      "Epoch 414/500\n",
      "174/174 [==============================] - 47s 269ms/step - loss: 0.2238 - accuracy: 0.9308 - val_loss: 0.6494 - val_accuracy: 0.8527\n",
      "Epoch 415/500\n",
      "174/174 [==============================] - 47s 269ms/step - loss: 0.1513 - accuracy: 0.9473 - val_loss: 0.5995 - val_accuracy: 0.8520\n",
      "Epoch 416/500\n",
      "174/174 [==============================] - 47s 269ms/step - loss: 0.1217 - accuracy: 0.9530 - val_loss: 0.3967 - val_accuracy: 0.8942\n",
      "Epoch 417/500\n",
      "174/174 [==============================] - 47s 270ms/step - loss: 0.1404 - accuracy: 0.9527 - val_loss: 0.5087 - val_accuracy: 0.8707\n",
      "Epoch 418/500\n",
      "174/174 [==============================] - 47s 270ms/step - loss: 0.1181 - accuracy: 0.9604 - val_loss: 0.5747 - val_accuracy: 0.8617\n",
      "Epoch 419/500\n",
      "174/174 [==============================] - 48s 273ms/step - loss: 0.1363 - accuracy: 0.9539 - val_loss: 0.5267 - val_accuracy: 0.8700\n",
      "Epoch 420/500\n",
      "174/174 [==============================] - 47s 270ms/step - loss: 0.1271 - accuracy: 0.9550 - val_loss: 0.6608 - val_accuracy: 0.8534\n",
      "Epoch 421/500\n",
      "174/174 [==============================] - 47s 271ms/step - loss: 0.1421 - accuracy: 0.9511 - val_loss: 0.7902 - val_accuracy: 0.8216\n",
      "Epoch 422/500\n",
      "174/174 [==============================] - 47s 272ms/step - loss: 0.1628 - accuracy: 0.9478 - val_loss: 0.7477 - val_accuracy: 0.8375\n",
      "Epoch 423/500\n",
      "174/174 [==============================] - 47s 271ms/step - loss: 0.1732 - accuracy: 0.9426 - val_loss: 0.5838 - val_accuracy: 0.8631\n",
      "Epoch 424/500\n",
      "174/174 [==============================] - 48s 273ms/step - loss: 0.1862 - accuracy: 0.9361 - val_loss: 0.7482 - val_accuracy: 0.8437\n",
      "Epoch 425/500\n",
      "174/174 [==============================] - 48s 276ms/step - loss: 0.1425 - accuracy: 0.9534 - val_loss: 0.5009 - val_accuracy: 0.8707\n",
      "Epoch 426/500\n",
      "174/174 [==============================] - 48s 278ms/step - loss: 0.1343 - accuracy: 0.9518 - val_loss: 0.5850 - val_accuracy: 0.8672\n",
      "Epoch 427/500\n",
      "174/174 [==============================] - 48s 277ms/step - loss: 0.1236 - accuracy: 0.9574 - val_loss: 0.5097 - val_accuracy: 0.8728\n",
      "Epoch 428/500\n",
      "174/174 [==============================] - 48s 276ms/step - loss: 0.1235 - accuracy: 0.9579 - val_loss: 0.4143 - val_accuracy: 0.8880\n",
      "Epoch 429/500\n",
      "174/174 [==============================] - 49s 279ms/step - loss: 0.1334 - accuracy: 0.9514 - val_loss: 0.6848 - val_accuracy: 0.8562\n",
      "Epoch 430/500\n",
      "174/174 [==============================] - 49s 283ms/step - loss: 0.1297 - accuracy: 0.9539 - val_loss: 0.7071 - val_accuracy: 0.8485\n",
      "Epoch 431/500\n",
      "174/174 [==============================] - 49s 283ms/step - loss: 0.1191 - accuracy: 0.9572 - val_loss: 0.8402 - val_accuracy: 0.8340\n",
      "Epoch 432/500\n",
      "174/174 [==============================] - 50s 288ms/step - loss: 0.1342 - accuracy: 0.9518 - val_loss: 0.4784 - val_accuracy: 0.8928\n",
      "Epoch 433/500\n",
      "174/174 [==============================] - 50s 286ms/step - loss: 0.1269 - accuracy: 0.9559 - val_loss: 0.6672 - val_accuracy: 0.8444\n",
      "Epoch 434/500\n",
      "174/174 [==============================] - 49s 283ms/step - loss: 0.1651 - accuracy: 0.9460 - val_loss: 0.4998 - val_accuracy: 0.8748\n",
      "Epoch 435/500\n",
      "174/174 [==============================] - 50s 287ms/step - loss: 0.1355 - accuracy: 0.9512 - val_loss: 0.4776 - val_accuracy: 0.8755\n",
      "Epoch 436/500\n",
      "174/174 [==============================] - 50s 286ms/step - loss: 0.1338 - accuracy: 0.9550 - val_loss: 0.9881 - val_accuracy: 0.8077\n",
      "Epoch 437/500\n",
      "174/174 [==============================] - 50s 289ms/step - loss: 0.1451 - accuracy: 0.9496 - val_loss: 0.5798 - val_accuracy: 0.8617\n",
      "Epoch 438/500\n",
      "174/174 [==============================] - 50s 289ms/step - loss: 0.1174 - accuracy: 0.9561 - val_loss: 0.5054 - val_accuracy: 0.8804\n",
      "Epoch 439/500\n",
      "174/174 [==============================] - 50s 289ms/step - loss: 0.1301 - accuracy: 0.9558 - val_loss: 0.6018 - val_accuracy: 0.8589\n",
      "Epoch 440/500\n",
      "174/174 [==============================] - 50s 286ms/step - loss: 0.1240 - accuracy: 0.9572 - val_loss: 0.5522 - val_accuracy: 0.8714\n",
      "Epoch 441/500\n",
      "174/174 [==============================] - 49s 284ms/step - loss: 0.1188 - accuracy: 0.9577 - val_loss: 0.4813 - val_accuracy: 0.8880\n",
      "Epoch 442/500\n",
      "174/174 [==============================] - 49s 284ms/step - loss: 0.1358 - accuracy: 0.9543 - val_loss: 0.5989 - val_accuracy: 0.8617\n",
      "Epoch 443/500\n",
      "174/174 [==============================] - 50s 289ms/step - loss: 0.1198 - accuracy: 0.9592 - val_loss: 0.4887 - val_accuracy: 0.8880\n",
      "Epoch 444/500\n",
      "174/174 [==============================] - 51s 290ms/step - loss: 0.1338 - accuracy: 0.9532 - val_loss: 0.7312 - val_accuracy: 0.8326\n",
      "Epoch 445/500\n",
      "174/174 [==============================] - 50s 287ms/step - loss: 0.1218 - accuracy: 0.9572 - val_loss: 0.5627 - val_accuracy: 0.8610\n",
      "Epoch 446/500\n",
      "174/174 [==============================] - 50s 288ms/step - loss: 0.1320 - accuracy: 0.9556 - val_loss: 0.5310 - val_accuracy: 0.8755\n",
      "Epoch 447/500\n",
      "174/174 [==============================] - 50s 289ms/step - loss: 0.1241 - accuracy: 0.9558 - val_loss: 0.5332 - val_accuracy: 0.8700\n",
      "Epoch 448/500\n",
      "174/174 [==============================] - 49s 284ms/step - loss: 0.1172 - accuracy: 0.9597 - val_loss: 0.9477 - val_accuracy: 0.8223\n",
      "Epoch 449/500\n",
      "174/174 [==============================] - 51s 293ms/step - loss: 0.1332 - accuracy: 0.9529 - val_loss: 0.6914 - val_accuracy: 0.8492\n",
      "Epoch 450/500\n",
      "174/174 [==============================] - 53s 302ms/step - loss: 0.1317 - accuracy: 0.9538 - val_loss: 0.3572 - val_accuracy: 0.9142\n",
      "Epoch 451/500\n",
      "174/174 [==============================] - 50s 289ms/step - loss: 0.1290 - accuracy: 0.9509 - val_loss: 0.8542 - val_accuracy: 0.8174\n",
      "Epoch 452/500\n",
      "174/174 [==============================] - 49s 280ms/step - loss: 0.1147 - accuracy: 0.9590 - val_loss: 0.5807 - val_accuracy: 0.8589\n",
      "Epoch 453/500\n",
      "174/174 [==============================] - 49s 280ms/step - loss: 0.1351 - accuracy: 0.9536 - val_loss: 0.6562 - val_accuracy: 0.8582\n",
      "Epoch 454/500\n",
      "174/174 [==============================] - 49s 282ms/step - loss: 0.1165 - accuracy: 0.9604 - val_loss: 0.5320 - val_accuracy: 0.8831\n",
      "Epoch 455/500\n",
      "174/174 [==============================] - 49s 284ms/step - loss: 0.1276 - accuracy: 0.9556 - val_loss: 0.6110 - val_accuracy: 0.8645\n",
      "Epoch 456/500\n",
      "174/174 [==============================] - 50s 290ms/step - loss: 0.1291 - accuracy: 0.9500 - val_loss: 0.6895 - val_accuracy: 0.8520\n",
      "Epoch 457/500\n",
      "174/174 [==============================] - 51s 292ms/step - loss: 0.1252 - accuracy: 0.9570 - val_loss: 0.5900 - val_accuracy: 0.8714\n",
      "Epoch 458/500\n",
      "174/174 [==============================] - 50s 288ms/step - loss: 0.1295 - accuracy: 0.9568 - val_loss: 0.4320 - val_accuracy: 0.8921\n",
      "Epoch 459/500\n",
      "174/174 [==============================] - 50s 285ms/step - loss: 0.1353 - accuracy: 0.9567 - val_loss: 0.7737 - val_accuracy: 0.8368\n",
      "Epoch 460/500\n",
      "174/174 [==============================] - 50s 286ms/step - loss: 0.1230 - accuracy: 0.9581 - val_loss: 0.5268 - val_accuracy: 0.8728\n",
      "Epoch 461/500\n",
      "174/174 [==============================] - 50s 286ms/step - loss: 0.1918 - accuracy: 0.9362 - val_loss: 0.5393 - val_accuracy: 0.8755\n",
      "Epoch 462/500\n",
      "174/174 [==============================] - 49s 283ms/step - loss: 0.1170 - accuracy: 0.9615 - val_loss: 0.8469 - val_accuracy: 0.8278\n",
      "Epoch 463/500\n",
      "174/174 [==============================] - 50s 286ms/step - loss: 0.1360 - accuracy: 0.9534 - val_loss: 0.5352 - val_accuracy: 0.8734\n",
      "Epoch 464/500\n",
      "174/174 [==============================] - 49s 284ms/step - loss: 0.1172 - accuracy: 0.9581 - val_loss: 0.6668 - val_accuracy: 0.8458\n",
      "Epoch 465/500\n",
      "174/174 [==============================] - 50s 285ms/step - loss: 0.1057 - accuracy: 0.9628 - val_loss: 0.4117 - val_accuracy: 0.9032\n",
      "Epoch 466/500\n",
      "174/174 [==============================] - 50s 288ms/step - loss: 0.1112 - accuracy: 0.9595 - val_loss: 0.7725 - val_accuracy: 0.8430\n",
      "Epoch 467/500\n",
      "174/174 [==============================] - 50s 288ms/step - loss: 0.1337 - accuracy: 0.9503 - val_loss: 0.6150 - val_accuracy: 0.8721\n",
      "Epoch 468/500\n",
      "174/174 [==============================] - 50s 287ms/step - loss: 0.1141 - accuracy: 0.9599 - val_loss: 0.5281 - val_accuracy: 0.8783\n",
      "Epoch 469/500\n",
      "174/174 [==============================] - 50s 287ms/step - loss: 0.1407 - accuracy: 0.9518 - val_loss: 0.4378 - val_accuracy: 0.8956\n",
      "Epoch 470/500\n",
      "174/174 [==============================] - 49s 282ms/step - loss: 0.1274 - accuracy: 0.9559 - val_loss: 0.5946 - val_accuracy: 0.8568\n",
      "Epoch 471/500\n",
      "174/174 [==============================] - 49s 283ms/step - loss: 0.1204 - accuracy: 0.9527 - val_loss: 0.4985 - val_accuracy: 0.8755\n",
      "Epoch 472/500\n",
      "174/174 [==============================] - 49s 281ms/step - loss: 0.1188 - accuracy: 0.9550 - val_loss: 0.7505 - val_accuracy: 0.8382\n",
      "Epoch 473/500\n",
      "174/174 [==============================] - 49s 281ms/step - loss: 0.1133 - accuracy: 0.9601 - val_loss: 0.4932 - val_accuracy: 0.8859\n",
      "Epoch 474/500\n",
      "174/174 [==============================] - 49s 280ms/step - loss: 0.1128 - accuracy: 0.9614 - val_loss: 0.5000 - val_accuracy: 0.8921\n",
      "Epoch 475/500\n",
      "174/174 [==============================] - 49s 283ms/step - loss: 0.1203 - accuracy: 0.9561 - val_loss: 0.6871 - val_accuracy: 0.8506\n",
      "Epoch 476/500\n",
      "174/174 [==============================] - 49s 279ms/step - loss: 0.1307 - accuracy: 0.9561 - val_loss: 0.6316 - val_accuracy: 0.8617\n",
      "Epoch 477/500\n",
      "174/174 [==============================] - 49s 279ms/step - loss: 0.1248 - accuracy: 0.9561 - val_loss: 0.5026 - val_accuracy: 0.8866\n",
      "Epoch 478/500\n",
      "174/174 [==============================] - 48s 278ms/step - loss: 0.1182 - accuracy: 0.9595 - val_loss: 0.6022 - val_accuracy: 0.8700\n",
      "Epoch 479/500\n",
      "174/174 [==============================] - 50s 286ms/step - loss: 0.1023 - accuracy: 0.9633 - val_loss: 0.7240 - val_accuracy: 0.8333\n",
      "Epoch 480/500\n",
      "174/174 [==============================] - 51s 291ms/step - loss: 0.1162 - accuracy: 0.9585 - val_loss: 0.4581 - val_accuracy: 0.8963\n",
      "Epoch 481/500\n",
      "174/174 [==============================] - 51s 292ms/step - loss: 0.1141 - accuracy: 0.9626 - val_loss: 0.4332 - val_accuracy: 0.8956\n",
      "Epoch 482/500\n",
      "174/174 [==============================] - 52s 301ms/step - loss: 0.1277 - accuracy: 0.9567 - val_loss: 0.5487 - val_accuracy: 0.8610\n",
      "Epoch 483/500\n",
      "174/174 [==============================] - 52s 298ms/step - loss: 0.1327 - accuracy: 0.9538 - val_loss: 0.6123 - val_accuracy: 0.8568\n",
      "Epoch 484/500\n",
      "174/174 [==============================] - 52s 299ms/step - loss: 0.1213 - accuracy: 0.9585 - val_loss: 0.9014 - val_accuracy: 0.8188\n",
      "Epoch 485/500\n",
      "174/174 [==============================] - 52s 300ms/step - loss: 0.1191 - accuracy: 0.9583 - val_loss: 0.6065 - val_accuracy: 0.8617\n",
      "Epoch 486/500\n",
      "174/174 [==============================] - 52s 298ms/step - loss: 0.1203 - accuracy: 0.9579 - val_loss: 0.4496 - val_accuracy: 0.8900\n",
      "Epoch 487/500\n",
      "174/174 [==============================] - 52s 302ms/step - loss: 0.1219 - accuracy: 0.9558 - val_loss: 0.5091 - val_accuracy: 0.8679\n",
      "Epoch 488/500\n",
      "174/174 [==============================] - 53s 302ms/step - loss: 0.1238 - accuracy: 0.9574 - val_loss: 0.5729 - val_accuracy: 0.8603\n",
      "Epoch 489/500\n",
      "174/174 [==============================] - 52s 300ms/step - loss: 0.1084 - accuracy: 0.9603 - val_loss: 0.6245 - val_accuracy: 0.8506\n",
      "Epoch 490/500\n",
      "174/174 [==============================] - 52s 301ms/step - loss: 0.1273 - accuracy: 0.9543 - val_loss: 0.5231 - val_accuracy: 0.8811\n",
      "Epoch 491/500\n",
      "174/174 [==============================] - 53s 302ms/step - loss: 0.1372 - accuracy: 0.9568 - val_loss: 0.4708 - val_accuracy: 0.8790\n",
      "Epoch 492/500\n",
      "174/174 [==============================] - 52s 300ms/step - loss: 0.1231 - accuracy: 0.9579 - val_loss: 0.4059 - val_accuracy: 0.8942\n",
      "Epoch 493/500\n",
      "174/174 [==============================] - 53s 305ms/step - loss: 0.1124 - accuracy: 0.9610 - val_loss: 0.4942 - val_accuracy: 0.8859\n",
      "Epoch 494/500\n",
      "174/174 [==============================] - 53s 302ms/step - loss: 0.1335 - accuracy: 0.9534 - val_loss: 0.6509 - val_accuracy: 0.8520\n",
      "Epoch 495/500\n",
      "174/174 [==============================] - 52s 301ms/step - loss: 0.1061 - accuracy: 0.9621 - val_loss: 0.3846 - val_accuracy: 0.9087\n",
      "Epoch 496/500\n",
      "174/174 [==============================] - 53s 303ms/step - loss: 0.1243 - accuracy: 0.9579 - val_loss: 0.4722 - val_accuracy: 0.8852\n",
      "Epoch 497/500\n",
      "174/174 [==============================] - 53s 303ms/step - loss: 0.1325 - accuracy: 0.9530 - val_loss: 0.4081 - val_accuracy: 0.9039\n",
      "Epoch 498/500\n",
      "174/174 [==============================] - 52s 302ms/step - loss: 0.1212 - accuracy: 0.9601 - val_loss: 0.5910 - val_accuracy: 0.8617\n",
      "Epoch 499/500\n",
      "174/174 [==============================] - 54s 308ms/step - loss: 0.1108 - accuracy: 0.9599 - val_loss: 0.4316 - val_accuracy: 0.8983\n",
      "Epoch 500/500\n",
      "174/174 [==============================] - 53s 305ms/step - loss: 0.1191 - accuracy: 0.9588 - val_loss: 0.3252 - val_accuracy: 0.9122\n"
     ]
    }
   ],
   "source": [
    "# compile cnn model\n",
    "cnn_model.compile(optimizer = Adam(lr=0.0001), loss='sparse_categorical_crossentropy', metrics=['accuracy'])\n",
    " \n",
    "# train cnn model\n",
    "history = cnn_model.fit(train_data, \n",
    "                          epochs=500,\n",
    "                          verbose=1, \n",
    "                          validation_data= val_data,\n",
    "                          callbacks=callbacks_list,\n",
    "                        )"
   ]
  },
  {
   "cell_type": "markdown",
   "metadata": {
    "id": "vbo7vVSPLQgj"
   },
   "source": [
    "# New Section"
   ]
  },
  {
   "cell_type": "code",
   "execution_count": 16,
   "metadata": {
    "colab": {
     "base_uri": "https://localhost:8080/",
     "height": 1000
    },
    "executionInfo": {
     "elapsed": 27296510,
     "status": "ok",
     "timestamp": 1606018674042,
     "user": {
      "displayName": "waqas bilal",
      "photoUrl": "",
      "userId": "09992051305956338150"
     },
     "user_tz": -300
    },
    "id": "dJg16IBQGq_n",
    "outputId": "845a5f1b-2f09-4362-b775-dc2351f51f71"
   },
   "outputs": [
    {
     "data": {
      "image/png": "[encoded data removed]",
      "text/plain": [
       "<Figure size 432x288 with 1 Axes>"
      ]
     },
     "metadata": {
      "needs_background": "light",
      "tags": []
     },
     "output_type": "display_data"
    },
    {
     "data": {
      "image/png": "[encoded data removed]",
      "text/plain": [
       "<Figure size 432x288 with 1 Axes>"
      ]
     },
     "metadata": {
      "needs_background": "light",
      "tags": []
     },
     "output_type": "display_data"
    },
    {
     "data": {
      "text/plain": [
       "{'accuracy': [0.1390644758939743,\n",
       "  0.2645837068557739,\n",
       "  0.34314611554145813,\n",
       "  0.4088856875896454,\n",
       "  0.4498825967311859,\n",
       "  0.49647822976112366,\n",
       "  0.5217626690864563,\n",
       "  0.5349467396736145,\n",
       "  0.545241117477417,\n",
       "  0.5586057305335999,\n",
       "  0.5750406384468079,\n",
       "  0.5714285969734192,\n",
       "  0.599963903427124,\n",
       "  0.6042983531951904,\n",
       "  0.6109806895256042,\n",
       "  0.6124255061149597,\n",
       "  0.615856945514679,\n",
       "  0.629402220249176,\n",
       "  0.6442116498947144,\n",
       "  0.6494491696357727,\n",
       "  0.654144823551178,\n",
       "  0.6608271598815918,\n",
       "  0.6620913743972778,\n",
       "  0.6824995279312134,\n",
       "  0.6637167930603027,\n",
       "  0.6714827418327332,\n",
       "  0.6797904968261719,\n",
       "  0.6893624663352966,\n",
       "  0.7003792524337769,\n",
       "  0.7094094157218933,\n",
       "  0.6877370476722717,\n",
       "  0.7070615887641907,\n",
       "  0.7162723541259766,\n",
       "  0.7258443236351013,\n",
       "  0.7364999055862427,\n",
       "  0.7283727526664734,\n",
       "  0.7314430475234985,\n",
       "  0.7355968952178955,\n",
       "  0.7466136813163757,\n",
       "  0.7379447221755981,\n",
       "  0.7440852522850037,\n",
       "  0.7572692632675171,\n",
       "  0.7565468549728394,\n",
       "  0.7601589560508728,\n",
       "  0.758894681930542,\n",
       "  0.7554632425308228,\n",
       "  0.7691891193389893,\n",
       "  0.762326180934906,\n",
       "  0.7726205587387085,\n",
       "  0.7672024369239807,\n",
       "  0.7657576203346252,\n",
       "  0.778761088848114,\n",
       "  0.7755101919174194,\n",
       "  0.7867075800895691,\n",
       "  0.7861657738685608,\n",
       "  0.7975438237190247,\n",
       "  0.7926675081253052,\n",
       "  0.7903196811676025,\n",
       "  0.7970019578933716,\n",
       "  0.8004334568977356,\n",
       "  0.7944735288619995,\n",
       "  0.8062127232551575,\n",
       "  0.8078382015228271,\n",
       "  0.7997110486030579,\n",
       "  0.8065739274024963,\n",
       "  0.8089218139648438,\n",
       "  0.8036842942237854,\n",
       "  0.8114502429962158,\n",
       "  0.8157846927642822,\n",
       "  0.8192161917686462,\n",
       "  0.8175907731056213,\n",
       "  0.8181325793266296,\n",
       "  0.8239118456840515,\n",
       "  0.8175907731056213,\n",
       "  0.8251760601997375,\n",
       "  0.8154234886169434,\n",
       "  0.8202998042106628,\n",
       "  0.8295105695724487,\n",
       "  0.8338450193405151,\n",
       "  0.8331226110458374,\n",
       "  0.8378183245658875,\n",
       "  0.8295105695724487,\n",
       "  0.8401661515235901,\n",
       "  0.8410691618919373,\n",
       "  0.8347480297088623,\n",
       "  0.8379989266395569,\n",
       "  0.8450424671173096,\n",
       "  0.8421527743339539,\n",
       "  0.8432363867759705,\n",
       "  0.8426945805549622,\n",
       "  0.8504605293273926,\n",
       "  0.8528083562850952,\n",
       "  0.8320389986038208,\n",
       "  0.8486545085906982,\n",
       "  0.8538920283317566,\n",
       "  0.850641131401062,\n",
       "  0.8531695604324341,\n",
       "  0.8213834166526794,\n",
       "  0.8416109681129456,\n",
       "  0.853530764579773,\n",
       "  0.8573234677314758,\n",
       "  0.8558786511421204,\n",
       "  0.8553368449211121,\n",
       "  0.8607549071311951,\n",
       "  0.8578652739524841,\n",
       "  0.8603937029838562,\n",
       "  0.854072630405426,\n",
       "  0.868340253829956,\n",
       "  0.8667148351669312,\n",
       "  0.8612967133522034,\n",
       "  0.86238032579422,\n",
       "  0.8701462745666504,\n",
       "  0.864547610282898,\n",
       "  0.8614773154258728,\n",
       "  0.8688820600509644,\n",
       "  0.86238032579422,\n",
       "  0.8677984476089478,\n",
       "  0.8629221320152283,\n",
       "  0.8728553652763367,\n",
       "  0.8753837943077087,\n",
       "  0.869965672492981,\n",
       "  0.8764674067497253,\n",
       "  0.8688820600509644,\n",
       "  0.8791764378547668,\n",
       "  0.8708686828613281,\n",
       "  0.8789958357810974,\n",
       "  0.86238032579422,\n",
       "  0.8786346316337585,\n",
       "  0.8755643963813782,\n",
       "  0.8743001818656921,\n",
       "  0.8773704171180725,\n",
       "  0.8703268766403198,\n",
       "  0.8804406523704529,\n",
       "  0.8873035907745361,\n",
       "  0.8827885389328003,\n",
       "  0.864547610282898,\n",
       "  0.878815233707428,\n",
       "  0.8919993042945862,\n",
       "  0.8820660710334778,\n",
       "  0.892360508441925,\n",
       "  0.8887484073638916,\n",
       "  0.8900126218795776,\n",
       "  0.8898320198059082,\n",
       "  0.8560592532157898,\n",
       "  0.8885678052902222,\n",
       "  0.887664794921875,\n",
       "  0.8905544281005859,\n",
       "  0.8927217125892639,\n",
       "  0.8948889374732971,\n",
       "  0.8912768363952637,\n",
       "  0.8853169679641724,\n",
       "  0.8896514177322388,\n",
       "  0.8988621830940247,\n",
       "  0.8903738260269165,\n",
       "  0.899403989315033,\n",
       "  0.9030160903930664,\n",
       "  0.9019324779510498,\n",
       "  0.8957919478416443,\n",
       "  0.8992233872413635,\n",
       "  0.8887484073638916,\n",
       "  0.9010294675827026,\n",
       "  0.8945277333259583,\n",
       "  0.8813436627388,\n",
       "  0.902835488319397,\n",
       "  0.8914574384689331,\n",
       "  0.899403989315033,\n",
       "  0.8977785706520081,\n",
       "  0.9046415090560913,\n",
       "  0.8963337540626526,\n",
       "  0.9073505401611328,\n",
       "  0.8986815810203552,\n",
       "  0.8988621830940247,\n",
       "  0.900668203830719,\n",
       "  0.9031966924667358,\n",
       "  0.9044609069824219,\n",
       "  0.9033772945404053,\n",
       "  0.9066281318664551,\n",
       "  0.8974173665046692,\n",
       "  0.9055445194244385,\n",
       "  0.9078923463821411,\n",
       "  0.8956113457679749,\n",
       "  0.9102401733398438,\n",
       "  0.9044609069824219,\n",
       "  0.9120462536811829,\n",
       "  0.9120462536811829,\n",
       "  0.9133104681968689,\n",
       "  0.911685049533844,\n",
       "  0.9059057235717773,\n",
       "  0.9087953567504883,\n",
       "  0.9185479283332825,\n",
       "  0.9093371629714966,\n",
       "  0.9106014370918274,\n",
       "  0.9089759588241577,\n",
       "  0.9091565608978271,\n",
       "  0.9091565608978271,\n",
       "  0.9109626412391663,\n",
       "  0.9087953567504883,\n",
       "  0.918367326259613,\n",
       "  0.9142134785652161,\n",
       "  0.9192703366279602,\n",
       "  0.9203540086746216,\n",
       "  0.9152970910072327,\n",
       "  0.9124074578285217,\n",
       "  0.9154776930809021,\n",
       "  0.9216182231903076,\n",
       "  0.920534610748291,\n",
       "  0.9167419075965881,\n",
       "  0.9190897345542908,\n",
       "  0.9189091324806213,\n",
       "  0.9199928045272827,\n",
       "  0.9106014370918274,\n",
       "  0.9162001013755798,\n",
       "  0.9199928045272827,\n",
       "  0.9196315407752991,\n",
       "  0.9187285304069519,\n",
       "  0.9136716723442078,\n",
       "  0.9162001013755798,\n",
       "  0.9210764169692993,\n",
       "  0.9003069996833801,\n",
       "  0.9145746827125549,\n",
       "  0.9219794273376465,\n",
       "  0.9250496625900269,\n",
       "  0.9237854480743408,\n",
       "  0.9223406314849854,\n",
       "  0.9227018356323242,\n",
       "  0.9196315407752991,\n",
       "  0.9237854480743408,\n",
       "  0.9263138771057129,\n",
       "  0.909517765045166,\n",
       "  0.8945277333259583,\n",
       "  0.9176449179649353,\n",
       "  0.9355246424674988,\n",
       "  0.9245078563690186,\n",
       "  0.9228824377059937,\n",
       "  0.9310095906257629,\n",
       "  0.9189091324806213,\n",
       "  0.9306483864784241,\n",
       "  0.9203540086746216,\n",
       "  0.9225212335586548,\n",
       "  0.9302871823310852,\n",
       "  0.9266750812530518,\n",
       "  0.9248690605163574,\n",
       "  0.9292035102844238,\n",
       "  0.9338992238044739,\n",
       "  0.9313707947731018,\n",
       "  0.9239660501480103,\n",
       "  0.9333574175834656,\n",
       "  0.9284811019897461,\n",
       "  0.9180061221122742,\n",
       "  0.9261332750320435,\n",
       "  0.9268556833267212,\n",
       "  0.9241466522216797,\n",
       "  0.9283004999160767,\n",
       "  0.8999457955360413,\n",
       "  0.9255914688110352,\n",
       "  0.9308289885520935,\n",
       "  0.9299259781837463,\n",
       "  0.9324544072151184,\n",
       "  0.9270362854003906,\n",
       "  0.932273805141449,\n",
       "  0.9219794273376465,\n",
       "  0.9275780916213989,\n",
       "  0.932273805141449,\n",
       "  0.9317319989204407,\n",
       "  0.9263138771057129,\n",
       "  0.9301065802574158,\n",
       "  0.9367888569831848,\n",
       "  0.9382336735725403,\n",
       "  0.9405815601348877,\n",
       "  0.9310095906257629,\n",
       "  0.9333574175834656,\n",
       "  0.9402203559875488,\n",
       "  0.9324544072151184,\n",
       "  0.9333574175834656,\n",
       "  0.9328156113624573,\n",
       "  0.9313707947731018,\n",
       "  0.9326350092887878,\n",
       "  0.9351634383201599,\n",
       "  0.9349828362464905,\n",
       "  0.9319126009941101,\n",
       "  0.9366082549095154,\n",
       "  0.9351634383201599,\n",
       "  0.9384142756462097,\n",
       "  0.9353440403938293,\n",
       "  0.9328156113624573,\n",
       "  0.9367888569831848,\n",
       "  0.9373306632041931,\n",
       "  0.9317319989204407,\n",
       "  0.9297453761100769,\n",
       "  0.9369694590568542,\n",
       "  0.9125880599021912,\n",
       "  0.936427652835846,\n",
       "  0.9438323974609375,\n",
       "  0.9367888569831848,\n",
       "  0.9367888569831848,\n",
       "  0.9418457746505737,\n",
       "  0.9252302646636963,\n",
       "  0.9331768155097961,\n",
       "  0.9333574175834656,\n",
       "  0.9349828362464905,\n",
       "  0.9387755393981934,\n",
       "  0.9349828362464905,\n",
       "  0.9427487850189209,\n",
       "  0.9454578161239624,\n",
       "  0.9375112652778625,\n",
       "  0.9434711933135986,\n",
       "  0.9387755393981934,\n",
       "  0.9420263767242432,\n",
       "  0.9459996223449707,\n",
       "  0.9404009580612183,\n",
       "  0.9357052445411682,\n",
       "  0.9413039684295654,\n",
       "  0.9425681829452515,\n",
       "  0.928842306137085,\n",
       "  0.9449160099029541,\n",
       "  0.9443742036819458,\n",
       "  0.9367888569831848,\n",
       "  0.9445548057556152,\n",
       "  0.945277214050293,\n",
       "  0.942387580871582,\n",
       "  0.9445548057556152,\n",
       "  0.9358858466148376,\n",
       "  0.9420263767242432,\n",
       "  0.9414845705032349,\n",
       "  0.9396785497665405,\n",
       "  0.932273805141449,\n",
       "  0.93985915184021,\n",
       "  0.9328156113624573,\n",
       "  0.9391367435455322,\n",
       "  0.9469026327133179,\n",
       "  0.946541428565979,\n",
       "  0.9443742036819458,\n",
       "  0.9443742036819458,\n",
       "  0.9454578161239624,\n",
       "  0.9432905912399292,\n",
       "  0.9445548057556152,\n",
       "  0.9306483864784241,\n",
       "  0.9434711933135986,\n",
       "  0.9449160099029541,\n",
       "  0.9438323974609375,\n",
       "  0.9445548057556152,\n",
       "  0.9501535296440125,\n",
       "  0.945277214050293,\n",
       "  0.9494311213493347,\n",
       "  0.9427487850189209,\n",
       "  0.9418457746505737,\n",
       "  0.9445548057556152,\n",
       "  0.9450966119766235,\n",
       "  0.9344410300254822,\n",
       "  0.9449160099029541,\n",
       "  0.9479862451553345,\n",
       "  0.941123366355896,\n",
       "  0.9431099891662598,\n",
       "  0.9432905912399292,\n",
       "  0.9178255200386047,\n",
       "  0.9441936016082764,\n",
       "  0.9461802244186401,\n",
       "  0.949972927570343,\n",
       "  0.9456384181976318,\n",
       "  0.9496117234230042,\n",
       "  0.9483475089073181,\n",
       "  0.9472638368606567,\n",
       "  0.9510565400123596,\n",
       "  0.948708713054657,\n",
       "  0.9514177441596985,\n",
       "  0.947805643081665,\n",
       "  0.9481669068336487,\n",
       "  0.9494311213493347,\n",
       "  0.9505147337913513,\n",
       "  0.9474444389343262,\n",
       "  0.9456384181976318,\n",
       "  0.9436517953872681,\n",
       "  0.9510565400123596,\n",
       "  0.9481669068336487,\n",
       "  0.9496117234230042,\n",
       "  0.946541428565979,\n",
       "  0.9517789483070374,\n",
       "  0.9490699172019958,\n",
       "  0.9470832347869873,\n",
       "  0.9492505192756653,\n",
       "  0.9497923254966736,\n",
       "  0.9501535296440125,\n",
       "  0.9501535296440125,\n",
       "  0.9492505192756653,\n",
       "  0.9431099891662598,\n",
       "  0.9434711933135986,\n",
       "  0.9449160099029541,\n",
       "  0.9543073773384094,\n",
       "  0.9463608264923096,\n",
       "  0.949972927570343,\n",
       "  0.9469026327133179,\n",
       "  0.9561133980751038,\n",
       "  0.9537655711174011,\n",
       "  0.9530431628227234,\n",
       "  0.951237142086029,\n",
       "  0.9497923254966736,\n",
       "  0.9459996223449707,\n",
       "  0.9557521939277649,\n",
       "  0.9407621622085571,\n",
       "  0.949972927570343,\n",
       "  0.9432905912399292,\n",
       "  0.9438323974609375,\n",
       "  0.9530431628227234,\n",
       "  0.9488893151283264,\n",
       "  0.9506953358650208,\n",
       "  0.9490699172019958,\n",
       "  0.9555715918540955,\n",
       "  0.9515983462333679,\n",
       "  0.9523207545280457,\n",
       "  0.9544879794120789,\n",
       "  0.95412677526474,\n",
       "  0.952862560749054,\n",
       "  0.9530431628227234,\n",
       "  0.9308289885520935,\n",
       "  0.9472638368606567,\n",
       "  0.9530431628227234,\n",
       "  0.9526819586753845,\n",
       "  0.9604479074478149,\n",
       "  0.9539461731910706,\n",
       "  0.9550297856330872,\n",
       "  0.9510565400123596,\n",
       "  0.947805643081665,\n",
       "  0.9425681829452515,\n",
       "  0.9360664486885071,\n",
       "  0.9534043669700623,\n",
       "  0.9517789483070374,\n",
       "  0.9573776125907898,\n",
       "  0.9579194784164429,\n",
       "  0.9514177441596985,\n",
       "  0.9539461731910706,\n",
       "  0.9571970105171204,\n",
       "  0.9517789483070374,\n",
       "  0.9559327960014343,\n",
       "  0.9459996223449707,\n",
       "  0.951237142086029,\n",
       "  0.9550297856330872,\n",
       "  0.9496117234230042,\n",
       "  0.9561133980751038,\n",
       "  0.9557521939277649,\n",
       "  0.9571970105171204,\n",
       "  0.9577388763427734,\n",
       "  0.9543073773384094,\n",
       "  0.9591836929321289,\n",
       "  0.9532237648963928,\n",
       "  0.9571970105171204,\n",
       "  0.9555715918540955,\n",
       "  0.9557521939277649,\n",
       "  0.9597254991531372,\n",
       "  0.952862560749054,\n",
       "  0.9537655711174011,\n",
       "  0.9508759379386902,\n",
       "  0.9590030908584595,\n",
       "  0.9535849690437317,\n",
       "  0.9604479074478149,\n",
       "  0.9555715918540955,\n",
       "  0.949972927570343,\n",
       "  0.9570164084434509,\n",
       "  0.9568358063697815,\n",
       "  0.9566552042961121,\n",
       "  0.9581000804901123,\n",
       "  0.9362470507621765,\n",
       "  0.9615315198898315,\n",
       "  0.9534043669700623,\n",
       "  0.9581000804901123,\n",
       "  0.9627957344055176,\n",
       "  0.9595448970794678,\n",
       "  0.9503341317176819,\n",
       "  0.9599061012268066,\n",
       "  0.9517789483070374,\n",
       "  0.9559327960014343,\n",
       "  0.9526819586753845,\n",
       "  0.9550297856330872,\n",
       "  0.9600867033004761,\n",
       "  0.9613509178161621,\n",
       "  0.9561133980751038,\n",
       "  0.9561133980751038,\n",
       "  0.9561133980751038,\n",
       "  0.9595448970794678,\n",
       "  0.9633375406265259,\n",
       "  0.9584612846374512,\n",
       "  0.9626151323318481,\n",
       "  0.9566552042961121,\n",
       "  0.9537655711174011,\n",
       "  0.9584612846374512,\n",
       "  0.9582806825637817,\n",
       "  0.9579194784164429,\n",
       "  0.9557521939277649,\n",
       "  0.9573776125907898,\n",
       "  0.9602673053741455,\n",
       "  0.9543073773384094,\n",
       "  0.9568358063697815,\n",
       "  0.9579194784164429,\n",
       "  0.9609897136688232,\n",
       "  0.9534043669700623,\n",
       "  0.9620733261108398,\n",
       "  0.9579194784164429,\n",
       "  0.9530431628227234,\n",
       "  0.9600867033004761,\n",
       "  0.9599061012268066,\n",
       "  0.95882248878479],\n",
       " 'loss': [2.6612069606781006,\n",
       "  2.245561361312866,\n",
       "  2.0184035301208496,\n",
       "  1.8409360647201538,\n",
       "  1.685825228691101,\n",
       "  1.54728364944458,\n",
       "  1.464064598083496,\n",
       "  1.4093526601791382,\n",
       "  1.3583623170852661,\n",
       "  1.3154243230819702,\n",
       "  1.2498971223831177,\n",
       "  1.2516573667526245,\n",
       "  1.1948809623718262,\n",
       "  1.1685373783111572,\n",
       "  1.1566284894943237,\n",
       "  1.13962721824646,\n",
       "  1.1371665000915527,\n",
       "  1.0930757522583008,\n",
       "  1.0551841259002686,\n",
       "  1.0238593816757202,\n",
       "  1.0344789028167725,\n",
       "  1.000227689743042,\n",
       "  1.0165268182754517,\n",
       "  0.9524503946304321,\n",
       "  0.9891722798347473,\n",
       "  0.9527433514595032,\n",
       "  0.9254472255706787,\n",
       "  0.9220020771026611,\n",
       "  0.890135645866394,\n",
       "  0.8669450879096985,\n",
       "  0.8994562029838562,\n",
       "  0.851075291633606,\n",
       "  0.8329936265945435,\n",
       "  0.7905732989311218,\n",
       "  0.778229832649231,\n",
       "  0.7859448790550232,\n",
       "  0.7743132710456848,\n",
       "  0.7711310982704163,\n",
       "  0.739773154258728,\n",
       "  0.7572125792503357,\n",
       "  0.7425674796104431,\n",
       "  0.707841157913208,\n",
       "  0.6954934597015381,\n",
       "  0.7085780501365662,\n",
       "  0.6821132302284241,\n",
       "  0.712196409702301,\n",
       "  0.678182065486908,\n",
       "  0.6887773871421814,\n",
       "  0.6609487533569336,\n",
       "  0.6774015426635742,\n",
       "  0.6947717666625977,\n",
       "  0.6390992403030396,\n",
       "  0.6458507180213928,\n",
       "  0.6277004480361938,\n",
       "  0.6082702875137329,\n",
       "  0.6015581488609314,\n",
       "  0.6146942377090454,\n",
       "  0.5963180661201477,\n",
       "  0.5955571532249451,\n",
       "  0.5811052918434143,\n",
       "  0.6003971099853516,\n",
       "  0.5475903153419495,\n",
       "  0.5596040487289429,\n",
       "  0.5645620822906494,\n",
       "  0.548446536064148,\n",
       "  0.5536317825317383,\n",
       "  0.5509158968925476,\n",
       "  0.5454729199409485,\n",
       "  0.531597375869751,\n",
       "  0.5240839719772339,\n",
       "  0.5253962874412537,\n",
       "  0.5185839533805847,\n",
       "  0.5111455321311951,\n",
       "  0.5333191752433777,\n",
       "  0.5085816979408264,\n",
       "  0.5329428315162659,\n",
       "  0.5219519138336182,\n",
       "  0.48692360520362854,\n",
       "  0.48527929186820984,\n",
       "  0.48565298318862915,\n",
       "  0.47620663046836853,\n",
       "  0.4901260435581207,\n",
       "  0.46402066946029663,\n",
       "  0.45337364077568054,\n",
       "  0.4667745530605316,\n",
       "  0.4640754759311676,\n",
       "  0.4431915581226349,\n",
       "  0.4567372798919678,\n",
       "  0.44911813735961914,\n",
       "  0.4535640776157379,\n",
       "  0.4311266839504242,\n",
       "  0.42992085218429565,\n",
       "  0.4840534031391144,\n",
       "  0.447581022977829,\n",
       "  0.4159594476222992,\n",
       "  0.4297782778739929,\n",
       "  0.4140447676181793,\n",
       "  0.5438727736473083,\n",
       "  0.46330469846725464,\n",
       "  0.4229981601238251,\n",
       "  0.4064345359802246,\n",
       "  0.4201355576515198,\n",
       "  0.4151872992515564,\n",
       "  0.39335405826568604,\n",
       "  0.4217759668827057,\n",
       "  0.4001268148422241,\n",
       "  0.41150593757629395,\n",
       "  0.3888784348964691,\n",
       "  0.39309003949165344,\n",
       "  0.40601634979248047,\n",
       "  0.38949811458587646,\n",
       "  0.3798399865627289,\n",
       "  0.3889232873916626,\n",
       "  0.40441587567329407,\n",
       "  0.38423171639442444,\n",
       "  0.39492544531822205,\n",
       "  0.382656455039978,\n",
       "  0.40116384625434875,\n",
       "  0.3590942919254303,\n",
       "  0.3650268018245697,\n",
       "  0.37405481934547424,\n",
       "  0.3479669690132141,\n",
       "  0.3664736747741699,\n",
       "  0.3394741415977478,\n",
       "  0.3530887961387634,\n",
       "  0.3517442047595978,\n",
       "  0.39142853021621704,\n",
       "  0.34348827600479126,\n",
       "  0.3571723401546478,\n",
       "  0.36257243156433105,\n",
       "  0.3436802923679352,\n",
       "  0.36675965785980225,\n",
       "  0.34803223609924316,\n",
       "  0.3296569287776947,\n",
       "  0.34592628479003906,\n",
       "  0.40142694115638733,\n",
       "  0.3375343084335327,\n",
       "  0.31502822041511536,\n",
       "  0.3338998854160309,\n",
       "  0.3092857897281647,\n",
       "  0.32831835746765137,\n",
       "  0.30724218487739563,\n",
       "  0.3219147026538849,\n",
       "  0.4133424758911133,\n",
       "  0.32183465361595154,\n",
       "  0.31587526202201843,\n",
       "  0.3244388699531555,\n",
       "  0.3143906593322754,\n",
       "  0.2988184988498688,\n",
       "  0.3163301348686218,\n",
       "  0.31711000204086304,\n",
       "  0.31284791231155396,\n",
       "  0.291008323431015,\n",
       "  0.3123793601989746,\n",
       "  0.2845205068588257,\n",
       "  0.28588974475860596,\n",
       "  0.2833423316478729,\n",
       "  0.29458263516426086,\n",
       "  0.2872554659843445,\n",
       "  0.32452908158302307,\n",
       "  0.2866973876953125,\n",
       "  0.3116641044616699,\n",
       "  0.3500366508960724,\n",
       "  0.27235889434814453,\n",
       "  0.31420958042144775,\n",
       "  0.29744356870651245,\n",
       "  0.2852702736854553,\n",
       "  0.2760792672634125,\n",
       "  0.29577821493148804,\n",
       "  0.26273223757743835,\n",
       "  0.2759215235710144,\n",
       "  0.2892025411128998,\n",
       "  0.27094948291778564,\n",
       "  0.27073150873184204,\n",
       "  0.2826816439628601,\n",
       "  0.27421316504478455,\n",
       "  0.2652814984321594,\n",
       "  0.287522554397583,\n",
       "  0.27000880241394043,\n",
       "  0.2632066011428833,\n",
       "  0.3070671856403351,\n",
       "  0.26287031173706055,\n",
       "  0.2761697471141815,\n",
       "  0.26004818081855774,\n",
       "  0.25360748171806335,\n",
       "  0.24264156818389893,\n",
       "  0.25402817130088806,\n",
       "  0.26249629259109497,\n",
       "  0.2660170793533325,\n",
       "  0.23332808911800385,\n",
       "  0.2541987895965576,\n",
       "  0.24879363179206848,\n",
       "  0.2567734718322754,\n",
       "  0.26457542181015015,\n",
       "  0.2552446722984314,\n",
       "  0.2559523582458496,\n",
       "  0.2587776482105255,\n",
       "  0.2300901859998703,\n",
       "  0.24248071014881134,\n",
       "  0.2432008534669876,\n",
       "  0.233235165476799,\n",
       "  0.24674351513385773,\n",
       "  0.251526802778244,\n",
       "  0.2428489774465561,\n",
       "  0.23285962641239166,\n",
       "  0.23450344800949097,\n",
       "  0.23113137483596802,\n",
       "  0.23380914330482483,\n",
       "  0.23915812373161316,\n",
       "  0.22707267105579376,\n",
       "  0.25029873847961426,\n",
       "  0.23863588273525238,\n",
       "  0.23228517174720764,\n",
       "  0.24377188086509705,\n",
       "  0.23903468251228333,\n",
       "  0.2379760444164276,\n",
       "  0.22990727424621582,\n",
       "  0.2273237556219101,\n",
       "  0.3022567629814148,\n",
       "  0.23799557983875275,\n",
       "  0.22914491593837738,\n",
       "  0.21903905272483826,\n",
       "  0.21307380497455597,\n",
       "  0.23447328805923462,\n",
       "  0.2249850183725357,\n",
       "  0.22031554579734802,\n",
       "  0.22739198803901672,\n",
       "  0.210146963596344,\n",
       "  0.26943910121917725,\n",
       "  0.30580466985702515,\n",
       "  0.22322943806648254,\n",
       "  0.1941836029291153,\n",
       "  0.21147723495960236,\n",
       "  0.21093156933784485,\n",
       "  0.20801584422588348,\n",
       "  0.2138775736093521,\n",
       "  0.1970321536064148,\n",
       "  0.21179048717021942,\n",
       "  0.2154337465763092,\n",
       "  0.1989506632089615,\n",
       "  0.21866251528263092,\n",
       "  0.228178009390831,\n",
       "  0.20007431507110596,\n",
       "  0.19701480865478516,\n",
       "  0.19961115717887878,\n",
       "  0.2034655064344406,\n",
       "  0.19047948718070984,\n",
       "  0.20183560252189636,\n",
       "  0.22323979437351227,\n",
       "  0.1968870460987091,\n",
       "  0.21374139189720154,\n",
       "  0.21965013444423676,\n",
       "  0.21761250495910645,\n",
       "  0.3029877543449402,\n",
       "  0.21316827833652496,\n",
       "  0.1987534910440445,\n",
       "  0.1934332698583603,\n",
       "  0.18379944562911987,\n",
       "  0.20874185860157013,\n",
       "  0.2052793800830841,\n",
       "  0.22324109077453613,\n",
       "  0.2065599262714386,\n",
       "  0.18340478837490082,\n",
       "  0.19012756645679474,\n",
       "  0.21854163706302643,\n",
       "  0.20214849710464478,\n",
       "  0.18028298020362854,\n",
       "  0.18332934379577637,\n",
       "  0.1711576133966446,\n",
       "  0.1946040838956833,\n",
       "  0.1912234127521515,\n",
       "  0.1761842519044876,\n",
       "  0.19086232781410217,\n",
       "  0.1838057041168213,\n",
       "  0.19395193457603455,\n",
       "  0.1975230574607849,\n",
       "  0.19609194993972778,\n",
       "  0.18392229080200195,\n",
       "  0.18638986349105835,\n",
       "  0.1872924268245697,\n",
       "  0.18223261833190918,\n",
       "  0.18283262848854065,\n",
       "  0.18065018951892853,\n",
       "  0.18953897058963776,\n",
       "  0.18852566182613373,\n",
       "  0.1746532917022705,\n",
       "  0.1790650188922882,\n",
       "  0.19640454649925232,\n",
       "  0.19386962056159973,\n",
       "  0.17505207657814026,\n",
       "  0.25734081864356995,\n",
       "  0.1762487143278122,\n",
       "  0.16878414154052734,\n",
       "  0.18203909695148468,\n",
       "  0.17887766659259796,\n",
       "  0.16718721389770508,\n",
       "  0.22736756503582,\n",
       "  0.18317949771881104,\n",
       "  0.18506033718585968,\n",
       "  0.1851494312286377,\n",
       "  0.17610347270965576,\n",
       "  0.1823503077030182,\n",
       "  0.1675163060426712,\n",
       "  0.15751099586486816,\n",
       "  0.17356431484222412,\n",
       "  0.16420771181583405,\n",
       "  0.1731071174144745,\n",
       "  0.16656921803951263,\n",
       "  0.15470510721206665,\n",
       "  0.166728675365448,\n",
       "  0.17623548209667206,\n",
       "  0.16529762744903564,\n",
       "  0.1612100601196289,\n",
       "  0.21453571319580078,\n",
       "  0.1616349220275879,\n",
       "  0.1614433079957962,\n",
       "  0.17424316704273224,\n",
       "  0.1574673056602478,\n",
       "  0.15742218494415283,\n",
       "  0.16075778007507324,\n",
       "  0.15757966041564941,\n",
       "  0.17248181998729706,\n",
       "  0.1617022156715393,\n",
       "  0.1633237898349762,\n",
       "  0.17028604447841644,\n",
       "  0.20789971947669983,\n",
       "  0.17543549835681915,\n",
       "  0.1966266632080078,\n",
       "  0.16762331128120422,\n",
       "  0.15454863011837006,\n",
       "  0.16396766901016235,\n",
       "  0.1619063913822174,\n",
       "  0.15326650440692902,\n",
       "  0.15147662162780762,\n",
       "  0.16477252542972565,\n",
       "  0.15008844435214996,\n",
       "  0.19230583310127258,\n",
       "  0.1512882560491562,\n",
       "  0.16289085149765015,\n",
       "  0.1576649248600006,\n",
       "  0.16474831104278564,\n",
       "  0.1500634402036667,\n",
       "  0.16227063536643982,\n",
       "  0.15180298686027527,\n",
       "  0.16097617149353027,\n",
       "  0.15876378118991852,\n",
       "  0.14929205179214478,\n",
       "  0.1632276326417923,\n",
       "  0.17315766215324402,\n",
       "  0.15273217856884003,\n",
       "  0.14772360026836395,\n",
       "  0.161817267537117,\n",
       "  0.15644079446792603,\n",
       "  0.15128684043884277,\n",
       "  0.23752368986606598,\n",
       "  0.15005330741405487,\n",
       "  0.15674322843551636,\n",
       "  0.1421690285205841,\n",
       "  0.1560879647731781,\n",
       "  0.1423759013414383,\n",
       "  0.152316153049469,\n",
       "  0.1492098867893219,\n",
       "  0.13936306536197662,\n",
       "  0.15326185524463654,\n",
       "  0.1474139541387558,\n",
       "  0.15308651328086853,\n",
       "  0.14421413838863373,\n",
       "  0.14475028216838837,\n",
       "  0.1502026915550232,\n",
       "  0.1487158089876175,\n",
       "  0.1471940279006958,\n",
       "  0.15470322966575623,\n",
       "  0.1424347162246704,\n",
       "  0.15034900605678558,\n",
       "  0.14054518938064575,\n",
       "  0.14193300902843475,\n",
       "  0.14528070390224457,\n",
       "  0.15525944530963898,\n",
       "  0.14688149094581604,\n",
       "  0.1391625553369522,\n",
       "  0.1355142891407013,\n",
       "  0.1378614604473114,\n",
       "  0.14227540791034698,\n",
       "  0.1462646871805191,\n",
       "  0.15885911881923676,\n",
       "  0.15737944841384888,\n",
       "  0.15106724202632904,\n",
       "  0.13373279571533203,\n",
       "  0.13916724920272827,\n",
       "  0.1385243535041809,\n",
       "  0.14613887667655945,\n",
       "  0.1329764723777771,\n",
       "  0.12738975882530212,\n",
       "  0.12947691977024078,\n",
       "  0.13743019104003906,\n",
       "  0.14522168040275574,\n",
       "  0.14629493653774261,\n",
       "  0.1286584436893463,\n",
       "  0.17981156706809998,\n",
       "  0.1515198051929474,\n",
       "  0.1569574475288391,\n",
       "  0.15588261187076569,\n",
       "  0.13080573081970215,\n",
       "  0.1377614140510559,\n",
       "  0.13433359563350677,\n",
       "  0.1462523192167282,\n",
       "  0.12639376521110535,\n",
       "  0.13952788710594177,\n",
       "  0.14000564813613892,\n",
       "  0.1264054924249649,\n",
       "  0.13514630496501923,\n",
       "  0.13721199333667755,\n",
       "  0.1312548667192459,\n",
       "  0.2237725406885147,\n",
       "  0.15132370591163635,\n",
       "  0.12174954265356064,\n",
       "  0.140384241938591,\n",
       "  0.11811985075473785,\n",
       "  0.13633805513381958,\n",
       "  0.12708468735218048,\n",
       "  0.14207008481025696,\n",
       "  0.1628190129995346,\n",
       "  0.17316755652427673,\n",
       "  0.1862146407365799,\n",
       "  0.14254862070083618,\n",
       "  0.13427524268627167,\n",
       "  0.12360496819019318,\n",
       "  0.12345379590988159,\n",
       "  0.133414626121521,\n",
       "  0.12973187863826752,\n",
       "  0.11907424032688141,\n",
       "  0.1342458873987198,\n",
       "  0.1268761157989502,\n",
       "  0.1650783121585846,\n",
       "  0.1354731023311615,\n",
       "  0.13382288813591003,\n",
       "  0.1450677514076233,\n",
       "  0.11738990992307663,\n",
       "  0.13005878031253815,\n",
       "  0.12404906749725342,\n",
       "  0.11883239448070526,\n",
       "  0.13579918444156647,\n",
       "  0.11982452124357224,\n",
       "  0.13380418717861176,\n",
       "  0.12180665135383606,\n",
       "  0.13203121721744537,\n",
       "  0.12407343834638596,\n",
       "  0.11722764372825623,\n",
       "  0.1331847459077835,\n",
       "  0.13170677423477173,\n",
       "  0.1290254443883896,\n",
       "  0.11470703035593033,\n",
       "  0.13506212830543518,\n",
       "  0.11647400259971619,\n",
       "  0.12756235897541046,\n",
       "  0.12910419702529907,\n",
       "  0.12524116039276123,\n",
       "  0.12945108115673065,\n",
       "  0.13531604409217834,\n",
       "  0.12300330400466919,\n",
       "  0.1918448805809021,\n",
       "  0.11699216812849045,\n",
       "  0.13597862422466278,\n",
       "  0.11718658357858658,\n",
       "  0.10569710284471512,\n",
       "  0.11120143532752991,\n",
       "  0.13368289172649384,\n",
       "  0.11405298858880997,\n",
       "  0.14074967801570892,\n",
       "  0.1274053454399109,\n",
       "  0.1204269677400589,\n",
       "  0.11878897249698639,\n",
       "  0.11327435076236725,\n",
       "  0.11284595727920532,\n",
       "  0.1203397884964943,\n",
       "  0.1307319551706314,\n",
       "  0.12475854903459549,\n",
       "  0.11815322935581207,\n",
       "  0.10230927169322968,\n",
       "  0.11616236716508865,\n",
       "  0.11412250250577927,\n",
       "  0.12768857181072235,\n",
       "  0.13271333277225494,\n",
       "  0.12131322920322418,\n",
       "  0.11912406980991364,\n",
       "  0.12029396742582321,\n",
       "  0.12193530052900314,\n",
       "  0.12378129363059998,\n",
       "  0.10836935043334961,\n",
       "  0.1273183375597,\n",
       "  0.13721498847007751,\n",
       "  0.12305933982133865,\n",
       "  0.11240547150373459,\n",
       "  0.13345833122730255,\n",
       "  0.10611731559038162,\n",
       "  0.12426377832889557,\n",
       "  0.13250161707401276,\n",
       "  0.12118607014417648,\n",
       "  0.1107688844203949,\n",
       "  0.11906848102807999],\n",
       " 'val_accuracy': [0.27524206042289734,\n",
       "  0.31189489364624023,\n",
       "  0.363070547580719,\n",
       "  0.43291839957237244,\n",
       "  0.4336099624633789,\n",
       "  0.4612724781036377,\n",
       "  0.48755186796188354,\n",
       "  0.4903181195259094,\n",
       "  0.46887966990470886,\n",
       "  0.5338866114616394,\n",
       "  0.5774550437927246,\n",
       "  0.5587828755378723,\n",
       "  0.5207468867301941,\n",
       "  0.5525587797164917,\n",
       "  0.5172891020774841,\n",
       "  0.5380359888076782,\n",
       "  0.6085754036903381,\n",
       "  0.5477178692817688,\n",
       "  0.5698478817939758,\n",
       "  0.6030429005622864,\n",
       "  0.6237897872924805,\n",
       "  0.6106500625610352,\n",
       "  0.5816044211387634,\n",
       "  0.6071922779083252,\n",
       "  0.5760719180107117,\n",
       "  0.5961272716522217,\n",
       "  0.587828516960144,\n",
       "  0.5753803849220276,\n",
       "  0.6258644461631775,\n",
       "  0.6327800750732422,\n",
       "  0.6632088422775269,\n",
       "  0.6265560388565063,\n",
       "  0.6611341834068298,\n",
       "  0.6459197998046875,\n",
       "  0.6922544836997986,\n",
       "  0.6639004349708557,\n",
       "  0.6424619555473328,\n",
       "  0.6721991896629333,\n",
       "  0.6894882321357727,\n",
       "  0.6452282071113586,\n",
       "  0.706085741519928,\n",
       "  0.6645919680595398,\n",
       "  0.683955729007721,\n",
       "  0.6673582196235657,\n",
       "  0.7372061014175415,\n",
       "  0.6957123279571533,\n",
       "  0.6964038610458374,\n",
       "  0.775242030620575,\n",
       "  0.7358229756355286,\n",
       "  0.6680498123168945,\n",
       "  0.6846473217010498,\n",
       "  0.6991701126098633,\n",
       "  0.7593361139297485,\n",
       "  0.7780082821846008,\n",
       "  0.749654233455658,\n",
       "  0.7240663766860962,\n",
       "  0.7005532383918762,\n",
       "  0.6991701126098633,\n",
       "  0.7579529881477356,\n",
       "  0.7185338735580444,\n",
       "  0.6950207352638245,\n",
       "  0.6936376094818115,\n",
       "  0.7309820055961609,\n",
       "  0.7406638860702515,\n",
       "  0.7468879818916321,\n",
       "  0.7655601501464844,\n",
       "  0.6535269618034363,\n",
       "  0.7116182446479797,\n",
       "  0.7095435857772827,\n",
       "  0.7524204850196838,\n",
       "  0.7455048561096191,\n",
       "  0.7461963891983032,\n",
       "  0.775242030620575,\n",
       "  0.7358229756355286,\n",
       "  0.7780082821846008,\n",
       "  0.7558782696723938,\n",
       "  0.7213001251220703,\n",
       "  0.7759336233139038,\n",
       "  0.7088519930839539,\n",
       "  0.7420470118522644,\n",
       "  0.7226832509040833,\n",
       "  0.7330567240715027,\n",
       "  0.7558782696723938,\n",
       "  0.7164592146873474,\n",
       "  0.7178423404693604,\n",
       "  0.7254495024681091,\n",
       "  0.7240663766860962,\n",
       "  0.7143844962120056,\n",
       "  0.7109267115592957,\n",
       "  0.7918395400047302,\n",
       "  0.7441217303276062,\n",
       "  0.7614107728004456,\n",
       "  0.7413554787635803,\n",
       "  0.773858904838562,\n",
       "  0.7683264017105103,\n",
       "  0.7323651313781738,\n",
       "  0.7724757790565491,\n",
       "  0.7793914079666138,\n",
       "  0.7641770243644714,\n",
       "  0.7275242209434509,\n",
       "  0.7538036108016968,\n",
       "  0.7199169993400574,\n",
       "  0.750345766544342,\n",
       "  0.7932226657867432,\n",
       "  0.7330567240715027,\n",
       "  0.7309820055961609,\n",
       "  0.749654233455658,\n",
       "  0.7593361139297485,\n",
       "  0.7413554787635803,\n",
       "  0.7309820055961609,\n",
       "  0.7233748435974121,\n",
       "  0.7863070368766785,\n",
       "  0.7143844962120056,\n",
       "  0.7607192397117615,\n",
       "  0.8049792647361755,\n",
       "  0.7724757790565491,\n",
       "  0.7849239110946655,\n",
       "  0.7807745337486267,\n",
       "  0.7876901626586914,\n",
       "  0.771784245967865,\n",
       "  0.7724757790565491,\n",
       "  0.7337482571601868,\n",
       "  0.7773167490959167,\n",
       "  0.7800830006599426,\n",
       "  0.7821576595306396,\n",
       "  0.7766251564025879,\n",
       "  0.7683264017105103,\n",
       "  0.7793914079666138,\n",
       "  0.7420470118522644,\n",
       "  0.7828492522239685,\n",
       "  0.7883817553520203,\n",
       "  0.817427396774292,\n",
       "  0.775242030620575,\n",
       "  0.749654233455658,\n",
       "  0.7759336233139038,\n",
       "  0.7780082821846008,\n",
       "  0.7406638860702515,\n",
       "  0.7821576595306396,\n",
       "  0.797372043132782,\n",
       "  0.8305670619010925,\n",
       "  0.7814661264419556,\n",
       "  0.7897648811340332,\n",
       "  0.773858904838562,\n",
       "  0.8340249061584473,\n",
       "  0.795988917350769,\n",
       "  0.7586445212364197,\n",
       "  0.7600276470184326,\n",
       "  0.7648686170578003,\n",
       "  0.8049792647361755,\n",
       "  0.7800830006599426,\n",
       "  0.793914258480072,\n",
       "  0.7918395400047302,\n",
       "  0.7821576595306396,\n",
       "  0.7621023654937744,\n",
       "  0.7800830006599426,\n",
       "  0.8201936483383179,\n",
       "  0.8022130131721497,\n",
       "  0.8333333134651184,\n",
       "  0.797372043132782,\n",
       "  0.7904564142227173,\n",
       "  0.7558782696723938,\n",
       "  0.8125864267349243,\n",
       "  0.7994467616081238,\n",
       "  0.7780082821846008,\n",
       "  0.7607192397117615,\n",
       "  0.7690179944038391,\n",
       "  0.7800830006599426,\n",
       "  0.8291839361190796,\n",
       "  0.839557409286499,\n",
       "  0.7780082821846008,\n",
       "  0.8022130131721497,\n",
       "  0.797372043132782,\n",
       "  0.7966805100440979,\n",
       "  0.7946057915687561,\n",
       "  0.795297384262085,\n",
       "  0.8118948936462402,\n",
       "  0.8381742835044861,\n",
       "  0.8388658165931702,\n",
       "  0.8271092772483826,\n",
       "  0.7904564142227173,\n",
       "  0.7807745337486267,\n",
       "  0.8326417803764343,\n",
       "  0.816044270992279,\n",
       "  0.8125864267349243,\n",
       "  0.8201936483383179,\n",
       "  0.8077455163002014,\n",
       "  0.8360995650291443,\n",
       "  0.7966805100440979,\n",
       "  0.797372043132782,\n",
       "  0.795297384262085,\n",
       "  0.7773167490959167,\n",
       "  0.7710926532745361,\n",
       "  0.8568464517593384,\n",
       "  0.8139695525169373,\n",
       "  0.8340249061584473,\n",
       "  0.7614107728004456,\n",
       "  0.8271092772483826,\n",
       "  0.843015193939209,\n",
       "  0.8561549186706543,\n",
       "  0.795297384262085,\n",
       "  0.7869986295700073,\n",
       "  0.8153526782989502,\n",
       "  0.8132780194282532,\n",
       "  0.820885181427002,\n",
       "  0.7828492522239685,\n",
       "  0.8077455163002014,\n",
       "  0.8374826908111572,\n",
       "  0.8450899124145508,\n",
       "  0.8236514329910278,\n",
       "  0.7911480069160461,\n",
       "  0.8125864267349243,\n",
       "  0.8070539236068726,\n",
       "  0.8229598999023438,\n",
       "  0.8222683072090149,\n",
       "  0.819502055644989,\n",
       "  0.8188105225563049,\n",
       "  0.8112033009529114,\n",
       "  0.8132780194282532,\n",
       "  0.8305670619010925,\n",
       "  0.7876901626586914,\n",
       "  0.8236514329910278,\n",
       "  0.8457814455032349,\n",
       "  0.7786998748779297,\n",
       "  0.863070547580719,\n",
       "  0.8367911577224731,\n",
       "  0.843015193939209,\n",
       "  0.7890732884407043,\n",
       "  0.8215767741203308,\n",
       "  0.8741355538368225,\n",
       "  0.8374826908111572,\n",
       "  0.8264176845550537,\n",
       "  0.8596127033233643,\n",
       "  0.8215767741203308,\n",
       "  0.8457814455032349,\n",
       "  0.8312586545944214,\n",
       "  0.8540802001953125,\n",
       "  0.8506224155426025,\n",
       "  0.7994467616081238,\n",
       "  0.8105117678642273,\n",
       "  0.8188105225563049,\n",
       "  0.8188105225563049,\n",
       "  0.8188105225563049,\n",
       "  0.8264176845550537,\n",
       "  0.8333333134651184,\n",
       "  0.8243430256843567,\n",
       "  0.8125864267349243,\n",
       "  0.8692945837974548,\n",
       "  0.8672199249267578,\n",
       "  0.820885181427002,\n",
       "  0.8257261514663696,\n",
       "  0.8471645712852478,\n",
       "  0.8215767741203308,\n",
       "  0.7344398498535156,\n",
       "  0.8215767741203308,\n",
       "  0.8568464517593384,\n",
       "  0.8236514329910278,\n",
       "  0.8243430256843567,\n",
       "  0.8229598999023438,\n",
       "  0.7987551689147949,\n",
       "  0.8284924030303955,\n",
       "  0.8360995650291443,\n",
       "  0.8658367991447449,\n",
       "  0.8623789548873901,\n",
       "  0.8775933384895325,\n",
       "  0.8782849311828613,\n",
       "  0.8098201751708984,\n",
       "  0.8450899124145508,\n",
       "  0.8347164392471313,\n",
       "  0.8243430256843567,\n",
       "  0.8907330632209778,\n",
       "  0.8437067866325378,\n",
       "  0.8222683072090149,\n",
       "  0.8354080319404602,\n",
       "  0.8748270869255066,\n",
       "  0.8443983197212219,\n",
       "  0.8340249061584473,\n",
       "  0.8347164392471313,\n",
       "  0.8513139486312866,\n",
       "  0.8450899124145508,\n",
       "  0.861687421798706,\n",
       "  0.8326417803764343,\n",
       "  0.817427396774292,\n",
       "  0.840940535068512,\n",
       "  0.8360995650291443,\n",
       "  0.8457814455032349,\n",
       "  0.8623789548873901,\n",
       "  0.8056707978248596,\n",
       "  0.8167358040809631,\n",
       "  0.8554633259773254,\n",
       "  0.816044270992279,\n",
       "  0.839557409286499,\n",
       "  0.8132780194282532,\n",
       "  0.819502055644989,\n",
       "  0.8485476970672607,\n",
       "  0.8499308228492737,\n",
       "  0.8520055413246155,\n",
       "  0.8388658165931702,\n",
       "  0.8298755288124084,\n",
       "  0.8526970744132996,\n",
       "  0.8333333134651184,\n",
       "  0.8478561639785767,\n",
       "  0.8471645712852478,\n",
       "  0.8153526782989502,\n",
       "  0.8340249061584473,\n",
       "  0.8326417803764343,\n",
       "  0.8478561639785767,\n",
       "  0.8354080319404602,\n",
       "  0.8692945837974548,\n",
       "  0.866528332233429,\n",
       "  0.8533886671066284,\n",
       "  0.7745504975318909,\n",
       "  0.8035961389541626,\n",
       "  0.8485476970672607,\n",
       "  0.8471645712852478,\n",
       "  0.8215767741203308,\n",
       "  0.8443983197212219,\n",
       "  0.8291839361190796,\n",
       "  0.8347164392471313,\n",
       "  0.8561549186706543,\n",
       "  0.819502055644989,\n",
       "  0.8699861764907837,\n",
       "  0.8125864267349243,\n",
       "  0.8236514329910278,\n",
       "  0.8298755288124084,\n",
       "  0.8478561639785767,\n",
       "  0.8257261514663696,\n",
       "  0.8575380444526672,\n",
       "  0.8319501876831055,\n",
       "  0.8278008103370667,\n",
       "  0.8326417803764343,\n",
       "  0.8969570994377136,\n",
       "  0.839557409286499,\n",
       "  0.8354080319404602,\n",
       "  0.885200560092926,\n",
       "  0.841632068157196,\n",
       "  0.8098201751708984,\n",
       "  0.8540802001953125,\n",
       "  0.8575380444526672,\n",
       "  0.861687421798706,\n",
       "  0.8402489423751831,\n",
       "  0.8762102127075195,\n",
       "  0.8596127033233643,\n",
       "  0.8672199249267578,\n",
       "  0.865145206451416,\n",
       "  0.8402489423751831,\n",
       "  0.8533886671066284,\n",
       "  0.8817427158355713,\n",
       "  0.8049792647361755,\n",
       "  0.8485476970672607,\n",
       "  0.8672199249267578,\n",
       "  0.866528332233429,\n",
       "  0.8229598999023438,\n",
       "  0.8236514329910278,\n",
       "  0.8492392897605896,\n",
       "  0.839557409286499,\n",
       "  0.8305670619010925,\n",
       "  0.8457814455032349,\n",
       "  0.8582295775413513,\n",
       "  0.8644536733627319,\n",
       "  0.841632068157196,\n",
       "  0.840940535068512,\n",
       "  0.8278008103370667,\n",
       "  0.8354080319404602,\n",
       "  0.8001382946968079,\n",
       "  0.8354080319404602,\n",
       "  0.8568464517593384,\n",
       "  0.8727524280548096,\n",
       "  0.8485476970672607,\n",
       "  0.8457814455032349,\n",
       "  0.8340249061584473,\n",
       "  0.8568464517593384,\n",
       "  0.8623789548873901,\n",
       "  0.8229598999023438,\n",
       "  0.840940535068512,\n",
       "  0.8706777095794678,\n",
       "  0.8547717928886414,\n",
       "  0.8471645712852478,\n",
       "  0.8029045462608337,\n",
       "  0.8741355538368225,\n",
       "  0.840940535068512,\n",
       "  0.8388658165931702,\n",
       "  0.8112033009529114,\n",
       "  0.866528332233429,\n",
       "  0.8706777095794678,\n",
       "  0.8506224155426025,\n",
       "  0.8347164392471313,\n",
       "  0.8568464517593384,\n",
       "  0.8589211702346802,\n",
       "  0.8824343085289001,\n",
       "  0.8796680569648743,\n",
       "  0.8720608353614807,\n",
       "  0.8278008103370667,\n",
       "  0.8354080319404602,\n",
       "  0.819502055644989,\n",
       "  0.8125864267349243,\n",
       "  0.8305670619010925,\n",
       "  0.8858920931816101,\n",
       "  0.8402489423751831,\n",
       "  0.8188105225563049,\n",
       "  0.7966805100440979,\n",
       "  0.8679114580154419,\n",
       "  0.8969570994377136,\n",
       "  0.8340249061584473,\n",
       "  0.8112033009529114,\n",
       "  0.8035961389541626,\n",
       "  0.8008298873901367,\n",
       "  0.8112033009529114,\n",
       "  0.8568464517593384,\n",
       "  0.8596127033233643,\n",
       "  0.8713693022727966,\n",
       "  0.8520055413246155,\n",
       "  0.8879668116569519,\n",
       "  0.8658367991447449,\n",
       "  0.8526970744132996,\n",
       "  0.8520055413246155,\n",
       "  0.8941908478736877,\n",
       "  0.8706777095794678,\n",
       "  0.861687421798706,\n",
       "  0.8699861764907837,\n",
       "  0.8533886671066284,\n",
       "  0.8215767741203308,\n",
       "  0.8374826908111572,\n",
       "  0.863070547580719,\n",
       "  0.8437067866325378,\n",
       "  0.8706777095794678,\n",
       "  0.8672199249267578,\n",
       "  0.8727524280548096,\n",
       "  0.8879668116569519,\n",
       "  0.8561549186706543,\n",
       "  0.8485476970672607,\n",
       "  0.8340249061584473,\n",
       "  0.8928077220916748,\n",
       "  0.8443983197212219,\n",
       "  0.8748270869255066,\n",
       "  0.8755186796188354,\n",
       "  0.8077455163002014,\n",
       "  0.861687421798706,\n",
       "  0.8803595900535583,\n",
       "  0.8589211702346802,\n",
       "  0.8713693022727966,\n",
       "  0.8879668116569519,\n",
       "  0.861687421798706,\n",
       "  0.8879668116569519,\n",
       "  0.8326417803764343,\n",
       "  0.8609958291053772,\n",
       "  0.8755186796188354,\n",
       "  0.8699861764907837,\n",
       "  0.8222683072090149,\n",
       "  0.8492392897605896,\n",
       "  0.9142462015151978,\n",
       "  0.817427396774292,\n",
       "  0.8589211702346802,\n",
       "  0.8582295775413513,\n",
       "  0.8831258416175842,\n",
       "  0.8644536733627319,\n",
       "  0.8520055413246155,\n",
       "  0.8713693022727966,\n",
       "  0.8921161890029907,\n",
       "  0.8367911577224731,\n",
       "  0.8727524280548096,\n",
       "  0.8755186796188354,\n",
       "  0.8278008103370667,\n",
       "  0.8734439611434937,\n",
       "  0.8457814455032349,\n",
       "  0.9031811952590942,\n",
       "  0.843015193939209,\n",
       "  0.8720608353614807,\n",
       "  0.8782849311828613,\n",
       "  0.8955739736557007,\n",
       "  0.8568464517593384,\n",
       "  0.8755186796188354,\n",
       "  0.8381742835044861,\n",
       "  0.8858920931816101,\n",
       "  0.8921161890029907,\n",
       "  0.8506224155426025,\n",
       "  0.861687421798706,\n",
       "  0.886583685874939,\n",
       "  0.8699861764907837,\n",
       "  0.8333333134651184,\n",
       "  0.8962655663490295,\n",
       "  0.8955739736557007,\n",
       "  0.8609958291053772,\n",
       "  0.8568464517593384,\n",
       "  0.8188105225563049,\n",
       "  0.861687421798706,\n",
       "  0.8900414705276489,\n",
       "  0.8679114580154419,\n",
       "  0.8603042960166931,\n",
       "  0.8506224155426025,\n",
       "  0.8810511827468872,\n",
       "  0.8789764642715454,\n",
       "  0.8941908478736877,\n",
       "  0.8858920931816101,\n",
       "  0.8520055413246155,\n",
       "  0.908713698387146,\n",
       "  0.885200560092926,\n",
       "  0.9038727283477783,\n",
       "  0.861687421798706,\n",
       "  0.8983402252197266,\n",
       "  0.912171483039856],\n",
       " 'val_loss': [2.2448055744171143,\n",
       "  2.065861225128174,\n",
       "  2.013947010040283,\n",
       "  1.8076519966125488,\n",
       "  1.8542051315307617,\n",
       "  1.6759033203125,\n",
       "  1.655930757522583,\n",
       "  1.6596814393997192,\n",
       "  1.8859245777130127,\n",
       "  1.501903772354126,\n",
       "  1.2903473377227783,\n",
       "  1.4423195123672485,\n",
       "  1.6376670598983765,\n",
       "  1.507395625114441,\n",
       "  1.6596591472625732,\n",
       "  1.8314282894134521,\n",
       "  1.1898841857910156,\n",
       "  1.5925264358520508,\n",
       "  1.431579828262329,\n",
       "  1.3529906272888184,\n",
       "  1.241901159286499,\n",
       "  1.327767252922058,\n",
       "  1.3905006647109985,\n",
       "  1.3582978248596191,\n",
       "  1.4356462955474854,\n",
       "  1.380041241645813,\n",
       "  1.5076693296432495,\n",
       "  1.5227118730545044,\n",
       "  1.2919073104858398,\n",
       "  1.2222992181777954,\n",
       "  1.1320503950119019,\n",
       "  1.2498375177383423,\n",
       "  1.1728450059890747,\n",
       "  1.246403455734253,\n",
       "  1.025992512702942,\n",
       "  1.1564208269119263,\n",
       "  1.26192307472229,\n",
       "  1.20867121219635,\n",
       "  1.0133110284805298,\n",
       "  1.40263831615448,\n",
       "  1.011469841003418,\n",
       "  1.1178439855575562,\n",
       "  1.0438083410263062,\n",
       "  1.2834467887878418,\n",
       "  0.8910999298095703,\n",
       "  1.074020266532898,\n",
       "  1.0538982152938843,\n",
       "  0.7429957389831543,\n",
       "  0.9375022053718567,\n",
       "  1.4345077276229858,\n",
       "  1.127769112586975,\n",
       "  1.0268253087997437,\n",
       "  0.7522616982460022,\n",
       "  0.6975441575050354,\n",
       "  0.8775385618209839,\n",
       "  0.9791103601455688,\n",
       "  1.1313002109527588,\n",
       "  1.0557200908660889,\n",
       "  0.7615451216697693,\n",
       "  1.0682463645935059,\n",
       "  1.0682458877563477,\n",
       "  1.2278608083724976,\n",
       "  0.9244488477706909,\n",
       "  0.8546257615089417,\n",
       "  0.8596359491348267,\n",
       "  0.7817049622535706,\n",
       "  1.494974970817566,\n",
       "  1.1301203966140747,\n",
       "  1.0323736667633057,\n",
       "  0.8696222305297852,\n",
       "  0.9416785836219788,\n",
       "  0.8831292390823364,\n",
       "  0.797528088092804,\n",
       "  0.9112060070037842,\n",
       "  0.7078783512115479,\n",
       "  0.8304134607315063,\n",
       "  1.1420552730560303,\n",
       "  0.7704482078552246,\n",
       "  1.1363856792449951,\n",
       "  0.8766147494316101,\n",
       "  0.9100982546806335,\n",
       "  1.0248256921768188,\n",
       "  0.9233600497245789,\n",
       "  1.0395021438598633,\n",
       "  1.107032060623169,\n",
       "  0.9773935079574585,\n",
       "  1.064794659614563,\n",
       "  1.1809355020523071,\n",
       "  1.2191041707992554,\n",
       "  0.6602792143821716,\n",
       "  0.9561895132064819,\n",
       "  0.8803267478942871,\n",
       "  0.9831605553627014,\n",
       "  0.8245137333869934,\n",
       "  0.8566555976867676,\n",
       "  1.0763001441955566,\n",
       "  0.8546962141990662,\n",
       "  0.6750866174697876,\n",
       "  0.813069760799408,\n",
       "  1.0769522190093994,\n",
       "  0.9500809907913208,\n",
       "  1.2039034366607666,\n",
       "  0.8921358585357666,\n",
       "  0.7390629053115845,\n",
       "  0.9635115265846252,\n",
       "  1.0056167840957642,\n",
       "  0.9730008244514465,\n",
       "  0.8734931945800781,\n",
       "  0.9891923069953918,\n",
       "  1.1204140186309814,\n",
       "  1.3142024278640747,\n",
       "  0.7710074186325073,\n",
       "  1.3343154191970825,\n",
       "  0.9527956247329712,\n",
       "  0.6719306111335754,\n",
       "  0.8535618185997009,\n",
       "  0.7574878931045532,\n",
       "  0.8001952171325684,\n",
       "  0.7650359869003296,\n",
       "  0.8509045243263245,\n",
       "  0.8609682321548462,\n",
       "  1.2651660442352295,\n",
       "  0.8871710896492004,\n",
       "  0.7721412181854248,\n",
       "  0.7598888874053955,\n",
       "  0.851956307888031,\n",
       "  0.9457752108573914,\n",
       "  0.8457114100456238,\n",
       "  1.1557453870773315,\n",
       "  0.8201943039894104,\n",
       "  0.7941687107086182,\n",
       "  0.6854976415634155,\n",
       "  0.882360577583313,\n",
       "  1.0506677627563477,\n",
       "  0.9598484039306641,\n",
       "  0.9002816677093506,\n",
       "  1.0731630325317383,\n",
       "  0.8739520311355591,\n",
       "  0.7334495782852173,\n",
       "  0.5622819662094116,\n",
       "  0.8825892210006714,\n",
       "  0.8152346611022949,\n",
       "  0.8733289241790771,\n",
       "  0.5702359080314636,\n",
       "  0.7841505408287048,\n",
       "  1.0381537675857544,\n",
       "  0.9917110204696655,\n",
       "  0.9509492516517639,\n",
       "  0.7980844974517822,\n",
       "  0.8844602704048157,\n",
       "  0.7874529361724854,\n",
       "  0.8221274018287659,\n",
       "  0.828583836555481,\n",
       "  1.0286892652511597,\n",
       "  0.9277021884918213,\n",
       "  0.6632670760154724,\n",
       "  0.813297688961029,\n",
       "  0.6169219017028809,\n",
       "  0.8100059032440186,\n",
       "  0.857781171798706,\n",
       "  1.162190556526184,\n",
       "  0.7333980202674866,\n",
       "  0.7978479266166687,\n",
       "  0.8986674547195435,\n",
       "  0.9819151759147644,\n",
       "  0.9800048470497131,\n",
       "  1.0281541347503662,\n",
       "  0.6110793948173523,\n",
       "  0.6008171439170837,\n",
       "  1.011094331741333,\n",
       "  0.8275535106658936,\n",
       "  0.8395348787307739,\n",
       "  0.803811252117157,\n",
       "  0.8719396591186523,\n",
       "  0.9236202836036682,\n",
       "  0.7388275265693665,\n",
       "  0.6754512786865234,\n",
       "  0.6255735158920288,\n",
       "  0.6609944701194763,\n",
       "  0.8670646548271179,\n",
       "  0.9556325078010559,\n",
       "  0.6023444533348083,\n",
       "  0.6930118799209595,\n",
       "  0.736318051815033,\n",
       "  0.7061388492584229,\n",
       "  0.8144705891609192,\n",
       "  0.5914173126220703,\n",
       "  0.9091637134552002,\n",
       "  0.8696330189704895,\n",
       "  0.7933710813522339,\n",
       "  0.9484055638313293,\n",
       "  1.0973454713821411,\n",
       "  0.5176489353179932,\n",
       "  0.7554331421852112,\n",
       "  0.6251795887947083,\n",
       "  1.0180567502975464,\n",
       "  0.7044476866722107,\n",
       "  0.6509206295013428,\n",
       "  0.505387544631958,\n",
       "  0.9705788493156433,\n",
       "  0.9424343705177307,\n",
       "  0.6615720391273499,\n",
       "  0.790842592716217,\n",
       "  0.7605408430099487,\n",
       "  1.1233599185943604,\n",
       "  0.7380963563919067,\n",
       "  0.6289268136024475,\n",
       "  0.5692232847213745,\n",
       "  0.6266440749168396,\n",
       "  0.9628202319145203,\n",
       "  0.7655968070030212,\n",
       "  0.7908135056495667,\n",
       "  0.6740166544914246,\n",
       "  0.7433100342750549,\n",
       "  0.8337456583976746,\n",
       "  0.7384994029998779,\n",
       "  0.8012511134147644,\n",
       "  0.7123445272445679,\n",
       "  0.6632339954376221,\n",
       "  0.8557573556900024,\n",
       "  0.7205552458763123,\n",
       "  0.63797527551651,\n",
       "  1.0578863620758057,\n",
       "  0.5290023684501648,\n",
       "  0.725497305393219,\n",
       "  0.6109135746955872,\n",
       "  0.9126957654953003,\n",
       "  0.7580691576004028,\n",
       "  0.4871251583099365,\n",
       "  0.6367045640945435,\n",
       "  0.6299207806587219,\n",
       "  0.5287706255912781,\n",
       "  0.7524040341377258,\n",
       "  0.6034828424453735,\n",
       "  0.7032201886177063,\n",
       "  0.5627391338348389,\n",
       "  0.5647982954978943,\n",
       "  0.8979060649871826,\n",
       "  0.9246194958686829,\n",
       "  0.7711471915245056,\n",
       "  0.7279230952262878,\n",
       "  0.7181664109230042,\n",
       "  0.7266038060188293,\n",
       "  0.7125214338302612,\n",
       "  0.7681434750556946,\n",
       "  0.7998656630516052,\n",
       "  0.4930161237716675,\n",
       "  0.5324978232383728,\n",
       "  0.7459424734115601,\n",
       "  0.7069559693336487,\n",
       "  0.5797247290611267,\n",
       "  0.7414769530296326,\n",
       "  1.4688938856124878,\n",
       "  0.7635787725448608,\n",
       "  0.5388084650039673,\n",
       "  0.819821834564209,\n",
       "  0.8342203497886658,\n",
       "  0.7848371267318726,\n",
       "  0.9412927031517029,\n",
       "  0.6949268579483032,\n",
       "  0.681307852268219,\n",
       "  0.47184181213378906,\n",
       "  0.5370023846626282,\n",
       "  0.4650907516479492,\n",
       "  0.4503604471683502,\n",
       "  0.8231296539306641,\n",
       "  0.6507815718650818,\n",
       "  0.6338179111480713,\n",
       "  0.9012219905853271,\n",
       "  0.4530760645866394,\n",
       "  0.6183584332466125,\n",
       "  0.7283930778503418,\n",
       "  0.6619726419448853,\n",
       "  0.482759565114975,\n",
       "  0.6650537848472595,\n",
       "  0.7049466967582703,\n",
       "  0.6802434921264648,\n",
       "  0.5360605716705322,\n",
       "  0.631523609161377,\n",
       "  0.554443359375,\n",
       "  0.7091419696807861,\n",
       "  0.8612549901008606,\n",
       "  0.6463605165481567,\n",
       "  0.6715503931045532,\n",
       "  0.63015216588974,\n",
       "  0.555017352104187,\n",
       "  0.9636472463607788,\n",
       "  0.8408961296081543,\n",
       "  0.611650824546814,\n",
       "  0.7998206615447998,\n",
       "  0.6753139495849609,\n",
       "  0.9162933826446533,\n",
       "  0.7537869811058044,\n",
       "  0.5680310726165771,\n",
       "  0.6152923703193665,\n",
       "  0.5837996006011963,\n",
       "  0.662169873714447,\n",
       "  0.715189516544342,\n",
       "  0.56918865442276,\n",
       "  0.7247012257575989,\n",
       "  0.623337984085083,\n",
       "  0.6186829805374146,\n",
       "  0.8847228288650513,\n",
       "  0.7722304463386536,\n",
       "  0.7398805618286133,\n",
       "  0.6378250122070312,\n",
       "  0.682898998260498,\n",
       "  0.482953280210495,\n",
       "  0.5363251566886902,\n",
       "  0.6125983595848083,\n",
       "  1.2098199129104614,\n",
       "  0.8464570641517639,\n",
       "  0.685533344745636,\n",
       "  0.6306068301200867,\n",
       "  0.8233475685119629,\n",
       "  0.6809506416320801,\n",
       "  0.7582935094833374,\n",
       "  0.7548568844795227,\n",
       "  0.5563486218452454,\n",
       "  0.9298105835914612,\n",
       "  0.545358419418335,\n",
       "  0.9328615665435791,\n",
       "  0.863893449306488,\n",
       "  0.8451420068740845,\n",
       "  0.6378639340400696,\n",
       "  0.77989262342453,\n",
       "  0.6701619625091553,\n",
       "  0.698740541934967,\n",
       "  0.691443920135498,\n",
       "  0.706077516078949,\n",
       "  0.3771857023239136,\n",
       "  0.7035251259803772,\n",
       "  0.7026277184486389,\n",
       "  0.46512874960899353,\n",
       "  0.6254581212997437,\n",
       "  0.8725904226303101,\n",
       "  0.5704155564308167,\n",
       "  0.5848369002342224,\n",
       "  0.5783607363700867,\n",
       "  0.6787073016166687,\n",
       "  0.5010615587234497,\n",
       "  0.590271532535553,\n",
       "  0.5058606266975403,\n",
       "  0.5513244867324829,\n",
       "  0.6916164755821228,\n",
       "  0.6123459935188293,\n",
       "  0.4629196226596832,\n",
       "  0.9234609603881836,\n",
       "  0.6271361112594604,\n",
       "  0.5660864114761353,\n",
       "  0.534157931804657,\n",
       "  0.7968310117721558,\n",
       "  0.7388336062431335,\n",
       "  0.6158491373062134,\n",
       "  0.6162169575691223,\n",
       "  0.7063409090042114,\n",
       "  0.6160896420478821,\n",
       "  0.572159469127655,\n",
       "  0.5597293376922607,\n",
       "  0.698626697063446,\n",
       "  0.7126227617263794,\n",
       "  0.7749882936477661,\n",
       "  0.7364274263381958,\n",
       "  0.9905641078948975,\n",
       "  0.743595540523529,\n",
       "  0.6207507848739624,\n",
       "  0.551740825176239,\n",
       "  0.7254018783569336,\n",
       "  0.6160593032836914,\n",
       "  0.7629922032356262,\n",
       "  0.5907324552536011,\n",
       "  0.5519737005233765,\n",
       "  0.8266384601593018,\n",
       "  0.668333113193512,\n",
       "  0.4963095188140869,\n",
       "  0.613311767578125,\n",
       "  0.6863444447517395,\n",
       "  0.9518110156059265,\n",
       "  0.5173436403274536,\n",
       "  0.7727675437927246,\n",
       "  0.7049676179885864,\n",
       "  0.8691971302032471,\n",
       "  0.5385311245918274,\n",
       "  0.5526176691055298,\n",
       "  0.5956194400787354,\n",
       "  0.7506097555160522,\n",
       "  0.6308383345603943,\n",
       "  0.5510614514350891,\n",
       "  0.45405909419059753,\n",
       "  0.49200358986854553,\n",
       "  0.50469970703125,\n",
       "  0.7308934926986694,\n",
       "  0.7626225352287292,\n",
       "  0.7691764235496521,\n",
       "  0.9192987084388733,\n",
       "  0.6799089908599854,\n",
       "  0.4737609326839447,\n",
       "  0.6830676198005676,\n",
       "  0.8067122101783752,\n",
       "  1.1166815757751465,\n",
       "  0.5280119180679321,\n",
       "  0.3763216733932495,\n",
       "  0.7493693828582764,\n",
       "  0.8883565068244934,\n",
       "  0.9025453329086304,\n",
       "  0.9933633208274841,\n",
       "  0.9146061539649963,\n",
       "  0.6425522565841675,\n",
       "  0.5406929850578308,\n",
       "  0.47853630781173706,\n",
       "  0.586189866065979,\n",
       "  0.4511016011238098,\n",
       "  0.607342004776001,\n",
       "  0.649402916431427,\n",
       "  0.5995060205459595,\n",
       "  0.39673471450805664,\n",
       "  0.508686363697052,\n",
       "  0.574741542339325,\n",
       "  0.5266901850700378,\n",
       "  0.6607942581176758,\n",
       "  0.7901661396026611,\n",
       "  0.7476837038993835,\n",
       "  0.5837700963020325,\n",
       "  0.7481902837753296,\n",
       "  0.5009366869926453,\n",
       "  0.5849841237068176,\n",
       "  0.5097066760063171,\n",
       "  0.4142949879169464,\n",
       "  0.6848392486572266,\n",
       "  0.7071356177330017,\n",
       "  0.8401915431022644,\n",
       "  0.4783644676208496,\n",
       "  0.6671891212463379,\n",
       "  0.4997839629650116,\n",
       "  0.4776253402233124,\n",
       "  0.9880861639976501,\n",
       "  0.579752504825592,\n",
       "  0.5054230093955994,\n",
       "  0.6017557978630066,\n",
       "  0.5521602034568787,\n",
       "  0.4813390374183655,\n",
       "  0.5988836884498596,\n",
       "  0.4887201488018036,\n",
       "  0.7312365174293518,\n",
       "  0.5627297759056091,\n",
       "  0.5309523940086365,\n",
       "  0.5332062244415283,\n",
       "  0.9476902484893799,\n",
       "  0.6913657784461975,\n",
       "  0.3572317063808441,\n",
       "  0.8541878461837769,\n",
       "  0.5806525945663452,\n",
       "  0.6562337279319763,\n",
       "  0.5320291519165039,\n",
       "  0.6109828352928162,\n",
       "  0.6895209550857544,\n",
       "  0.5900279879570007,\n",
       "  0.43203604221343994,\n",
       "  0.7737483382225037,\n",
       "  0.526793360710144,\n",
       "  0.5392715930938721,\n",
       "  0.8469418287277222,\n",
       "  0.5351545810699463,\n",
       "  0.6668451428413391,\n",
       "  0.41171661019325256,\n",
       "  0.7724688053131104,\n",
       "  0.61500084400177,\n",
       "  0.528130054473877,\n",
       "  0.43780627846717834,\n",
       "  0.594563364982605,\n",
       "  0.49854591488838196,\n",
       "  0.7505497336387634,\n",
       "  0.4932381510734558,\n",
       "  0.5000333786010742,\n",
       "  0.6870768070220947,\n",
       "  0.6315708160400391,\n",
       "  0.5025874376296997,\n",
       "  0.602217435836792,\n",
       "  0.7240216732025146,\n",
       "  0.4580533504486084,\n",
       "  0.433230996131897,\n",
       "  0.5487287044525146,\n",
       "  0.6123490929603577,\n",
       "  0.9013943672180176,\n",
       "  0.6065128445625305,\n",
       "  0.4496092200279236,\n",
       "  0.5091183185577393,\n",
       "  0.5729313492774963,\n",
       "  0.6244533658027649,\n",
       "  0.5231074690818787,\n",
       "  0.4708203375339508,\n",
       "  0.40594804286956787,\n",
       "  0.4941740930080414,\n",
       "  0.6509158611297607,\n",
       "  0.38458526134490967,\n",
       "  0.4721611738204956,\n",
       "  0.4080526828765869,\n",
       "  0.5910202860832214,\n",
       "  0.43156105279922485,\n",
       "  0.32523488998413086]}"
      ]
     },
     "execution_count": 16,
     "metadata": {
      "tags": []
     },
     "output_type": "execute_result"
    }
   ],
   "source": [
    "# summarize history for accuracy\n",
    "plt.plot(history.history['accuracy'])\n",
    "plt.plot(history.history['val_accuracy'])\n",
    "plt.title('model accuracy')\n",
    "plt.ylabel('accuracy')\n",
    "plt.xlabel('epoch')\n",
    "plt.legend(['train', 'test'], loc='upper left')\n",
    "plt.show()\n",
    "# summarize history for loss\n",
    "plt.plot(history.history['loss'])\n",
    "plt.plot(history.history['val_loss'])\n",
    "plt.title('model loss')\n",
    "plt.ylabel('loss')\n",
    "plt.xlabel('epoch')\n",
    "plt.legend(['train', 'test'], loc='upper left')\n",
    "plt.show()\n",
    " \n",
    "history.history"
   ]
  },
  {
   "cell_type": "markdown",
   "metadata": {
    "id": "dsJJTMhD7Jjg"
   },
   "source": [
    "# New Section"
   ]
  },
  {
   "cell_type": "markdown",
   "metadata": {
    "id": "ymdmo-nO-z8K"
   },
   "source": [
    "# New Section"
   ]
  },
  {
   "cell_type": "markdown",
   "metadata": {
    "id": "vx5Mdbpf_CmH"
   },
   "source": [
    "# New Section"
   ]
  },
  {
   "cell_type": "markdown",
   "metadata": {
    "id": "wD4OS8KJ_ROy"
   },
   "source": [
    "# New Section"
   ]
  },
  {
   "cell_type": "markdown",
   "metadata": {
    "id": "V5Vq82vk_f4O"
   },
   "source": [
    "# New Section"
   ]
  },
  {
   "cell_type": "markdown",
   "metadata": {
    "id": "DHB6aKtv_uh8"
   },
   "source": [
    "# New Section"
   ]
  },
  {
   "cell_type": "markdown",
   "metadata": {
    "id": "vVG7V0aZ_9LR"
   },
   "source": [
    "# New Section"
   ]
  },
  {
   "cell_type": "markdown",
   "metadata": {
    "id": "bst-4yT3AL1O"
   },
   "source": [
    "# New Section"
   ]
  },
  {
   "cell_type": "markdown",
   "metadata": {
    "id": "mQ8OKutyAaez"
   },
   "source": [
    "# New Section"
   ]
  },
  {
   "cell_type": "markdown",
   "metadata": {
    "id": "mzeLiq4OApHt"
   },
   "source": [
    "# New Section"
   ]
  },
  {
   "cell_type": "markdown",
   "metadata": {
    "id": "HjSSnUx0A3xI"
   },
   "source": [
    "# New Section"
   ]
  },
  {
   "cell_type": "markdown",
   "metadata": {
    "id": "eL8a01dXBGbA"
   },
   "source": [
    "# New Section"
   ]
  },
  {
   "cell_type": "markdown",
   "metadata": {
    "id": "f4uOT8QLBVEJ"
   },
   "source": [
    "# New Section"
   ]
  },
  {
   "cell_type": "markdown",
   "metadata": {
    "id": "cwfKJ7AMBjtn"
   },
   "source": [
    "# New Section"
   ]
  },
  {
   "cell_type": "markdown",
   "metadata": {
    "id": "e9aDUwiCByXY"
   },
   "source": [
    "# New Section"
   ]
  },
  {
   "cell_type": "markdown",
   "metadata": {
    "id": "iBHtPJDtCBAh"
   },
   "source": [
    "# New Section"
   ]
  },
  {
   "cell_type": "markdown",
   "metadata": {
    "id": "DU6M6I92CPqA"
   },
   "source": [
    "# New Section"
   ]
  },
  {
   "cell_type": "markdown",
   "metadata": {
    "id": "PuPhei0QCeTj"
   },
   "source": [
    "# New Section"
   ]
  },
  {
   "cell_type": "markdown",
   "metadata": {
    "id": "9b8H_DZ7Cs9c"
   },
   "source": [
    "# New Section"
   ]
  },
  {
   "cell_type": "markdown",
   "metadata": {
    "id": "9fGxTJH_C7ms"
   },
   "source": [
    "# New Section"
   ]
  },
  {
   "cell_type": "markdown",
   "metadata": {
    "id": "zDimGX87DKQE"
   },
   "source": [
    "# New Section"
   ]
  },
  {
   "cell_type": "markdown",
   "metadata": {
    "id": "Zm58UK07DY5h"
   },
   "source": [
    "# New Section"
   ]
  },
  {
   "cell_type": "markdown",
   "metadata": {
    "id": "hqar_In6DnjB"
   },
   "source": [
    "# New Section"
   ]
  },
  {
   "cell_type": "markdown",
   "metadata": {
    "id": "V0d9E641D2Mh"
   },
   "source": [
    "# New Section"
   ]
  },
  {
   "cell_type": "markdown",
   "metadata": {
    "id": "Btf4cfxBEE2C"
   },
   "source": [
    "# New Section"
   ]
  },
  {
   "cell_type": "markdown",
   "metadata": {
    "id": "G4_AXdfmETfl"
   },
   "source": [
    "# New Section"
   ]
  },
  {
   "cell_type": "markdown",
   "metadata": {
    "id": "HxPKlQf3EiJO"
   },
   "source": [
    "# New Section"
   ]
  },
  {
   "cell_type": "markdown",
   "metadata": {
    "id": "K2PYkdAFEwyj"
   },
   "source": [
    "# New Section"
   ]
  },
  {
   "cell_type": "markdown",
   "metadata": {
    "id": "sgaP_lIvE_cE"
   },
   "source": [
    "# New Section"
   ]
  },
  {
   "cell_type": "markdown",
   "metadata": {
    "id": "H0QwGtLpFOFj"
   },
   "source": [
    "# New Section"
   ]
  },
  {
   "cell_type": "markdown",
   "metadata": {
    "id": "e8AhKUpIFcvA"
   },
   "source": [
    "# New Section"
   ]
  },
  {
   "cell_type": "markdown",
   "metadata": {
    "id": "f1qPNJWwFrYw"
   },
   "source": [
    "# New Section"
   ]
  },
  {
   "cell_type": "markdown",
   "metadata": {
    "id": "CxxJmiCfF6CD"
   },
   "source": [
    "# New Section"
   ]
  },
  {
   "cell_type": "markdown",
   "metadata": {
    "id": "nwvnDZSgGIrm"
   },
   "source": [
    "# New Section"
   ]
  },
  {
   "cell_type": "markdown",
   "metadata": {
    "id": "Ihg9SWbyGXVB"
   },
   "source": [
    "# New Section"
   ]
  },
  {
   "cell_type": "markdown",
   "metadata": {
    "id": "c8w_j5r3Gl-i"
   },
   "source": [
    "# New Section"
   ]
  },
  {
   "cell_type": "markdown",
   "metadata": {
    "id": "9f85EQOdG0oD"
   },
   "source": [
    "# New Section"
   ]
  },
  {
   "cell_type": "markdown",
   "metadata": {
    "id": "_h4AjiiSHDRj"
   },
   "source": [
    "# New Section"
   ]
  },
  {
   "cell_type": "markdown",
   "metadata": {
    "id": "2U0sZPCwHR7E"
   },
   "source": [
    "# New Section"
   ]
  },
  {
   "cell_type": "markdown",
   "metadata": {
    "id": "Loc3pzc6Hgkl"
   },
   "source": [
    "# New Section"
   ]
  },
  {
   "cell_type": "markdown",
   "metadata": {
    "id": "4BY6681SHvOF"
   },
   "source": [
    "# New Section"
   ]
  },
  {
   "cell_type": "markdown",
   "metadata": {
    "id": "9iiP0vOgH93j"
   },
   "source": [
    "# New Section"
   ]
  },
  {
   "cell_type": "markdown",
   "metadata": {
    "id": "q3-2KVKMIMhD"
   },
   "source": [
    "# New Section"
   ]
  },
  {
   "cell_type": "markdown",
   "metadata": {
    "id": "3cSMY0kmIbKi"
   },
   "source": [
    "# New Section"
   ]
  },
  {
   "cell_type": "markdown",
   "metadata": {
    "id": "KnHFlpD1Ip0A"
   },
   "source": [
    "# New Section"
   ]
  },
  {
   "cell_type": "markdown",
   "metadata": {
    "id": "iFJ1CmxFI4dh"
   },
   "source": [
    "# New Section"
   ]
  },
  {
   "cell_type": "markdown",
   "metadata": {
    "id": "e7FM3NJeJHHC"
   },
   "source": [
    "# New Section"
   ]
  },
  {
   "cell_type": "markdown",
   "metadata": {
    "id": "b6uwYroUJVwl"
   },
   "source": [
    "# New Section"
   ]
  },
  {
   "cell_type": "markdown",
   "metadata": {
    "id": "omjwLmOFJkab"
   },
   "source": [
    "# New Section"
   ]
  },
  {
   "cell_type": "markdown",
   "metadata": {
    "id": "2ePvTaOpJzDk"
   },
   "source": [
    "# New Section"
   ]
  },
  {
   "cell_type": "markdown",
   "metadata": {
    "id": "mGe9ul8QKBtD"
   },
   "source": [
    "# New Section"
   ]
  },
  {
   "cell_type": "markdown",
   "metadata": {
    "id": "rwBDTp_hKQWj"
   },
   "source": [
    "# New Section"
   ]
  },
  {
   "cell_type": "markdown",
   "metadata": {
    "id": "ErAKZP30KfAB"
   },
   "source": [
    "# New Section"
   ]
  },
  {
   "cell_type": "markdown",
   "metadata": {
    "id": "jsSjciR2Ktpj"
   },
   "source": [
    "# New Section"
   ]
  },
  {
   "cell_type": "markdown",
   "metadata": {
    "id": "_Rx9Rv8HK8TD"
   },
   "source": [
    "# New Section"
   ]
  },
  {
   "cell_type": "markdown",
   "metadata": {
    "id": "UWzbNHI0LK8k"
   },
   "source": [
    "# New Section"
   ]
  },
  {
   "cell_type": "markdown",
   "metadata": {
    "id": "oEQAGNtgLZmO"
   },
   "source": [
    "# New Section"
   ]
  },
  {
   "cell_type": "markdown",
   "metadata": {
    "id": "6_HOWbs5LoPj"
   },
   "source": [
    "# New Section"
   ]
  },
  {
   "cell_type": "markdown",
   "metadata": {
    "id": "v3VitNXyL25n"
   },
   "source": [
    "# New Section"
   ]
  },
  {
   "cell_type": "markdown",
   "metadata": {
    "id": "3EZh_kyhMFik"
   },
   "source": [
    "# New Section"
   ]
  },
  {
   "cell_type": "markdown",
   "metadata": {
    "id": "yPfEHldYMUMa"
   },
   "source": [
    "# New Section"
   ]
  },
  {
   "cell_type": "markdown",
   "metadata": {
    "id": "Q3o0AuRAMi1j"
   },
   "source": [
    "# New Section"
   ]
  },
  {
   "cell_type": "markdown",
   "metadata": {
    "id": "C7dJOnIEMxfC"
   },
   "source": [
    "# New Section"
   ]
  },
  {
   "cell_type": "markdown",
   "metadata": {
    "id": "lI_AbcFsNAIj"
   },
   "source": [
    "# New Section"
   ]
  },
  {
   "cell_type": "markdown",
   "metadata": {
    "id": "K6oYvNzqNOyE"
   },
   "source": [
    "# New Section"
   ]
  },
  {
   "cell_type": "markdown",
   "metadata": {
    "id": "Pj239HtVNdbi"
   },
   "source": [
    "# New Section"
   ]
  },
  {
   "cell_type": "markdown",
   "metadata": {
    "id": "hSYKsbRkNsFD"
   },
   "source": [
    "# New Section"
   ]
  },
  {
   "cell_type": "markdown",
   "metadata": {
    "id": "SuBxFNwHN6uh"
   },
   "source": [
    "# New Section"
   ]
  },
  {
   "cell_type": "markdown",
   "metadata": {
    "id": "aw1Z2aYlOJYF"
   },
   "source": [
    "# New Section"
   ]
  },
  {
   "cell_type": "markdown",
   "metadata": {
    "id": "sLuQ_QDLOYBk"
   },
   "source": [
    "# New Section"
   ]
  },
  {
   "cell_type": "markdown",
   "metadata": {
    "id": "nIX9C1ldOmrS"
   },
   "source": [
    "# New Section"
   ]
  },
  {
   "cell_type": "markdown",
   "metadata": {
    "id": "Y0PfqXaRO1Ui"
   },
   "source": [
    "# New Section"
   ]
  },
  {
   "cell_type": "markdown",
   "metadata": {
    "id": "G8zYz2xDPD-E"
   },
   "source": [
    "# New Section"
   ]
  },
  {
   "cell_type": "markdown",
   "metadata": {
    "id": "XKP2Mpi6PSni"
   },
   "source": [
    "# New Section"
   ]
  },
  {
   "cell_type": "markdown",
   "metadata": {
    "id": "K58r8bVzPhRC"
   },
   "source": [
    "# New Section"
   ]
  },
  {
   "cell_type": "markdown",
   "metadata": {
    "id": "mXCssN7_Pv6j"
   },
   "source": [
    "# New Section"
   ]
  },
  {
   "cell_type": "markdown",
   "metadata": {
    "id": "tEXyULhOP-kC"
   },
   "source": [
    "# New Section"
   ]
  },
  {
   "cell_type": "markdown",
   "metadata": {
    "id": "9OJNGXz8QNNj"
   },
   "source": [
    "# New Section"
   ]
  },
  {
   "cell_type": "markdown",
   "metadata": {
    "id": "RDpo1ClsQb3D"
   },
   "source": [
    "# New Section"
   ]
  },
  {
   "cell_type": "markdown",
   "metadata": {
    "id": "OLlgOa3UQqgk"
   },
   "source": [
    "# New Section"
   ]
  },
  {
   "cell_type": "markdown",
   "metadata": {
    "id": "YQI7MS--Q5KC"
   },
   "source": [
    "# New Section"
   ]
  },
  {
   "cell_type": "markdown",
   "metadata": {
    "id": "6A4vfN8FRHzk"
   },
   "source": [
    "# New Section"
   ]
  },
  {
   "cell_type": "markdown",
   "metadata": {
    "id": "1WACAvygRWdm"
   },
   "source": [
    "# New Section"
   ]
  },
  {
   "cell_type": "markdown",
   "metadata": {
    "id": "CJlPKsSuRlGi"
   },
   "source": [
    "# New Section"
   ]
  },
  {
   "cell_type": "markdown",
   "metadata": {
    "id": "74b2UcTTRzwB"
   },
   "source": [
    "# New Section"
   ]
  },
  {
   "cell_type": "markdown",
   "metadata": {
    "id": "G8PhGeBSSCZj"
   },
   "source": [
    "# New Section"
   ]
  },
  {
   "cell_type": "markdown",
   "metadata": {
    "id": "GFh7l6R1SRDr"
   },
   "source": [
    "# New Section"
   ]
  },
  {
   "cell_type": "markdown",
   "metadata": {
    "id": "oLbmXyvRSfsl"
   },
   "source": [
    "# New Section"
   ]
  },
  {
   "cell_type": "markdown",
   "metadata": {
    "id": "iBdDOYZcSuWE"
   },
   "source": [
    "# New Section"
   ]
  },
  {
   "cell_type": "markdown",
   "metadata": {
    "id": "2YaX6MKtS8_g"
   },
   "source": [
    "# New Section"
   ]
  },
  {
   "cell_type": "markdown",
   "metadata": {
    "id": "-JyfrjM5TLpO"
   },
   "source": [
    "# New Section"
   ]
  },
  {
   "cell_type": "markdown",
   "metadata": {
    "id": "Ny0u8d3TTaSj"
   },
   "source": [
    "# New Section"
   ]
  },
  {
   "cell_type": "markdown",
   "metadata": {
    "id": "kr1oqdcdTo8A"
   },
   "source": [
    "# New Section"
   ]
  },
  {
   "cell_type": "markdown",
   "metadata": {
    "id": "EUyN6Q6-T3lg"
   },
   "source": [
    "# New Section"
   ]
  },
  {
   "cell_type": "markdown",
   "metadata": {
    "id": "36FzpCYXUGPC"
   },
   "source": [
    "# New Section"
   ]
  },
  {
   "cell_type": "markdown",
   "metadata": {
    "id": "YBClrBc5UU4j"
   },
   "source": [
    "# New Section"
   ]
  },
  {
   "cell_type": "markdown",
   "metadata": {
    "id": "a549UCZlUjiD"
   },
   "source": [
    "# New Section"
   ]
  },
  {
   "cell_type": "markdown",
   "metadata": {
    "id": "uSY2rXRbUyLk"
   },
   "source": [
    "# New Section"
   ]
  },
  {
   "cell_type": "markdown",
   "metadata": {
    "id": "6dCR8zT0VA1B"
   },
   "source": [
    "# New Section"
   ]
  },
  {
   "cell_type": "markdown",
   "metadata": {
    "id": "up-aC78NVPei"
   },
   "source": [
    "# New Section"
   ]
  },
  {
   "cell_type": "markdown",
   "metadata": {
    "id": "Jq2lPBXcVeIB"
   },
   "source": [
    "# New Section"
   ]
  },
  {
   "cell_type": "markdown",
   "metadata": {
    "id": "AQvEReu_Vsxk"
   },
   "source": [
    "# New Section"
   ]
  },
  {
   "cell_type": "markdown",
   "metadata": {
    "id": "6vY0aiwKV7bB"
   },
   "source": [
    "# New Section"
   ]
  },
  {
   "cell_type": "markdown",
   "metadata": {
    "id": "7jJYSc_YWKEi"
   },
   "source": [
    "# New Section"
   ]
  },
  {
   "cell_type": "markdown",
   "metadata": {
    "id": "tZxJ8jxiWYuE"
   },
   "source": [
    "# New Section"
   ]
  },
  {
   "cell_type": "markdown",
   "metadata": {
    "id": "w0uMIS8bWnXi"
   },
   "source": [
    "# New Section"
   ]
  },
  {
   "cell_type": "markdown",
   "metadata": {
    "id": "Xkinhg83W2BD"
   },
   "source": [
    "# New Section"
   ]
  },
  {
   "cell_type": "markdown",
   "metadata": {
    "id": "4mHWb02dXEqi"
   },
   "source": [
    "# New Section"
   ]
  },
  {
   "cell_type": "markdown",
   "metadata": {
    "id": "gkazgFhCXTUB"
   },
   "source": [
    "# New Section"
   ]
  },
  {
   "cell_type": "markdown",
   "metadata": {
    "id": "dNJw6LY8Xh9j"
   },
   "source": [
    "# New Section"
   ]
  },
  {
   "cell_type": "markdown",
   "metadata": {
    "id": "_lbyY9wFXwnC"
   },
   "source": [
    "# New Section"
   ]
  },
  {
   "cell_type": "markdown",
   "metadata": {
    "id": "SBWgfOvwX_Qi"
   },
   "source": [
    "# New Section"
   ]
  },
  {
   "cell_type": "markdown",
   "metadata": {
    "id": "rndzzn0EYN6D"
   },
   "source": [
    "# New Section"
   ]
  },
  {
   "cell_type": "markdown",
   "metadata": {
    "id": "yutLsZR4Ycjk"
   },
   "source": [
    "# New Section"
   ]
  },
  {
   "cell_type": "markdown",
   "metadata": {
    "id": "08hVpmC2YrND"
   },
   "source": [
    "# New Section"
   ]
  },
  {
   "cell_type": "markdown",
   "metadata": {
    "id": "nPdRBV-QY52j"
   },
   "source": [
    "# New Section"
   ]
  },
  {
   "cell_type": "markdown",
   "metadata": {
    "id": "cM3YjoiTZIgF"
   },
   "source": [
    "# New Section"
   ]
  },
  {
   "cell_type": "markdown",
   "metadata": {
    "id": "bsBsYVz2ZXJj"
   },
   "source": [
    "# New Section"
   ]
  },
  {
   "cell_type": "markdown",
   "metadata": {
    "id": "0xUIBtLMZlzF"
   },
   "source": [
    "# New Section"
   ]
  },
  {
   "cell_type": "markdown",
   "metadata": {
    "id": "mDGrBHKbZ0cg"
   },
   "source": [
    "# New Section"
   ]
  },
  {
   "cell_type": "markdown",
   "metadata": {
    "id": "pqQeUBO_aDGW"
   },
   "source": [
    "# New Section"
   ]
  },
  {
   "cell_type": "markdown",
   "metadata": {
    "id": "OowU4AFiaRvh"
   },
   "source": [
    "# New Section"
   ]
  },
  {
   "cell_type": "markdown",
   "metadata": {
    "id": "9gCA1LToagZF"
   },
   "source": [
    "# New Section"
   ]
  },
  {
   "cell_type": "markdown",
   "metadata": {
    "id": "R4mPnUgRavCj"
   },
   "source": [
    "# New Section"
   ]
  },
  {
   "cell_type": "markdown",
   "metadata": {
    "id": "kaqExFPqa9sE"
   },
   "source": [
    "# New Section"
   ]
  },
  {
   "cell_type": "markdown",
   "metadata": {
    "id": "ADoE_Q9ybMVl"
   },
   "source": [
    "# New Section"
   ]
  },
  {
   "cell_type": "markdown",
   "metadata": {
    "id": "X7tMDwvoba_E"
   },
   "source": [
    "# New Section"
   ]
  },
  {
   "cell_type": "markdown",
   "metadata": {
    "id": "izaMRu3rbpoj"
   },
   "source": [
    "# New Section"
   ]
  },
  {
   "cell_type": "markdown",
   "metadata": {
    "id": "N3f7Bfxrb4SE"
   },
   "source": [
    "# New Section"
   ]
  },
  {
   "cell_type": "markdown",
   "metadata": {
    "id": "v5bjkSsucG8A"
   },
   "source": [
    "# New Section"
   ]
  },
  {
   "cell_type": "markdown",
   "metadata": {
    "id": "sb61Q1w9cVlE"
   },
   "source": [
    "# New Section"
   ]
  },
  {
   "cell_type": "markdown",
   "metadata": {
    "id": "DGt7ZPOdckOj"
   },
   "source": [
    "# New Section"
   ]
  },
  {
   "cell_type": "markdown",
   "metadata": {
    "id": "HOqPuUG-cy4N"
   },
   "source": [
    "# New Section"
   ]
  },
  {
   "cell_type": "markdown",
   "metadata": {
    "id": "6Xxi9mIVdBhi"
   },
   "source": [
    "# New Section"
   ]
  },
  {
   "cell_type": "markdown",
   "metadata": {
    "id": "5emXet84dQLB"
   },
   "source": [
    "# New Section"
   ]
  },
  {
   "cell_type": "markdown",
   "metadata": {
    "id": "TN3rPs3Pde01"
   },
   "source": [
    "# New Section"
   ]
  },
  {
   "cell_type": "markdown",
   "metadata": {
    "id": "flk5ZUDLdteA"
   },
   "source": [
    "# New Section"
   ]
  },
  {
   "cell_type": "markdown",
   "metadata": {
    "id": "_IubwZuQd8H2"
   },
   "source": [
    "# New Section"
   ]
  },
  {
   "cell_type": "markdown",
   "metadata": {
    "id": "MWGyjVH9eKxC"
   },
   "source": [
    "# New Section"
   ]
  },
  {
   "cell_type": "markdown",
   "metadata": {
    "id": "m5gKQlUneZah"
   },
   "source": [
    "# New Section"
   ]
  },
  {
   "cell_type": "markdown",
   "metadata": {
    "id": "3lDiN8RZeoEB"
   },
   "source": [
    "# New Section"
   ]
  },
  {
   "cell_type": "markdown",
   "metadata": {
    "id": "bHSYc3iRe2t6"
   },
   "source": [
    "# New Section"
   ]
  },
  {
   "cell_type": "markdown",
   "metadata": {
    "id": "RH9Kn-0pfFXE"
   },
   "source": [
    "# New Section"
   ]
  },
  {
   "cell_type": "markdown",
   "metadata": {
    "id": "Kor5Nx3gfUAk"
   },
   "source": [
    "# New Section"
   ]
  },
  {
   "cell_type": "markdown",
   "metadata": {
    "id": "jzzLzT8afiqG"
   },
   "source": [
    "# New Section"
   ]
  },
  {
   "cell_type": "markdown",
   "metadata": {
    "id": "9y94CH-UfxTi"
   },
   "source": [
    "# New Section"
   ]
  },
  {
   "cell_type": "markdown",
   "metadata": {
    "id": "938aTzSuf_9E"
   },
   "source": [
    "# New Section"
   ]
  },
  {
   "cell_type": "markdown",
   "metadata": {
    "id": "HSXCaaqYgOmo"
   },
   "source": [
    "# New Section"
   ]
  },
  {
   "cell_type": "markdown",
   "metadata": {
    "id": "X8GRWs-RgdQD"
   },
   "source": [
    "# New Section"
   ]
  },
  {
   "cell_type": "markdown",
   "metadata": {
    "id": "1Ed4hmiygr5j"
   },
   "source": [
    "# New Section"
   ]
  },
  {
   "cell_type": "markdown",
   "metadata": {
    "id": "wLId56Jyg6jE"
   },
   "source": [
    "# New Section"
   ]
  },
  {
   "cell_type": "markdown",
   "metadata": {
    "id": "cqjlwwCdhJMl"
   },
   "source": [
    "# New Section"
   ]
  },
  {
   "cell_type": "markdown",
   "metadata": {
    "id": "NPEVZdsphX2D"
   },
   "source": [
    "# New Section"
   ]
  },
  {
   "cell_type": "markdown",
   "metadata": {
    "id": "1LP-5RSYhmfj"
   },
   "source": [
    "# New Section"
   ]
  },
  {
   "cell_type": "markdown",
   "metadata": {
    "id": "L-Vovd6ch1JD"
   },
   "source": [
    "# New Section"
   ]
  },
  {
   "cell_type": "markdown",
   "metadata": {
    "id": "AuO3teb6iDyg"
   },
   "source": [
    "# New Section"
   ]
  },
  {
   "cell_type": "markdown",
   "metadata": {
    "id": "HmbuU2lDiScB"
   },
   "source": [
    "# New Section"
   ]
  },
  {
   "cell_type": "markdown",
   "metadata": {
    "id": "3nPK3fgdihFg"
   },
   "source": [
    "# New Section"
   ]
  },
  {
   "cell_type": "markdown",
   "metadata": {
    "id": "yCYZAJv4ivvN"
   },
   "source": [
    "# New Section"
   ]
  },
  {
   "cell_type": "markdown",
   "metadata": {
    "id": "7sypQ2aVi-Yl"
   },
   "source": [
    "# New Section"
   ]
  },
  {
   "cell_type": "markdown",
   "metadata": {
    "id": "CV2NlH9djNCR"
   },
   "source": [
    "# New Section"
   ]
  },
  {
   "cell_type": "markdown",
   "metadata": {
    "id": "FjttZTYXjbrw"
   },
   "source": [
    "# New Section"
   ]
  },
  {
   "cell_type": "markdown",
   "metadata": {
    "id": "OX2LCSv2jqVE"
   },
   "source": [
    "# New Section"
   ]
  },
  {
   "cell_type": "markdown",
   "metadata": {
    "id": "F7E4AVdvj4-h"
   },
   "source": [
    "# New Section"
   ]
  },
  {
   "cell_type": "markdown",
   "metadata": {
    "id": "-jJMtylekHoC"
   },
   "source": [
    "# New Section"
   ]
  },
  {
   "cell_type": "markdown",
   "metadata": {
    "id": "Vdfxy4Q0kWR9"
   },
   "source": [
    "# New Section"
   ]
  },
  {
   "cell_type": "markdown",
   "metadata": {
    "id": "kNJxG1AVkk7E"
   },
   "source": [
    "# New Section"
   ]
  },
  {
   "cell_type": "markdown",
   "metadata": {
    "id": "61zLDbSKkzkk"
   },
   "source": [
    "# New Section"
   ]
  },
  {
   "cell_type": "markdown",
   "metadata": {
    "id": "-Ib8viiVlCOD"
   },
   "source": [
    "# New Section"
   ]
  },
  {
   "cell_type": "markdown",
   "metadata": {
    "id": "xTYXv1A8lQ3h"
   },
   "source": [
    "# New Section"
   ]
  },
  {
   "cell_type": "markdown",
   "metadata": {
    "id": "5ede2iZYlfhD"
   },
   "source": [
    "# New Section"
   ]
  },
  {
   "cell_type": "markdown",
   "metadata": {
    "id": "NAtWEjeAluKj"
   },
   "source": [
    "# New Section"
   ]
  },
  {
   "cell_type": "markdown",
   "metadata": {
    "id": "XEHYcTjOl80D"
   },
   "source": [
    "# New Section"
   ]
  },
  {
   "cell_type": "markdown",
   "metadata": {
    "id": "vj_H93HhmLdj"
   },
   "source": [
    "# New Section"
   ]
  },
  {
   "cell_type": "markdown",
   "metadata": {
    "id": "4IGNQI2EmaHB"
   },
   "source": [
    "# New Section"
   ]
  },
  {
   "cell_type": "markdown",
   "metadata": {
    "id": "TfaOYmTXmowk"
   },
   "source": [
    "# New Section"
   ]
  },
  {
   "cell_type": "markdown",
   "metadata": {
    "id": "va0nDIOmm3aE"
   },
   "source": [
    "# New Section"
   ]
  },
  {
   "cell_type": "markdown",
   "metadata": {
    "id": "3SagYZpynGDk"
   },
   "source": [
    "# New Section"
   ]
  },
  {
   "cell_type": "markdown",
   "metadata": {
    "id": "Ykz3buIInUtb"
   },
   "source": [
    "# New Section"
   ]
  },
  {
   "cell_type": "markdown",
   "metadata": {
    "id": "tSMnYLTCnjXs"
   },
   "source": [
    "# New Section"
   ]
  },
  {
   "cell_type": "markdown",
   "metadata": {
    "id": "8TQD7M8JnyAO"
   },
   "source": [
    "# New Section"
   ]
  },
  {
   "cell_type": "markdown",
   "metadata": {
    "id": "l0BX4CNyoApk"
   },
   "source": [
    "# New Section"
   ]
  },
  {
   "cell_type": "markdown",
   "metadata": {
    "id": "dMtkBhT3oPTA"
   },
   "source": [
    "# New Section"
   ]
  },
  {
   "cell_type": "markdown",
   "metadata": {
    "id": "OZhz0qkuod8k"
   },
   "source": [
    "# New Section"
   ]
  },
  {
   "cell_type": "markdown",
   "metadata": {
    "id": "B2JxSsefosmE"
   },
   "source": [
    "# New Section"
   ]
  },
  {
   "cell_type": "markdown",
   "metadata": {
    "id": "t9Sz1u9jo7Pl"
   },
   "source": [
    "# New Section"
   ]
  },
  {
   "cell_type": "markdown",
   "metadata": {
    "id": "G5Bs2LgFpJ5A"
   },
   "source": [
    "# New Section"
   ]
  },
  {
   "cell_type": "markdown",
   "metadata": {
    "id": "zIhygdClpYim"
   },
   "source": [
    "# New Section"
   ]
  },
  {
   "cell_type": "markdown",
   "metadata": {
    "id": "0pnXxIhypnMG"
   },
   "source": [
    "# New Section"
   ]
  },
  {
   "cell_type": "markdown",
   "metadata": {
    "id": "gQRbxvAip11k"
   },
   "source": [
    "# New Section"
   ]
  },
  {
   "cell_type": "markdown",
   "metadata": {
    "id": "HcU0774mqEfB"
   },
   "source": [
    "# New Section"
   ]
  },
  {
   "cell_type": "markdown",
   "metadata": {
    "id": "9aN4tKXzqTIg"
   },
   "source": [
    "# New Section"
   ]
  },
  {
   "cell_type": "markdown",
   "metadata": {
    "id": "ONM5879iqhyH"
   },
   "source": [
    "# New Section"
   ]
  },
  {
   "cell_type": "markdown",
   "metadata": {
    "id": "uoRyo-evqwbm"
   },
   "source": [
    "# New Section"
   ]
  },
  {
   "cell_type": "markdown",
   "metadata": {
    "id": "GhJDf-A6q_FB"
   },
   "source": [
    "# New Section"
   ]
  },
  {
   "cell_type": "markdown",
   "metadata": {
    "id": "Bv--DCqmrNur"
   },
   "source": [
    "# New Section"
   ]
  },
  {
   "cell_type": "markdown",
   "metadata": {
    "id": "D0zhHnC_rcYa"
   },
   "source": [
    "# New Section"
   ]
  },
  {
   "cell_type": "markdown",
   "metadata": {
    "id": "3i0nmqehrrBn"
   },
   "source": [
    "# New Section"
   ]
  },
  {
   "cell_type": "markdown",
   "metadata": {
    "id": "9e-GQ-mxr5rB"
   },
   "source": [
    "# New Section"
   ]
  },
  {
   "cell_type": "markdown",
   "metadata": {
    "id": "sGAPfvZesIUt"
   },
   "source": [
    "# New Section"
   ]
  },
  {
   "cell_type": "markdown",
   "metadata": {
    "id": "WoASnL3QsW-C"
   },
   "source": [
    "# New Section"
   ]
  },
  {
   "cell_type": "markdown",
   "metadata": {
    "id": "fCL5ZNXlslnj"
   },
   "source": [
    "# New Section"
   ]
  },
  {
   "cell_type": "markdown",
   "metadata": {
    "id": "tyZmr8fts0RE"
   },
   "source": [
    "# New Section"
   ]
  },
  {
   "cell_type": "markdown",
   "metadata": {
    "id": "BqyXs3E0tC6i"
   },
   "source": [
    "# New Section"
   ]
  },
  {
   "cell_type": "markdown",
   "metadata": {
    "id": "MgFKGIsHtRkE"
   },
   "source": [
    "# New Section"
   ]
  },
  {
   "cell_type": "markdown",
   "metadata": {
    "id": "ML8UuHhXtgNj"
   },
   "source": [
    "# New Section"
   ]
  },
  {
   "cell_type": "markdown",
   "metadata": {
    "id": "CYYw1zQItu3E"
   },
   "source": [
    "# New Section"
   ]
  },
  {
   "cell_type": "markdown",
   "metadata": {
    "id": "IImkGLDJt9gh"
   },
   "source": [
    "# New Section"
   ]
  },
  {
   "cell_type": "markdown",
   "metadata": {
    "id": "gJ0ABuuHuMKE"
   },
   "source": [
    "# New Section"
   ]
  },
  {
   "cell_type": "markdown",
   "metadata": {
    "id": "hvE5ZNGnua0E"
   },
   "source": [
    "# New Section"
   ]
  },
  {
   "cell_type": "markdown",
   "metadata": {
    "id": "KQUSDVcWupdC"
   },
   "source": [
    "# New Section"
   ]
  },
  {
   "cell_type": "markdown",
   "metadata": {
    "id": "2aj9v2m-u4HF"
   },
   "source": [
    "# New Section"
   ]
  },
  {
   "cell_type": "markdown",
   "metadata": {
    "id": "xYV8Q9Z5vGwB"
   },
   "source": [
    "# New Section"
   ]
  },
  {
   "cell_type": "markdown",
   "metadata": {
    "id": "STbgqJbavVZg"
   },
   "source": [
    "# New Section"
   ]
  },
  {
   "cell_type": "markdown",
   "metadata": {
    "id": "0KT9u8P-vkDB"
   },
   "source": [
    "# New Section"
   ]
  },
  {
   "cell_type": "markdown",
   "metadata": {
    "id": "SVz9BC97vysg"
   },
   "source": [
    "# New Section"
   ]
  },
  {
   "cell_type": "markdown",
   "metadata": {
    "id": "LBsDB0mkwBWB"
   },
   "source": [
    "# New Section"
   ]
  },
  {
   "cell_type": "markdown",
   "metadata": {
    "id": "9-6jkfMdwQAi"
   },
   "source": [
    "# New Section"
   ]
  },
  {
   "cell_type": "markdown",
   "metadata": {
    "id": "I69ejKFzwepA"
   },
   "source": [
    "# New Section"
   ]
  },
  {
   "cell_type": "markdown",
   "metadata": {
    "id": "m92nGZhUwtSh"
   },
   "source": [
    "# New Section"
   ]
  },
  {
   "cell_type": "markdown",
   "metadata": {
    "id": "cs1nH2sXw78A"
   },
   "source": [
    "# New Section"
   ]
  },
  {
   "cell_type": "markdown",
   "metadata": {
    "id": "hBvngp2hxKmt"
   },
   "source": [
    "# New Section"
   ]
  },
  {
   "cell_type": "markdown",
   "metadata": {
    "id": "1oW2DX5vxZPB"
   },
   "source": [
    "# New Section"
   ]
  },
  {
   "cell_type": "markdown",
   "metadata": {
    "id": "RfCciPAKxn4j"
   },
   "source": [
    "# New Section"
   ]
  },
  {
   "cell_type": "markdown",
   "metadata": {
    "id": "QAEQnoasx2iF"
   },
   "source": [
    "# New Section"
   ]
  },
  {
   "cell_type": "markdown",
   "metadata": {
    "id": "6yZW3812yFLj"
   },
   "source": [
    "# New Section"
   ]
  },
  {
   "cell_type": "markdown",
   "metadata": {
    "id": "wpALKPjMyT1B"
   },
   "source": [
    "# New Section"
   ]
  },
  {
   "cell_type": "markdown",
   "metadata": {
    "id": "pKQ0tCiJyiej"
   },
   "source": [
    "# New Section"
   ]
  },
  {
   "cell_type": "markdown",
   "metadata": {
    "id": "5QedTc5AyxIA"
   },
   "source": [
    "# New Section"
   ]
  },
  {
   "cell_type": "markdown",
   "metadata": {
    "id": "i0Jbn6qgy_xh"
   },
   "source": [
    "# New Section"
   ]
  },
  {
   "cell_type": "markdown",
   "metadata": {
    "id": "m6xngExpzObL"
   },
   "source": [
    "# New Section"
   ]
  },
  {
   "cell_type": "markdown",
   "metadata": {
    "id": "j-YlB7rKzdEj"
   },
   "source": [
    "# New Section"
   ]
  },
  {
   "cell_type": "markdown",
   "metadata": {
    "id": "90M6MBYozruE"
   },
   "source": [
    "# New Section"
   ]
  },
  {
   "cell_type": "markdown",
   "metadata": {
    "id": "vIRKimFqz6Xk"
   },
   "source": [
    "# New Section"
   ]
  },
  {
   "cell_type": "markdown",
   "metadata": {
    "id": "Y5wWiMFr0JBC"
   },
   "source": [
    "# New Section"
   ]
  },
  {
   "cell_type": "markdown",
   "metadata": {
    "id": "y6QMTSr50Xqj"
   },
   "source": [
    "# New Section"
   ]
  },
  {
   "cell_type": "markdown",
   "metadata": {
    "id": "feT7RBSr0mUA"
   },
   "source": [
    "# New Section"
   ]
  },
  {
   "cell_type": "markdown",
   "metadata": {
    "id": "woehDWPS009h"
   },
   "source": [
    "# New Section"
   ]
  },
  {
   "cell_type": "markdown",
   "metadata": {
    "id": "pHISRRv31DnD"
   },
   "source": [
    "# New Section"
   ]
  },
  {
   "cell_type": "markdown",
   "metadata": {
    "id": "YSRJJDOQ1SQ_"
   },
   "source": [
    "# New Section"
   ]
  },
  {
   "cell_type": "markdown",
   "metadata": {
    "id": "gqete4M_1g6S"
   },
   "source": [
    "# New Section"
   ]
  },
  {
   "cell_type": "markdown",
   "metadata": {
    "id": "70hTc4ao1vjl"
   },
   "source": [
    "# New Section"
   ]
  },
  {
   "cell_type": "markdown",
   "metadata": {
    "id": "RvnG5nM91-NB"
   },
   "source": [
    "# New Section"
   ]
  },
  {
   "cell_type": "markdown",
   "metadata": {
    "id": "Pm1V2_mZ2M2l"
   },
   "source": [
    "# New Section"
   ]
  },
  {
   "cell_type": "markdown",
   "metadata": {
    "id": "_ex2qL5o2bgK"
   },
   "source": [
    "# New Section"
   ]
  },
  {
   "cell_type": "markdown",
   "metadata": {
    "id": "8uM1Sg7T2qJl"
   },
   "source": [
    "# New Section"
   ]
  },
  {
   "cell_type": "markdown",
   "metadata": {
    "id": "am1Lo0QN24zE"
   },
   "source": [
    "# New Section"
   ]
  },
  {
   "cell_type": "markdown",
   "metadata": {
    "id": "_z0u_Zy33Hck"
   },
   "source": [
    "# New Section"
   ]
  },
  {
   "cell_type": "markdown",
   "metadata": {
    "id": "XvMIcjS_3WGF"
   },
   "source": [
    "# New Section"
   ]
  },
  {
   "cell_type": "markdown",
   "metadata": {
    "id": "XKH8ci-p3kv-"
   },
   "source": [
    "# New Section"
   ]
  },
  {
   "cell_type": "markdown",
   "metadata": {
    "id": "cjhqAzzi3zZE"
   },
   "source": [
    "# New Section"
   ]
  },
  {
   "cell_type": "markdown",
   "metadata": {
    "id": "M_Dyz9l74CCh"
   },
   "source": [
    "# New Section"
   ]
  },
  {
   "cell_type": "markdown",
   "metadata": {
    "id": "jGHL1hoZ4QsE"
   },
   "source": [
    "# New Section"
   ]
  },
  {
   "cell_type": "markdown",
   "metadata": {
    "id": "zOnRoWFZ4fVi"
   },
   "source": [
    "# New Section"
   ]
  },
  {
   "cell_type": "markdown",
   "metadata": {
    "id": "C9KYEZN14t_E"
   },
   "source": [
    "# New Section"
   ]
  },
  {
   "cell_type": "markdown",
   "metadata": {
    "id": "6DRt8Num48oj"
   },
   "source": [
    "# New Section"
   ]
  },
  {
   "cell_type": "markdown",
   "metadata": {
    "id": "YlmErZsF5LSI"
   },
   "source": [
    "# New Section"
   ]
  },
  {
   "cell_type": "markdown",
   "metadata": {
    "id": "j18OWf0o5Z7g"
   },
   "source": [
    "# New Section"
   ]
  },
  {
   "cell_type": "markdown",
   "metadata": {
    "id": "JKkQHhTo5olA"
   },
   "source": [
    "# New Section"
   ]
  },
  {
   "cell_type": "markdown",
   "metadata": {
    "id": "mLCviL0i53Ok"
   },
   "source": [
    "# New Section"
   ]
  },
  {
   "cell_type": "markdown",
   "metadata": {
    "id": "pvDRK-wD6F4B"
   },
   "source": [
    "# New Section"
   ]
  },
  {
   "cell_type": "markdown",
   "metadata": {
    "id": "yEPXqvyw6Uhh"
   },
   "source": [
    "# New Section"
   ]
  },
  {
   "cell_type": "markdown",
   "metadata": {
    "id": "huPJFV5W6jLG"
   },
   "source": [
    "# New Section"
   ]
  },
  {
   "cell_type": "markdown",
   "metadata": {
    "id": "i9Aa2XTM6x0l"
   },
   "source": [
    "# New Section"
   ]
  },
  {
   "cell_type": "markdown",
   "metadata": {
    "id": "ZICFKK1g7AeB"
   },
   "source": [
    "# New Section"
   ]
  },
  {
   "cell_type": "markdown",
   "metadata": {
    "id": "Y3K9mH_M7PHk"
   },
   "source": [
    "# New Section"
   ]
  },
  {
   "cell_type": "markdown",
   "metadata": {
    "id": "yjtTiYVF7dxE"
   },
   "source": [
    "# New Section"
   ]
  },
  {
   "cell_type": "markdown",
   "metadata": {
    "id": "FQJQ_RYE7saj"
   },
   "source": [
    "# New Section"
   ]
  },
  {
   "cell_type": "markdown",
   "metadata": {
    "id": "P2d5PcYZ77EB"
   },
   "source": [
    "# New Section"
   ]
  },
  {
   "cell_type": "markdown",
   "metadata": {
    "id": "HAJkHA-n8Jti"
   },
   "source": [
    "# New Section"
   ]
  },
  {
   "cell_type": "markdown",
   "metadata": {
    "id": "qzrQPz6d8YXE"
   },
   "source": [
    "# New Section"
   ]
  },
  {
   "cell_type": "markdown",
   "metadata": {
    "id": "iNUy5T768nAr"
   },
   "source": [
    "# New Section"
   ]
  },
  {
   "cell_type": "markdown",
   "metadata": {
    "id": "x2Jz1Ts-81qD"
   },
   "source": [
    "# New Section"
   ]
  },
  {
   "cell_type": "markdown",
   "metadata": {
    "id": "JFkXad3P9EUK"
   },
   "source": [
    "# New Section"
   ]
  },
  {
   "cell_type": "markdown",
   "metadata": {
    "id": "3zZkMfZw9S9E"
   },
   "source": [
    "# New Section"
   ]
  },
  {
   "cell_type": "markdown",
   "metadata": {
    "id": "XogVn4n39hml"
   },
   "source": [
    "# New Section"
   ]
  },
  {
   "cell_type": "markdown",
   "metadata": {
    "id": "iRzcTGXX9wQD"
   },
   "source": [
    "# New Section"
   ]
  },
  {
   "cell_type": "markdown",
   "metadata": {
    "id": "BDNBIhHX9-5i"
   },
   "source": [
    "# New Section"
   ]
  },
  {
   "cell_type": "markdown",
   "metadata": {
    "id": "OeCdJtwg-NjE"
   },
   "source": [
    "# New Section"
   ]
  },
  {
   "cell_type": "markdown",
   "metadata": {
    "id": "hhwOHxwC-cMk"
   },
   "source": [
    "# New Section"
   ]
  },
  {
   "cell_type": "markdown",
   "metadata": {
    "id": "yMDFUg8X-q2I"
   },
   "source": [
    "# New Section"
   ]
  },
  {
   "cell_type": "markdown",
   "metadata": {
    "id": "CFTdnNuc-5fl"
   },
   "source": [
    "# New Section"
   ]
  },
  {
   "cell_type": "markdown",
   "metadata": {
    "id": "24etkv4k_IJl"
   },
   "source": [
    "# New Section"
   ]
  },
  {
   "cell_type": "markdown",
   "metadata": {
    "id": "fLOxxftW_Wyl"
   },
   "source": [
    "# New Section"
   ]
  },
  {
   "cell_type": "markdown",
   "metadata": {
    "id": "IojsfT1S_lcF"
   },
   "source": [
    "# New Section"
   ]
  },
  {
   "cell_type": "markdown",
   "metadata": {
    "id": "b6LA5K36_0Fh"
   },
   "source": [
    "# New Section"
   ]
  },
  {
   "cell_type": "markdown",
   "metadata": {
    "id": "Kd5T1EOsACvO"
   },
   "source": [
    "# New Section"
   ]
  },
  {
   "cell_type": "markdown",
   "metadata": {
    "id": "0-CQn1heARYk"
   },
   "source": [
    "# New Section"
   ]
  },
  {
   "cell_type": "markdown",
   "metadata": {
    "id": "_aB95YLJAgCB"
   },
   "source": [
    "# New Section"
   ]
  },
  {
   "cell_type": "markdown",
   "metadata": {
    "id": "zV5hX0UTAuri"
   },
   "source": [
    "# New Section"
   ]
  },
  {
   "cell_type": "markdown",
   "metadata": {
    "id": "D40GZcq2A9VJ"
   },
   "source": [
    "# New Section"
   ]
  },
  {
   "cell_type": "markdown",
   "metadata": {
    "id": "3pZ8UH3aBL-k"
   },
   "source": [
    "# New Section"
   ]
  },
  {
   "cell_type": "markdown",
   "metadata": {
    "id": "lmVgUwuhBaoE"
   },
   "source": [
    "# New Section"
   ]
  },
  {
   "cell_type": "markdown",
   "metadata": {
    "id": "Tk46ReQrBpSd"
   },
   "source": [
    "# New Section"
   ]
  },
  {
   "cell_type": "markdown",
   "metadata": {
    "id": "UyCbA1NdB37B"
   },
   "source": [
    "# New Section"
   ]
  },
  {
   "cell_type": "markdown",
   "metadata": {
    "id": "NUmcLneXCGlG"
   },
   "source": [
    "# New Section"
   ]
  },
  {
   "cell_type": "markdown",
   "metadata": {
    "id": "CpLuoKULCVOE"
   },
   "source": [
    "# New Section"
   ]
  },
  {
   "cell_type": "markdown",
   "metadata": {
    "id": "J9tLjJwhCj3l"
   },
   "source": [
    "# New Section"
   ]
  },
  {
   "cell_type": "markdown",
   "metadata": {
    "id": "BWjHIxjcCyhE"
   },
   "source": [
    "# New Section"
   ]
  },
  {
   "cell_type": "markdown",
   "metadata": {
    "id": "teMCedAdDBKl"
   },
   "source": [
    "# New Section"
   ]
  },
  {
   "cell_type": "markdown",
   "metadata": {
    "id": "aW1IfOZmDP0i"
   },
   "source": [
    "# New Section"
   ]
  },
  {
   "cell_type": "markdown",
   "metadata": {
    "id": "jSnDmlrcDedn"
   },
   "source": [
    "# New Section"
   ]
  },
  {
   "cell_type": "markdown",
   "metadata": {
    "id": "0YMHky6ODtHQ"
   },
   "source": [
    "# New Section"
   ]
  },
  {
   "cell_type": "markdown",
   "metadata": {
    "id": "6kXeg-uDD7wh"
   },
   "source": [
    "# New Section"
   ]
  },
  {
   "cell_type": "markdown",
   "metadata": {
    "id": "D8cUIX5mEKaB"
   },
   "source": [
    "# New Section"
   ]
  },
  {
   "cell_type": "markdown",
   "metadata": {
    "id": "tlnMXKLDEZDh"
   },
   "source": [
    "# New Section"
   ]
  },
  {
   "cell_type": "markdown",
   "metadata": {
    "id": "jG4yTReVEnuE"
   },
   "source": [
    "# New Section"
   ]
  },
  {
   "cell_type": "markdown",
   "metadata": {
    "id": "bxV1mRj9E2Wl"
   },
   "source": [
    "# New Section"
   ]
  },
  {
   "cell_type": "markdown",
   "metadata": {
    "id": "8U3q09lHFFAC"
   },
   "source": [
    "# New Section"
   ]
  },
  {
   "cell_type": "markdown",
   "metadata": {
    "id": "-X6CviKlFTp0"
   },
   "source": [
    "# New Section"
   ]
  },
  {
   "cell_type": "markdown",
   "metadata": {
    "id": "6GvGZqy7FiTE"
   },
   "source": [
    "# New Section"
   ]
  },
  {
   "cell_type": "markdown",
   "metadata": {
    "id": "_idopn7_Fw8k"
   },
   "source": [
    "# New Section"
   ]
  },
  {
   "cell_type": "markdown",
   "metadata": {
    "id": "SutQRJxEF_mB"
   },
   "source": [
    "# New Section"
   ]
  },
  {
   "cell_type": "markdown",
   "metadata": {
    "id": "Z6fNVrJDGOPq"
   },
   "source": [
    "# New Section"
   ]
  },
  {
   "cell_type": "markdown",
   "metadata": {
    "id": "_YJ9UVQDGc5B"
   },
   "source": [
    "# New Section"
   ]
  },
  {
   "cell_type": "markdown",
   "metadata": {
    "id": "3LFwp18lGris"
   },
   "source": [
    "# New Section"
   ]
  },
  {
   "cell_type": "markdown",
   "metadata": {
    "id": "CXfArNdmG6ML"
   },
   "source": [
    "# New Section"
   ]
  },
  {
   "cell_type": "markdown",
   "metadata": {
    "id": "aARkCpn3HI22"
   },
   "source": [
    "# New Section"
   ]
  },
  {
   "cell_type": "markdown",
   "metadata": {
    "id": "Kb7BnzBVHXfF"
   },
   "source": [
    "# New Section"
   ]
  },
  {
   "cell_type": "markdown",
   "metadata": {
    "id": "Ex9ftqkIHmIh"
   },
   "source": [
    "# New Section"
   ]
  },
  {
   "cell_type": "markdown",
   "metadata": {
    "id": "8ZUF3mEAH0yC"
   },
   "source": [
    "# New Section"
   ]
  },
  {
   "cell_type": "markdown",
   "metadata": {
    "id": "m8mHlq8cIDcB"
   },
   "source": [
    "# New Section"
   ]
  },
  {
   "cell_type": "markdown",
   "metadata": {
    "id": "-gwPWM-uISFD"
   },
   "source": [
    "# New Section"
   ]
  },
  {
   "cell_type": "markdown",
   "metadata": {
    "id": "8bTyEFCwIgul"
   },
   "source": [
    "# New Section"
   ]
  },
  {
   "cell_type": "markdown",
   "metadata": {
    "id": "Lc3EPrBVIvYB"
   },
   "source": [
    "# New Section"
   ]
  },
  {
   "cell_type": "markdown",
   "metadata": {
    "id": "ZhHYs01gI-Bt"
   },
   "source": [
    "# New Section"
   ]
  },
  {
   "cell_type": "markdown",
   "metadata": {
    "id": "iIGNGJ4KJMrE"
   },
   "source": [
    "# New Section"
   ]
  },
  {
   "cell_type": "markdown",
   "metadata": {
    "id": "NmUDuxIWJbUk"
   },
   "source": [
    "# New Section"
   ]
  },
  {
   "cell_type": "markdown",
   "metadata": {
    "id": "bvZvAJp5Jp-B"
   },
   "source": [
    "# New Section"
   ]
  },
  {
   "cell_type": "markdown",
   "metadata": {
    "id": "6v0jjCKiJ4nm"
   },
   "source": [
    "# New Section"
   ]
  },
  {
   "cell_type": "markdown",
   "metadata": {
    "id": "Rp5WTcN4KHRJ"
   },
   "source": [
    "# New Section"
   ]
  },
  {
   "cell_type": "markdown",
   "metadata": {
    "id": "cxcWhWnaKV6k"
   },
   "source": [
    "# New Section"
   ]
  },
  {
   "cell_type": "markdown",
   "metadata": {
    "id": "P87sbNnBKkkB"
   },
   "source": [
    "# New Section"
   ]
  },
  {
   "cell_type": "markdown",
   "metadata": {
    "id": "kb2zG6iliY9i"
   },
   "source": [
    "# New Section"
   ]
  }
 ],
 "metadata": {
  "accelerator": "GPU",
  "colab": {
   "authorship_tag": "ABX9TyPvbV7t7+9GILZGnE3OugxL",
   "mount_file_id": "1ZaJpHCc5C4r3j2cqwDY_lwm6n0bDdlgV",
   "name": "Plant Disease Detection.ipynb",
   "provenance": [],
   "toc_visible": true
  },
  "kernelspec": {
   "display_name": "Python 3",
   "language": "python",
   "name": "python3"
  },
  "language_info": {
   "codemirror_mode": {
    "name": "ipython",
    "version": 3
   },
   "file_extension": ".py",
   "mimetype": "text/x-python",
   "name": "python",
   "nbconvert_exporter": "python",
   "pygments_lexer": "ipython3",
   "version": "3.8.2"
  }
 },
 "nbformat": 4,
 "nbformat_minor": 1
}
