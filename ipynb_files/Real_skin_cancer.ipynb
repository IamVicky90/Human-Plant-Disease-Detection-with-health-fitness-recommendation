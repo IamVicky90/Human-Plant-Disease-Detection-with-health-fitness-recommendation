{
  "nbformat": 4,
  "nbformat_minor": 0,
  "metadata": {
    "colab": {
      "name": "Real skin cancer.ipynb",
      "provenance": [],
      "collapsed_sections": [],
      "machine_shape": "hm"
    },
    "kernelspec": {
      "name": "python3",
      "display_name": "Python 3"
    },
    "accelerator": "GPU"
  },
  "cells": [
    {
      "cell_type": "code",
      "metadata": {
        "id": "pafL7Li0jyXW",
        "colab": {
          "base_uri": "https://localhost:8080/"
        },
        "outputId": "165d567b-054f-4afd-bf58-1e29833b468d"
      },
      "source": [
        "!nvidia-smi # To see the GPU present in Collab itself."
      ],
      "execution_count": null,
      "outputs": [
        {
          "output_type": "stream",
          "text": [
            "Thu Feb  4 18:09:10 2021       \n",
            "+-----------------------------------------------------------------------------+\n",
            "| NVIDIA-SMI 460.39       Driver Version: 418.67       CUDA Version: 10.1     |\n",
            "|-------------------------------+----------------------+----------------------+\n",
            "| GPU  Name        Persistence-M| Bus-Id        Disp.A | Volatile Uncorr. ECC |\n",
            "| Fan  Temp  Perf  Pwr:Usage/Cap|         Memory-Usage | GPU-Util  Compute M. |\n",
            "|                               |                      |               MIG M. |\n",
            "|===============================+======================+======================|\n",
            "|   0  Tesla P100-PCIE...  Off  | 00000000:00:04.0 Off |                    0 |\n",
            "| N/A   35C    P0    26W / 250W |      0MiB / 16280MiB |      0%      Default |\n",
            "|                               |                      |                 ERR! |\n",
            "+-------------------------------+----------------------+----------------------+\n",
            "                                                                               \n",
            "+-----------------------------------------------------------------------------+\n",
            "| Processes:                                                                  |\n",
            "|  GPU   GI   CI        PID   Type   Process name                  GPU Memory |\n",
            "|        ID   ID                                                   Usage      |\n",
            "|=============================================================================|\n",
            "|  No running processes found                                                 |\n",
            "+-----------------------------------------------------------------------------+\n"
          ],
          "name": "stdout"
        }
      ]
    },
    {
      "cell_type": "code",
      "metadata": {
        "colab": {
          "base_uri": "https://localhost:8080/"
        },
        "id": "ScSjT9CMiolT",
        "outputId": "fab54e2e-70ef-4812-bca4-5f68f7f961dc"
      },
      "source": [
        "from google.colab import drive # To mount drive\r\n",
        "drive.mount('/content/drive')"
      ],
      "execution_count": null,
      "outputs": [
        {
          "output_type": "stream",
          "text": [
            "Mounted at /content/drive\n"
          ],
          "name": "stdout"
        }
      ]
    },
    {
      "cell_type": "code",
      "metadata": {
        "id": "Y191UOg8irZm"
      },
      "source": [
        "from tensorflow.keras.layers import Conv2D,Dense,Flatten # Some convolutional Neural Networks things\r\n",
        "from tensorflow.keras.applications.vgg16 import VGG16 # Pretrained model\r\n",
        "from tensorflow.keras import Model # Importing model\r\n",
        "from tensorflow.keras import callbacks # To save the best model\r\n",
        "from tensorflow.keras.preprocessing.image import ImageDataGenerator # For Data Augmentation"
      ],
      "execution_count": null,
      "outputs": []
    },
    {
      "cell_type": "code",
      "metadata": {
        "id": "G6SCpV-4kCwv",
        "colab": {
          "base_uri": "https://localhost:8080/"
        },
        "outputId": "6bea7511-a709-4bbf-d24b-75c5734fcaa0"
      },
      "source": [
        "vgg16=VGG16(include_top=False,weights='imagenet',input_shape=[224,224,3]) # Dowloading the resnet and removinf first and last layers"
      ],
      "execution_count": null,
      "outputs": [
        {
          "output_type": "stream",
          "text": [
            "Downloading data from https://storage.googleapis.com/tensorflow/keras-applications/vgg16/vgg16_weights_tf_dim_ordering_tf_kernels_notop.h5\n",
            "58892288/58889256 [==============================] - 0s 0us/step\n"
          ],
          "name": "stdout"
        }
      ]
    },
    {
      "cell_type": "code",
      "metadata": {
        "id": "1hcbwLggkjKe"
      },
      "source": [
        "for layer in vgg16.layers:\r\n",
        "  layer.trainable=False # we don't want to train existing weights"
      ],
      "execution_count": null,
      "outputs": []
    },
    {
      "cell_type": "code",
      "metadata": {
        "id": "QYqIjz8Nky3e"
      },
      "source": [
        "x=Flatten()(vgg16.output) # Flatten the output layer"
      ],
      "execution_count": null,
      "outputs": []
    },
    {
      "cell_type": "code",
      "metadata": {
        "id": "lCj5vGfwlCQq"
      },
      "source": [
        "output=Dense(2,'sigmoid')(x) # Ading a dense layer\r\n",
        "model=Model(inputs=vgg16.input,outputs=output) # Creating the model"
      ],
      "execution_count": null,
      "outputs": []
    },
    {
      "cell_type": "code",
      "metadata": {
        "id": "jUGo0b5glmak"
      },
      "source": [
        "train_path=\"/content/drive/MyDrive/Health App/skin cancer dl/data/train\" # Specifying the path for both train, and validations\r\n",
        "val_path=\"/content/drive/MyDrive/Health App/skin cancer dl/data/test\""
      ],
      "execution_count": null,
      "outputs": []
    },
    {
      "cell_type": "code",
      "metadata": {
        "id": "ZmgLS5_ol1Dp"
      },
      "source": [
        "train_image_gen=ImageDataGenerator(rescale=1/255, # Doing some Data Augmentation for train_images\r\n",
        "                                   shear_range=0.3,\r\n",
        "                                   zoom_range=0.2,\r\n",
        "                                   width_shift_range=0.2)\r\n",
        "val_image_gen=ImageDataGenerator(rescale=1/255) # Reclae the validation images"
      ],
      "execution_count": null,
      "outputs": []
    },
    {
      "cell_type": "code",
      "metadata": {
        "colab": {
          "base_uri": "https://localhost:8080/"
        },
        "id": "9Ogn0acSmYbn",
        "outputId": "6cfae7f8-f9ed-426c-f694-d753add7e644"
      },
      "source": [
        "# Now specifying the path, target size, class mode and batch size\r\n",
        "train_set=train_image_gen.flow_from_directory(train_path,target_size=(224,224),class_mode='categorical',batch_size=32)\r\n",
        "val_set=val_image_gen.flow_from_directory(val_path,target_size=(224,224),class_mode='categorical',batch_size=32)"
      ],
      "execution_count": null,
      "outputs": [
        {
          "output_type": "stream",
          "text": [
            "Found 2637 images belonging to 2 classes.\n",
            "Found 660 images belonging to 2 classes.\n"
          ],
          "name": "stdout"
        }
      ]
    },
    {
      "cell_type": "code",
      "metadata": {
        "id": "bIkDPCGkmkdy"
      },
      "source": [
        "# saving the model whose val_loss is very low\r\n",
        "check_points=callbacks.ModelCheckpoint(\"/content/drive/MyDrive/Health App/Model/skin cancer vgg16 model.h5\",verbose=2,monitor='val_accuracy',save_best_only=True)"
      ],
      "execution_count": null,
      "outputs": []
    },
    {
      "cell_type": "code",
      "metadata": {
        "id": "Y3_RBRUUqITk"
      },
      "source": [
        "# Compiling the model\r\n",
        "model.compile(optimizer='adam',loss='categorical_crossentropy',metrics=['accuracy'])"
      ],
      "execution_count": null,
      "outputs": []
    },
    {
      "cell_type": "code",
      "metadata": {
        "colab": {
          "base_uri": "https://localhost:8080/"
        },
        "id": "Lidqz12ammRg",
        "outputId": "659c337a-4bdd-4da2-e4ad-09b96068aa50"
      },
      "source": [
        "# Fiting the model\r\n",
        "history=model.fit(train_set,steps_per_epoch=len(train_set),\r\n",
        "                            epochs=50,verbose=1,\r\n",
        "                            validation_steps=len(val_set),callbacks=[check_points],\r\n",
        "                            validation_data=val_set)"
      ],
      "execution_count": null,
      "outputs": [
        {
          "output_type": "stream",
          "text": [
            "Epoch 1/50\n",
            "83/83 [==============================] - 2256s 27s/step - loss: 0.7443 - accuracy: 0.6822 - val_loss: 0.3784 - val_accuracy: 0.8227\n",
            "\n",
            "Epoch 00001: val_accuracy improved from -inf to 0.82273, saving model to /content/drive/MyDrive/Health App/Model/skin cancer vgg16 model.h5\n",
            "Epoch 2/50\n",
            "83/83 [==============================] - 32s 387ms/step - loss: 0.3541 - accuracy: 0.8453 - val_loss: 0.3396 - val_accuracy: 0.8394\n",
            "\n",
            "Epoch 00002: val_accuracy improved from 0.82273 to 0.83939, saving model to /content/drive/MyDrive/Health App/Model/skin cancer vgg16 model.h5\n",
            "Epoch 3/50\n",
            "83/83 [==============================] - 32s 388ms/step - loss: 0.3451 - accuracy: 0.8491 - val_loss: 0.3879 - val_accuracy: 0.8409\n",
            "\n",
            "Epoch 00003: val_accuracy improved from 0.83939 to 0.84091, saving model to /content/drive/MyDrive/Health App/Model/skin cancer vgg16 model.h5\n",
            "Epoch 4/50\n",
            "83/83 [==============================] - 32s 388ms/step - loss: 0.2929 - accuracy: 0.8722 - val_loss: 0.3586 - val_accuracy: 0.8364\n",
            "\n",
            "Epoch 00004: val_accuracy did not improve from 0.84091\n",
            "Epoch 5/50\n",
            "83/83 [==============================] - 32s 391ms/step - loss: 0.2994 - accuracy: 0.8724 - val_loss: 0.3494 - val_accuracy: 0.8379\n",
            "\n",
            "Epoch 00005: val_accuracy did not improve from 0.84091\n",
            "Epoch 6/50\n",
            "83/83 [==============================] - 32s 384ms/step - loss: 0.2799 - accuracy: 0.8830 - val_loss: 0.3312 - val_accuracy: 0.8591\n",
            "\n",
            "Epoch 00006: val_accuracy improved from 0.84091 to 0.85909, saving model to /content/drive/MyDrive/Health App/Model/skin cancer vgg16 model.h5\n",
            "Epoch 7/50\n",
            "83/83 [==============================] - 32s 384ms/step - loss: 0.2941 - accuracy: 0.8811 - val_loss: 0.4535 - val_accuracy: 0.8242\n",
            "\n",
            "Epoch 00007: val_accuracy did not improve from 0.85909\n",
            "Epoch 8/50\n",
            "83/83 [==============================] - 32s 387ms/step - loss: 0.2823 - accuracy: 0.8781 - val_loss: 0.3489 - val_accuracy: 0.8455\n",
            "\n",
            "Epoch 00008: val_accuracy did not improve from 0.85909\n",
            "Epoch 9/50\n",
            "83/83 [==============================] - 32s 384ms/step - loss: 0.2631 - accuracy: 0.8868 - val_loss: 0.3384 - val_accuracy: 0.8561\n",
            "\n",
            "Epoch 00009: val_accuracy did not improve from 0.85909\n",
            "Epoch 10/50\n",
            "83/83 [==============================] - 32s 388ms/step - loss: 0.2876 - accuracy: 0.8767 - val_loss: 0.3433 - val_accuracy: 0.8500\n",
            "\n",
            "Epoch 00010: val_accuracy did not improve from 0.85909\n",
            "Epoch 11/50\n",
            "83/83 [==============================] - 32s 384ms/step - loss: 0.2866 - accuracy: 0.8748 - val_loss: 0.5791 - val_accuracy: 0.7682\n",
            "\n",
            "Epoch 00011: val_accuracy did not improve from 0.85909\n",
            "Epoch 12/50\n",
            "83/83 [==============================] - 32s 388ms/step - loss: 0.3086 - accuracy: 0.8621 - val_loss: 0.4774 - val_accuracy: 0.8197\n",
            "\n",
            "Epoch 00012: val_accuracy did not improve from 0.85909\n",
            "Epoch 13/50\n",
            "83/83 [==============================] - 32s 385ms/step - loss: 0.2573 - accuracy: 0.8864 - val_loss: 0.3530 - val_accuracy: 0.8561\n",
            "\n",
            "Epoch 00013: val_accuracy did not improve from 0.85909\n",
            "Epoch 14/50\n",
            "83/83 [==============================] - 32s 386ms/step - loss: 0.2322 - accuracy: 0.8985 - val_loss: 0.3866 - val_accuracy: 0.8470\n",
            "\n",
            "Epoch 00014: val_accuracy did not improve from 0.85909\n",
            "Epoch 15/50\n",
            "83/83 [==============================] - 32s 389ms/step - loss: 0.2358 - accuracy: 0.8968 - val_loss: 0.3809 - val_accuracy: 0.8424\n",
            "\n",
            "Epoch 00015: val_accuracy did not improve from 0.85909\n",
            "Epoch 16/50\n",
            "83/83 [==============================] - 32s 384ms/step - loss: 0.2790 - accuracy: 0.8831 - val_loss: 0.3983 - val_accuracy: 0.8545\n",
            "\n",
            "Epoch 00016: val_accuracy did not improve from 0.85909\n",
            "Epoch 17/50\n",
            "83/83 [==============================] - 32s 384ms/step - loss: 0.2417 - accuracy: 0.9012 - val_loss: 0.3631 - val_accuracy: 0.8591\n",
            "\n",
            "Epoch 00017: val_accuracy did not improve from 0.85909\n",
            "Epoch 18/50\n",
            "83/83 [==============================] - 32s 384ms/step - loss: 0.2360 - accuracy: 0.9020 - val_loss: 0.3655 - val_accuracy: 0.8576\n",
            "\n",
            "Epoch 00018: val_accuracy did not improve from 0.85909\n",
            "Epoch 19/50\n",
            "83/83 [==============================] - 32s 383ms/step - loss: 0.2465 - accuracy: 0.8883 - val_loss: 0.3823 - val_accuracy: 0.8424\n",
            "\n",
            "Epoch 00019: val_accuracy did not improve from 0.85909\n",
            "Epoch 20/50\n",
            "83/83 [==============================] - 32s 383ms/step - loss: 0.2514 - accuracy: 0.8839 - val_loss: 0.3605 - val_accuracy: 0.8576\n",
            "\n",
            "Epoch 00020: val_accuracy did not improve from 0.85909\n",
            "Epoch 21/50\n",
            "83/83 [==============================] - 32s 384ms/step - loss: 0.2109 - accuracy: 0.9102 - val_loss: 0.3661 - val_accuracy: 0.8545\n",
            "\n",
            "Epoch 00021: val_accuracy did not improve from 0.85909\n",
            "Epoch 22/50\n",
            "83/83 [==============================] - 32s 383ms/step - loss: 0.2867 - accuracy: 0.8733 - val_loss: 0.3879 - val_accuracy: 0.8455\n",
            "\n",
            "Epoch 00022: val_accuracy did not improve from 0.85909\n",
            "Epoch 23/50\n",
            "83/83 [==============================] - 32s 383ms/step - loss: 0.2225 - accuracy: 0.9008 - val_loss: 0.3606 - val_accuracy: 0.8545\n",
            "\n",
            "Epoch 00023: val_accuracy did not improve from 0.85909\n",
            "Epoch 24/50\n",
            "83/83 [==============================] - 32s 381ms/step - loss: 0.1820 - accuracy: 0.9292 - val_loss: 0.4015 - val_accuracy: 0.8470\n",
            "\n",
            "Epoch 00024: val_accuracy did not improve from 0.85909\n",
            "Epoch 25/50\n",
            "83/83 [==============================] - 32s 389ms/step - loss: 0.2069 - accuracy: 0.9140 - val_loss: 0.4012 - val_accuracy: 0.8545\n",
            "\n",
            "Epoch 00025: val_accuracy did not improve from 0.85909\n",
            "Epoch 26/50\n",
            "83/83 [==============================] - 32s 384ms/step - loss: 0.1944 - accuracy: 0.9164 - val_loss: 0.3777 - val_accuracy: 0.8485\n",
            "\n",
            "Epoch 00026: val_accuracy did not improve from 0.85909\n",
            "Epoch 27/50\n",
            "83/83 [==============================] - 32s 387ms/step - loss: 0.2628 - accuracy: 0.8853 - val_loss: 0.3774 - val_accuracy: 0.8606\n",
            "\n",
            "Epoch 00027: val_accuracy improved from 0.85909 to 0.86061, saving model to /content/drive/MyDrive/Health App/Model/skin cancer vgg16 model.h5\n",
            "Epoch 28/50\n",
            "83/83 [==============================] - 32s 384ms/step - loss: 0.1716 - accuracy: 0.9349 - val_loss: 0.3648 - val_accuracy: 0.8621\n",
            "\n",
            "Epoch 00028: val_accuracy improved from 0.86061 to 0.86212, saving model to /content/drive/MyDrive/Health App/Model/skin cancer vgg16 model.h5\n",
            "Epoch 29/50\n",
            "83/83 [==============================] - 32s 385ms/step - loss: 0.1985 - accuracy: 0.9135 - val_loss: 0.3783 - val_accuracy: 0.8621\n",
            "\n",
            "Epoch 00029: val_accuracy did not improve from 0.86212\n",
            "Epoch 30/50\n",
            "83/83 [==============================] - 32s 386ms/step - loss: 0.1750 - accuracy: 0.9263 - val_loss: 0.3899 - val_accuracy: 0.8591\n",
            "\n",
            "Epoch 00030: val_accuracy did not improve from 0.86212\n",
            "Epoch 31/50\n",
            "83/83 [==============================] - 32s 387ms/step - loss: 0.1861 - accuracy: 0.9259 - val_loss: 0.3666 - val_accuracy: 0.8636\n",
            "\n",
            "Epoch 00031: val_accuracy improved from 0.86212 to 0.86364, saving model to /content/drive/MyDrive/Health App/Model/skin cancer vgg16 model.h5\n",
            "Epoch 32/50\n",
            "83/83 [==============================] - 32s 388ms/step - loss: 0.1877 - accuracy: 0.9145 - val_loss: 0.3793 - val_accuracy: 0.8576\n",
            "\n",
            "Epoch 00032: val_accuracy did not improve from 0.86364\n",
            "Epoch 33/50\n",
            "83/83 [==============================] - 32s 383ms/step - loss: 0.2009 - accuracy: 0.9159 - val_loss: 0.3746 - val_accuracy: 0.8576\n",
            "\n",
            "Epoch 00033: val_accuracy did not improve from 0.86364\n",
            "Epoch 34/50\n",
            "83/83 [==============================] - 32s 392ms/step - loss: 0.1748 - accuracy: 0.9254 - val_loss: 0.3643 - val_accuracy: 0.8606\n",
            "\n",
            "Epoch 00034: val_accuracy did not improve from 0.86364\n",
            "Epoch 35/50\n",
            "83/83 [==============================] - 32s 386ms/step - loss: 0.1777 - accuracy: 0.9319 - val_loss: 0.5004 - val_accuracy: 0.8288\n",
            "\n",
            "Epoch 00035: val_accuracy did not improve from 0.86364\n",
            "Epoch 36/50\n",
            "83/83 [==============================] - 32s 388ms/step - loss: 0.1838 - accuracy: 0.9224 - val_loss: 0.3784 - val_accuracy: 0.8591\n",
            "\n",
            "Epoch 00036: val_accuracy did not improve from 0.86364\n",
            "Epoch 37/50\n",
            "83/83 [==============================] - 32s 384ms/step - loss: 0.1957 - accuracy: 0.9112 - val_loss: 0.4117 - val_accuracy: 0.8591\n",
            "\n",
            "Epoch 00037: val_accuracy did not improve from 0.86364\n",
            "Epoch 38/50\n",
            "83/83 [==============================] - 32s 386ms/step - loss: 0.1595 - accuracy: 0.9350 - val_loss: 0.3927 - val_accuracy: 0.8485\n",
            "\n",
            "Epoch 00038: val_accuracy did not improve from 0.86364\n",
            "Epoch 39/50\n",
            "83/83 [==============================] - 32s 384ms/step - loss: 0.1731 - accuracy: 0.9413 - val_loss: 0.3790 - val_accuracy: 0.8561\n",
            "\n",
            "Epoch 00039: val_accuracy did not improve from 0.86364\n",
            "Epoch 40/50\n",
            "83/83 [==============================] - 32s 384ms/step - loss: 0.1681 - accuracy: 0.9335 - val_loss: 0.4009 - val_accuracy: 0.8500\n",
            "\n",
            "Epoch 00040: val_accuracy did not improve from 0.86364\n",
            "Epoch 41/50\n",
            "83/83 [==============================] - 32s 384ms/step - loss: 0.1884 - accuracy: 0.9138 - val_loss: 0.3724 - val_accuracy: 0.8591\n",
            "\n",
            "Epoch 00041: val_accuracy did not improve from 0.86364\n",
            "Epoch 42/50\n",
            "83/83 [==============================] - 32s 384ms/step - loss: 0.1528 - accuracy: 0.9418 - val_loss: 0.3737 - val_accuracy: 0.8652\n",
            "\n",
            "Epoch 00042: val_accuracy improved from 0.86364 to 0.86515, saving model to /content/drive/MyDrive/Health App/Model/skin cancer vgg16 model.h5\n",
            "Epoch 43/50\n",
            "83/83 [==============================] - 32s 383ms/step - loss: 0.1607 - accuracy: 0.9406 - val_loss: 0.4010 - val_accuracy: 0.8500\n",
            "\n",
            "Epoch 00043: val_accuracy did not improve from 0.86515\n",
            "Epoch 44/50\n",
            "83/83 [==============================] - 32s 387ms/step - loss: 0.1824 - accuracy: 0.9296 - val_loss: 0.3792 - val_accuracy: 0.8636\n",
            "\n",
            "Epoch 00044: val_accuracy did not improve from 0.86515\n",
            "Epoch 45/50\n",
            "83/83 [==============================] - 32s 385ms/step - loss: 0.1557 - accuracy: 0.9363 - val_loss: 0.3781 - val_accuracy: 0.8545\n",
            "\n",
            "Epoch 00045: val_accuracy did not improve from 0.86515\n",
            "Epoch 46/50\n",
            "83/83 [==============================] - 32s 385ms/step - loss: 0.1516 - accuracy: 0.9441 - val_loss: 0.3695 - val_accuracy: 0.8591\n",
            "\n",
            "Epoch 00046: val_accuracy did not improve from 0.86515\n",
            "Epoch 47/50\n",
            "83/83 [==============================] - 32s 384ms/step - loss: 0.1652 - accuracy: 0.9377 - val_loss: 0.3785 - val_accuracy: 0.8545\n",
            "\n",
            "Epoch 00047: val_accuracy did not improve from 0.86515\n",
            "Epoch 48/50\n",
            "83/83 [==============================] - 32s 382ms/step - loss: 0.1686 - accuracy: 0.9347 - val_loss: 0.5790 - val_accuracy: 0.8258\n",
            "\n",
            "Epoch 00048: val_accuracy did not improve from 0.86515\n",
            "Epoch 49/50\n",
            "83/83 [==============================] - 32s 386ms/step - loss: 0.1849 - accuracy: 0.9195 - val_loss: 0.4409 - val_accuracy: 0.8379\n",
            "\n",
            "Epoch 00049: val_accuracy did not improve from 0.86515\n",
            "Epoch 50/50\n",
            "83/83 [==============================] - 32s 387ms/step - loss: 0.1956 - accuracy: 0.9213 - val_loss: 0.3857 - val_accuracy: 0.8636\n",
            "\n",
            "Epoch 00050: val_accuracy did not improve from 0.86515\n"
          ],
          "name": "stdout"
        }
      ]
    },
    {
      "cell_type": "code",
      "metadata": {
        "id": "snFkgfPtntG4"
      },
      "source": [
        "import matplotlib.pyplot as plt # For visualization"
      ],
      "execution_count": null,
      "outputs": []
    },
    {
      "cell_type": "code",
      "metadata": {
        "id": "TjFM_MXvoT1g",
        "colab": {
          "base_uri": "https://localhost:8080/",
          "height": 517
        },
        "outputId": "8ee7cbe3-95cc-401f-ec24-71a1ef5ab4f0"
      },
      "source": [
        "# Plotting the graph to see, accuracy, val_accuracy, loss and val_loss.\r\n",
        "plt.plot(history.history['accuracy'],label='train_accuracy') \r\n",
        "plt.plot(history.history['val_accuracy'],label='val acuracy')\r\n",
        "plt.legend()\r\n",
        "plt.show()\r\n",
        "plt.plot(history.history['loss'],label='loss')\r\n",
        "plt.plot(history.history['val_loss'],label='val loss')\r\n",
        "plt.legend()\r\n",
        "plt.show()"
      ],
      "execution_count": null,
      "outputs": [
        {
          "output_type": "display_data",
          "data": {
            "image/png": "[encoded data removed]",
            "text/plain": [
              "<Figure size 432x288 with 1 Axes>"
            ]
          },
          "metadata": {
            "tags": [],
            "needs_background": "light"
          }
        },
        {
          "output_type": "display_data",
          "data": {
            "image/png": "[encoded data removed]",
            "text/plain": [
              "<Figure size 432x288 with 1 Axes>"
            ]
          },
          "metadata": {
            "tags": [],
            "needs_background": "light"
          }
        }
      ]
    },
    {
      "cell_type": "code",
      "metadata": {
        "id": "yHxIY_LOoWes"
      },
      "source": [
        ""
      ],
      "execution_count": null,
      "outputs": []
    }
  ]
}